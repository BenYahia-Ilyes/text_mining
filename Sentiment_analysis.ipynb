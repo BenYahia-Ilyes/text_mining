{
  "nbformat": 4,
  "nbformat_minor": 0,
  "metadata": {
    "colab": {
      "name": "Sentiment analysis.ipynb",
      "provenance": [],
      "collapsed_sections": [
        "NsJDCjztN6_O",
        "rs_qhLpMih4k",
        "XL3xeb8NqE78",
        "sVOUWFaRQJ65",
        "5bLYGY66QQKV",
        "wx8HfMLjQlPa",
        "T7krCYDpA1-u"
      ]
    },
    "kernelspec": {
      "name": "python3",
      "display_name": "Python 3"
    },
    "accelerator": "GPU"
  },
  "cells": [
    {
      "cell_type": "code",
      "metadata": {
        "id": "3WV5MpjgSGMR",
        "colab_type": "code",
        "outputId": "702c5386-5420-4bc4-9750-1f4b686c537b",
        "colab": {
          "base_uri": "https://localhost:8080/",
          "height": 120
        }
      },
      "source": [
        "from google.colab import drive\n",
        "drive.mount('/content/gdrive')\n"
      ],
      "execution_count": 0,
      "outputs": [
        {
          "output_type": "stream",
          "text": [
            "Go to this URL in a browser: https://accounts.google.com/o/oauth2/auth?client_id=947318989803-6bn6qk8qdgf4n4g3pfee6491hc0brc4i.apps.googleusercontent.com&redirect_uri=urn%3aietf%3awg%3aoauth%3a2.0%3aoob&response_type=code&scope=email%20https%3a%2f%2fwww.googleapis.com%2fauth%2fdocs.test%20https%3a%2f%2fwww.googleapis.com%2fauth%2fdrive%20https%3a%2f%2fwww.googleapis.com%2fauth%2fdrive.photos.readonly%20https%3a%2f%2fwww.googleapis.com%2fauth%2fpeopleapi.readonly\n",
            "\n",
            "Enter your authorization code:\n",
            "··········\n",
            "Mounted at /content/gdrive\n"
          ],
          "name": "stdout"
        }
      ]
    },
    {
      "cell_type": "code",
      "metadata": {
        "id": "SzT1UrUSeiLl",
        "colab_type": "code",
        "colab": {}
      },
      "source": [
        "import os\n",
        "os.chdir('gdrive/My Drive/text_mining/TP2')"
      ],
      "execution_count": 0,
      "outputs": []
    },
    {
      "cell_type": "code",
      "metadata": {
        "id": "amr9X3H8fVnh",
        "colab_type": "code",
        "outputId": "172f40c0-e120-4380-f105-c3a8f1d26214",
        "colab": {
          "base_uri": "https://localhost:8080/",
          "height": 33
        }
      },
      "source": [
        "!ls"
      ],
      "execution_count": 0,
      "outputs": [
        {
          "output_type": "stream",
          "text": [
            "Tweets.csv\n"
          ],
          "name": "stdout"
        }
      ]
    },
    {
      "cell_type": "code",
      "metadata": {
        "id": "6PURNVwUfgWj",
        "colab_type": "code",
        "colab": {}
      },
      "source": [
        "os.chdir('"
      ],
      "execution_count": 0,
      "outputs": []
    },
    {
      "cell_type": "code",
      "metadata": {
        "id": "d4F__N3DftUk",
        "colab_type": "code",
        "outputId": "be9745d6-9098-4d10-9b88-0eeaceac5b2f",
        "colab": {
          "resources": {
            "http://localhost:8080/nbextensions/google.colab/files.js": {
              "data": "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",
              "ok": true,
              "headers": [
                [
                  "content-type",
                  "application/javascript"
                ]
              ],
              "status": 200,
              "status_text": ""
            }
          },
          "base_uri": "https://localhost:8080/",
          "height": 74
        }
      },
      "source": [
        "from google.colab import files\n",
        "# Install Kaggle library\n",
        "\n",
        "uploaded = files.upload()"
      ],
      "execution_count": 0,
      "outputs": [
        {
          "output_type": "display_data",
          "data": {
            "text/html": [
              "\n",
              "     <input type=\"file\" id=\"files-b391531d-bffb-48f5-957c-6b9065b2db6c\" name=\"files[]\" multiple disabled />\n",
              "     <output id=\"result-b391531d-bffb-48f5-957c-6b9065b2db6c\">\n",
              "      Upload widget is only available when the cell has been executed in the\n",
              "      current browser session. Please rerun this cell to enable.\n",
              "      </output>\n",
              "      <script src=\"/nbextensions/google.colab/files.js\"></script> "
            ],
            "text/plain": [
              "<IPython.core.display.HTML object>"
            ]
          },
          "metadata": {
            "tags": []
          }
        },
        {
          "output_type": "stream",
          "text": [
            "Saving Tweets.csv to Tweets.csv\n"
          ],
          "name": "stdout"
        }
      ]
    },
    {
      "cell_type": "code",
      "metadata": {
        "id": "7ub6mtjXfyjH",
        "colab_type": "code",
        "colab": {}
      },
      "source": [
        "\n",
        "import numpy as np\n",
        "import pandas as pd"
      ],
      "execution_count": 0,
      "outputs": []
    },
    {
      "cell_type": "markdown",
      "metadata": {
        "id": "NsJDCjztN6_O",
        "colab_type": "text"
      },
      "source": [
        "# import dataset and take needed column"
      ]
    },
    {
      "cell_type": "code",
      "metadata": {
        "id": "2wzqEFk7gEvg",
        "colab_type": "code",
        "colab": {}
      },
      "source": [
        "tweets_df = pd.read_csv ('Tweets.csv')\n"
      ],
      "execution_count": 0,
      "outputs": []
    },
    {
      "cell_type": "code",
      "metadata": {
        "id": "NgcjG65OgLtz",
        "colab_type": "code",
        "outputId": "312ea1ba-efd9-4d99-bd5e-7cf82a8b2088",
        "colab": {
          "base_uri": "https://localhost:8080/",
          "height": 434
        }
      },
      "source": [
        "tweets_df.head()"
      ],
      "execution_count": 0,
      "outputs": [
        {
          "output_type": "execute_result",
          "data": {
            "text/html": [
              "<div>\n",
              "<style scoped>\n",
              "    .dataframe tbody tr th:only-of-type {\n",
              "        vertical-align: middle;\n",
              "    }\n",
              "\n",
              "    .dataframe tbody tr th {\n",
              "        vertical-align: top;\n",
              "    }\n",
              "\n",
              "    .dataframe thead th {\n",
              "        text-align: right;\n",
              "    }\n",
              "</style>\n",
              "<table border=\"1\" class=\"dataframe\">\n",
              "  <thead>\n",
              "    <tr style=\"text-align: right;\">\n",
              "      <th></th>\n",
              "      <th>tweet_id</th>\n",
              "      <th>airline_sentiment</th>\n",
              "      <th>airline_sentiment_confidence</th>\n",
              "      <th>negativereason</th>\n",
              "      <th>negativereason_confidence</th>\n",
              "      <th>airline</th>\n",
              "      <th>airline_sentiment_gold</th>\n",
              "      <th>name</th>\n",
              "      <th>negativereason_gold</th>\n",
              "      <th>retweet_count</th>\n",
              "      <th>text</th>\n",
              "      <th>tweet_coord</th>\n",
              "      <th>tweet_created</th>\n",
              "      <th>tweet_location</th>\n",
              "      <th>user_timezone</th>\n",
              "    </tr>\n",
              "  </thead>\n",
              "  <tbody>\n",
              "    <tr>\n",
              "      <th>0</th>\n",
              "      <td>570306133677760513</td>\n",
              "      <td>neutral</td>\n",
              "      <td>1.0000</td>\n",
              "      <td>NaN</td>\n",
              "      <td>NaN</td>\n",
              "      <td>Virgin America</td>\n",
              "      <td>NaN</td>\n",
              "      <td>cairdin</td>\n",
              "      <td>NaN</td>\n",
              "      <td>0</td>\n",
              "      <td>@VirginAmerica What @dhepburn said.</td>\n",
              "      <td>NaN</td>\n",
              "      <td>2015-02-24 11:35:52 -0800</td>\n",
              "      <td>NaN</td>\n",
              "      <td>Eastern Time (US &amp; Canada)</td>\n",
              "    </tr>\n",
              "    <tr>\n",
              "      <th>1</th>\n",
              "      <td>570301130888122368</td>\n",
              "      <td>positive</td>\n",
              "      <td>0.3486</td>\n",
              "      <td>NaN</td>\n",
              "      <td>0.0000</td>\n",
              "      <td>Virgin America</td>\n",
              "      <td>NaN</td>\n",
              "      <td>jnardino</td>\n",
              "      <td>NaN</td>\n",
              "      <td>0</td>\n",
              "      <td>@VirginAmerica plus you've added commercials t...</td>\n",
              "      <td>NaN</td>\n",
              "      <td>2015-02-24 11:15:59 -0800</td>\n",
              "      <td>NaN</td>\n",
              "      <td>Pacific Time (US &amp; Canada)</td>\n",
              "    </tr>\n",
              "    <tr>\n",
              "      <th>2</th>\n",
              "      <td>570301083672813571</td>\n",
              "      <td>neutral</td>\n",
              "      <td>0.6837</td>\n",
              "      <td>NaN</td>\n",
              "      <td>NaN</td>\n",
              "      <td>Virgin America</td>\n",
              "      <td>NaN</td>\n",
              "      <td>yvonnalynn</td>\n",
              "      <td>NaN</td>\n",
              "      <td>0</td>\n",
              "      <td>@VirginAmerica I didn't today... Must mean I n...</td>\n",
              "      <td>NaN</td>\n",
              "      <td>2015-02-24 11:15:48 -0800</td>\n",
              "      <td>Lets Play</td>\n",
              "      <td>Central Time (US &amp; Canada)</td>\n",
              "    </tr>\n",
              "    <tr>\n",
              "      <th>3</th>\n",
              "      <td>570301031407624196</td>\n",
              "      <td>negative</td>\n",
              "      <td>1.0000</td>\n",
              "      <td>Bad Flight</td>\n",
              "      <td>0.7033</td>\n",
              "      <td>Virgin America</td>\n",
              "      <td>NaN</td>\n",
              "      <td>jnardino</td>\n",
              "      <td>NaN</td>\n",
              "      <td>0</td>\n",
              "      <td>@VirginAmerica it's really aggressive to blast...</td>\n",
              "      <td>NaN</td>\n",
              "      <td>2015-02-24 11:15:36 -0800</td>\n",
              "      <td>NaN</td>\n",
              "      <td>Pacific Time (US &amp; Canada)</td>\n",
              "    </tr>\n",
              "    <tr>\n",
              "      <th>4</th>\n",
              "      <td>570300817074462722</td>\n",
              "      <td>negative</td>\n",
              "      <td>1.0000</td>\n",
              "      <td>Can't Tell</td>\n",
              "      <td>1.0000</td>\n",
              "      <td>Virgin America</td>\n",
              "      <td>NaN</td>\n",
              "      <td>jnardino</td>\n",
              "      <td>NaN</td>\n",
              "      <td>0</td>\n",
              "      <td>@VirginAmerica and it's a really big bad thing...</td>\n",
              "      <td>NaN</td>\n",
              "      <td>2015-02-24 11:14:45 -0800</td>\n",
              "      <td>NaN</td>\n",
              "      <td>Pacific Time (US &amp; Canada)</td>\n",
              "    </tr>\n",
              "  </tbody>\n",
              "</table>\n",
              "</div>"
            ],
            "text/plain": [
              "             tweet_id  ...               user_timezone\n",
              "0  570306133677760513  ...  Eastern Time (US & Canada)\n",
              "1  570301130888122368  ...  Pacific Time (US & Canada)\n",
              "2  570301083672813571  ...  Central Time (US & Canada)\n",
              "3  570301031407624196  ...  Pacific Time (US & Canada)\n",
              "4  570300817074462722  ...  Pacific Time (US & Canada)\n",
              "\n",
              "[5 rows x 15 columns]"
            ]
          },
          "metadata": {
            "tags": []
          },
          "execution_count": 51
        }
      ]
    },
    {
      "cell_type": "code",
      "metadata": {
        "id": "hTN2AqJBgRTO",
        "colab_type": "code",
        "outputId": "7610a8d6-edd7-40f3-b3a4-838cdbeeff13",
        "colab": {
          "base_uri": "https://localhost:8080/",
          "height": 284
        }
      },
      "source": [
        "tweets_df.isnull().sum()"
      ],
      "execution_count": 0,
      "outputs": [
        {
          "output_type": "execute_result",
          "data": {
            "text/plain": [
              "tweet_id                            0\n",
              "airline_sentiment                   0\n",
              "airline_sentiment_confidence        0\n",
              "negativereason                   5462\n",
              "negativereason_confidence        4118\n",
              "airline                             0\n",
              "airline_sentiment_gold          14600\n",
              "name                                0\n",
              "negativereason_gold             14608\n",
              "retweet_count                       0\n",
              "text                                0\n",
              "tweet_coord                     13621\n",
              "tweet_created                       0\n",
              "tweet_location                   4733\n",
              "user_timezone                    4820\n",
              "dtype: int64"
            ]
          },
          "metadata": {
            "tags": []
          },
          "execution_count": 52
        }
      ]
    },
    {
      "cell_type": "code",
      "metadata": {
        "id": "W6e-uQy5hK1M",
        "colab_type": "code",
        "colab": {}
      },
      "source": [
        "tweets=tweets_df[['airline_sentiment','text']]"
      ],
      "execution_count": 0,
      "outputs": []
    },
    {
      "cell_type": "code",
      "metadata": {
        "id": "fW0vke-3hcbe",
        "colab_type": "code",
        "outputId": "f6c5a56a-29d3-4c5c-9eaf-d5ba98b0b0c4",
        "colab": {
          "base_uri": "https://localhost:8080/",
          "height": 196
        }
      },
      "source": [
        "tweets.head()"
      ],
      "execution_count": 0,
      "outputs": [
        {
          "output_type": "execute_result",
          "data": {
            "text/html": [
              "<div>\n",
              "<style scoped>\n",
              "    .dataframe tbody tr th:only-of-type {\n",
              "        vertical-align: middle;\n",
              "    }\n",
              "\n",
              "    .dataframe tbody tr th {\n",
              "        vertical-align: top;\n",
              "    }\n",
              "\n",
              "    .dataframe thead th {\n",
              "        text-align: right;\n",
              "    }\n",
              "</style>\n",
              "<table border=\"1\" class=\"dataframe\">\n",
              "  <thead>\n",
              "    <tr style=\"text-align: right;\">\n",
              "      <th></th>\n",
              "      <th>airline_sentiment</th>\n",
              "      <th>text</th>\n",
              "    </tr>\n",
              "  </thead>\n",
              "  <tbody>\n",
              "    <tr>\n",
              "      <th>0</th>\n",
              "      <td>neutral</td>\n",
              "      <td>@VirginAmerica What @dhepburn said.</td>\n",
              "    </tr>\n",
              "    <tr>\n",
              "      <th>1</th>\n",
              "      <td>positive</td>\n",
              "      <td>@VirginAmerica plus you've added commercials t...</td>\n",
              "    </tr>\n",
              "    <tr>\n",
              "      <th>2</th>\n",
              "      <td>neutral</td>\n",
              "      <td>@VirginAmerica I didn't today... Must mean I n...</td>\n",
              "    </tr>\n",
              "    <tr>\n",
              "      <th>3</th>\n",
              "      <td>negative</td>\n",
              "      <td>@VirginAmerica it's really aggressive to blast...</td>\n",
              "    </tr>\n",
              "    <tr>\n",
              "      <th>4</th>\n",
              "      <td>negative</td>\n",
              "      <td>@VirginAmerica and it's a really big bad thing...</td>\n",
              "    </tr>\n",
              "  </tbody>\n",
              "</table>\n",
              "</div>"
            ],
            "text/plain": [
              "  airline_sentiment                                               text\n",
              "0           neutral                @VirginAmerica What @dhepburn said.\n",
              "1          positive  @VirginAmerica plus you've added commercials t...\n",
              "2           neutral  @VirginAmerica I didn't today... Must mean I n...\n",
              "3          negative  @VirginAmerica it's really aggressive to blast...\n",
              "4          negative  @VirginAmerica and it's a really big bad thing..."
            ]
          },
          "metadata": {
            "tags": []
          },
          "execution_count": 54
        }
      ]
    },
    {
      "cell_type": "code",
      "metadata": {
        "id": "T88n21ZygkS1",
        "colab_type": "code",
        "outputId": "9545dae8-7497-4bc0-bbf3-b03e014f7388",
        "colab": {
          "base_uri": "https://localhost:8080/",
          "height": 50
        }
      },
      "source": [
        "import re\n",
        "import nltk\n",
        "nltk.download('stopwords')\n",
        "#used once to download stopwords.\n",
        "from nltk.corpus import stopwords\n",
        "from nltk.stem.porter import PorterStemmer"
      ],
      "execution_count": 0,
      "outputs": [
        {
          "output_type": "stream",
          "text": [
            "[nltk_data] Downloading package stopwords to /root/nltk_data...\n",
            "[nltk_data]   Package stopwords is already up-to-date!\n"
          ],
          "name": "stdout"
        }
      ]
    },
    {
      "cell_type": "markdown",
      "metadata": {
        "id": "rs_qhLpMih4k",
        "colab_type": "text"
      },
      "source": [
        "# text preprocessing"
      ]
    },
    {
      "cell_type": "code",
      "metadata": {
        "id": "rzpQwb7AiW33",
        "colab_type": "code",
        "outputId": "293bf563-032b-4be4-e283-6d18a3bbc384",
        "colab": {
          "base_uri": "https://localhost:8080/",
          "height": 100
        }
      },
      "source": [
        "#remove @ names\n",
        "\n",
        "for i in range(0,len(tweets)):\n",
        "    text=tweets['text'][i]\n",
        "\n",
        "    list_words=text.split()\n",
        "\n",
        "    list_words=[word for word in list_words if word[0]!='@']\n",
        "\n",
        "    text = ' '.join(list_words)\n",
        "\n",
        "    tweets['text'][i]=text"
      ],
      "execution_count": 0,
      "outputs": [
        {
          "output_type": "stream",
          "text": [
            "/usr/local/lib/python3.6/dist-packages/IPython/core/interactiveshell.py:2882: SettingWithCopyWarning: \n",
            "A value is trying to be set on a copy of a slice from a DataFrame\n",
            "\n",
            "See the caveats in the documentation: http://pandas.pydata.org/pandas-docs/stable/user_guide/indexing.html#returning-a-view-versus-a-copy\n",
            "  exec(code_obj, self.user_global_ns, self.user_ns)\n"
          ],
          "name": "stderr"
        }
      ]
    },
    {
      "cell_type": "code",
      "metadata": {
        "id": "m8AoQEo9hyrn",
        "colab_type": "code",
        "outputId": "f7985b7d-90e2-4ca7-e67b-ff5b9b5e57a8",
        "colab": {
          "base_uri": "https://localhost:8080/",
          "height": 100
        }
      },
      "source": [
        "#cleaning and preprocessing\n",
        "\n",
        "for i in range(0,len(tweets['text'])):\n",
        "\n",
        "  feed = re.sub('[^a-zA-Z]',' ',tweets['text'][i])\n",
        "  feed = feed.lower()\n",
        "  feed = feed.split()\n",
        "  ps = PorterStemmer()\n",
        "  #feed = [ps.stem(word) for word in feed if not word in set(stopwords.words('english'))]\n",
        "  feed = ' '.join(feed)\n",
        "\n",
        "  tweets['text'][i]=feed\n",
        "\n"
      ],
      "execution_count": 0,
      "outputs": [
        {
          "output_type": "stream",
          "text": [
            "/usr/local/lib/python3.6/dist-packages/IPython/core/interactiveshell.py:2882: SettingWithCopyWarning: \n",
            "A value is trying to be set on a copy of a slice from a DataFrame\n",
            "\n",
            "See the caveats in the documentation: http://pandas.pydata.org/pandas-docs/stable/user_guide/indexing.html#returning-a-view-versus-a-copy\n",
            "  exec(code_obj, self.user_global_ns, self.user_ns)\n"
          ],
          "name": "stderr"
        }
      ]
    },
    {
      "cell_type": "code",
      "metadata": {
        "id": "VtiIZBQ9mzxI",
        "colab_type": "code",
        "outputId": "fefe134d-c445-4d53-a81f-3113d7f4025a",
        "colab": {
          "base_uri": "https://localhost:8080/",
          "height": 196
        }
      },
      "source": [
        "tweets.head()"
      ],
      "execution_count": 0,
      "outputs": [
        {
          "output_type": "execute_result",
          "data": {
            "text/html": [
              "<div>\n",
              "<style scoped>\n",
              "    .dataframe tbody tr th:only-of-type {\n",
              "        vertical-align: middle;\n",
              "    }\n",
              "\n",
              "    .dataframe tbody tr th {\n",
              "        vertical-align: top;\n",
              "    }\n",
              "\n",
              "    .dataframe thead th {\n",
              "        text-align: right;\n",
              "    }\n",
              "</style>\n",
              "<table border=\"1\" class=\"dataframe\">\n",
              "  <thead>\n",
              "    <tr style=\"text-align: right;\">\n",
              "      <th></th>\n",
              "      <th>airline_sentiment</th>\n",
              "      <th>text</th>\n",
              "    </tr>\n",
              "  </thead>\n",
              "  <tbody>\n",
              "    <tr>\n",
              "      <th>0</th>\n",
              "      <td>neutral</td>\n",
              "      <td>what said</td>\n",
              "    </tr>\n",
              "    <tr>\n",
              "      <th>1</th>\n",
              "      <td>positive</td>\n",
              "      <td>plus you ve added commercials to the experienc...</td>\n",
              "    </tr>\n",
              "    <tr>\n",
              "      <th>2</th>\n",
              "      <td>neutral</td>\n",
              "      <td>i didn t today must mean i need to take anothe...</td>\n",
              "    </tr>\n",
              "    <tr>\n",
              "      <th>3</th>\n",
              "      <td>negative</td>\n",
              "      <td>it s really aggressive to blast obnoxious ente...</td>\n",
              "    </tr>\n",
              "    <tr>\n",
              "      <th>4</th>\n",
              "      <td>negative</td>\n",
              "      <td>and it s a really big bad thing about it</td>\n",
              "    </tr>\n",
              "  </tbody>\n",
              "</table>\n",
              "</div>"
            ],
            "text/plain": [
              "  airline_sentiment                                               text\n",
              "0           neutral                                          what said\n",
              "1          positive  plus you ve added commercials to the experienc...\n",
              "2           neutral  i didn t today must mean i need to take anothe...\n",
              "3          negative  it s really aggressive to blast obnoxious ente...\n",
              "4          negative           and it s a really big bad thing about it"
            ]
          },
          "metadata": {
            "tags": []
          },
          "execution_count": 58
        }
      ]
    },
    {
      "cell_type": "markdown",
      "metadata": {
        "id": "XL3xeb8NqE78",
        "colab_type": "text"
      },
      "source": [
        "# bag of words"
      ]
    },
    {
      "cell_type": "code",
      "metadata": {
        "id": "l8t-xUh5piDd",
        "colab_type": "code",
        "colab": {}
      },
      "source": [
        "from sklearn.model_selection import train_test_split\n"
      ],
      "execution_count": 0,
      "outputs": []
    },
    {
      "cell_type": "code",
      "metadata": {
        "id": "tnSUcsqWiFce",
        "colab_type": "code",
        "outputId": "9ede508f-facd-4259-82bf-96a410ddf7e0",
        "colab": {
          "base_uri": "https://localhost:8080/",
          "height": 33
        }
      },
      "source": [
        "train_df,test_df = train_test_split(tweets, test_size=0.2, random_state=45)\n",
        "train_df.shape,test_df.shape"
      ],
      "execution_count": 0,
      "outputs": [
        {
          "output_type": "execute_result",
          "data": {
            "text/plain": [
              "((11712, 2), (2928, 2))"
            ]
          },
          "metadata": {
            "tags": []
          },
          "execution_count": 60
        }
      ]
    },
    {
      "cell_type": "code",
      "metadata": {
        "id": "fLBGUZYRlIO7",
        "colab_type": "code",
        "colab": {}
      },
      "source": [
        "x_test = test_df['text']\n",
        "y_test = test_df[['airline_sentiment']]\n",
        "\n",
        "x_train = train_df['text']\n",
        "y_train = train_df[['airline_sentiment']]"
      ],
      "execution_count": 0,
      "outputs": []
    },
    {
      "cell_type": "code",
      "metadata": {
        "id": "H_auU0yCCpoA",
        "colab_type": "code",
        "outputId": "8abc0134-d306-4512-b430-2a6c452bea8a",
        "colab": {
          "base_uri": "https://localhost:8080/",
          "height": 117
        }
      },
      "source": [
        "x_train.head()"
      ],
      "execution_count": 0,
      "outputs": [
        {
          "output_type": "execute_result",
          "data": {
            "text/plain": [
              "5030     tfw ty spent total of hrs and mins holding cel...\n",
              "11963    lost my cats missed their flights kept them cr...\n",
              "5541     easy and pleasant difficult and stressful lear...\n",
              "6506     done messed up now i have planned a trip to co...\n",
              "9515                they told me to call back late flightr\n",
              "Name: text, dtype: object"
            ]
          },
          "metadata": {
            "tags": []
          },
          "execution_count": 62
        }
      ]
    },
    {
      "cell_type": "code",
      "metadata": {
        "id": "Mjcuq4EllJ7q",
        "colab_type": "code",
        "colab": {}
      },
      "source": [
        "from sklearn.feature_extraction.text import CountVectorizer"
      ],
      "execution_count": 0,
      "outputs": []
    },
    {
      "cell_type": "code",
      "metadata": {
        "id": "oJLLK_23lJ-K",
        "colab_type": "code",
        "outputId": "a2728a5f-0a48-4673-b39f-f10e606778f0",
        "colab": {
          "base_uri": "https://localhost:8080/",
          "height": 70
        }
      },
      "source": [
        "#bag of words\n",
        "parseur = CountVectorizer()\n",
        "#create the document term matrix\n",
        "XTrain = parseur.fit_transform(x_train)\n",
        "\n",
        "\n",
        "#number of tokens\n",
        "print(len(parseur.get_feature_names()))\n",
        "#list of tokens\n",
        "print(parseur.get_feature_names())"
      ],
      "execution_count": 0,
      "outputs": [
        {
          "output_type": "stream",
          "text": [
            "11368\n",
            "['aa', 'aaaand', 'aaalwayslate', 'aadavantage', 'aadelay', 'aadv', 'aadvantage', 'aafail', 'aakjumxa', 'aal', 'aaron', 'aau', 'aavvoreph', 'aay', 'ab', 'aback', 'abandon', 'abandoned', 'abandonment', 'abassinet', 'abc', 'abcletjetbluestreamfeed', 'abcnews', 'abducted', 'abi', 'abilities', 'ability', 'able', 'aboard', 'aboout', 'abounds', 'about', 'above', 'abprg', 'abq', 'abroad', 'absolute', 'absolutely', 'absorb', 'absorber', 'absoulutely', 'absurd', 'absurdity', 'absurdly', 'abt', 'abundance', 'abuse', 'abused', 'abxrq', 'abysmal', 'ac', 'acarl', 'acc', 'accelerate', 'accept', 'acceptable', 'accepted', 'accepting', 'acces', 'access', 'accessibility', 'accessible', 'accessing', 'accident', 'accidentally', 'accomidating', 'accommodate', 'accommodating', 'accommodation', 'accommodations', 'accomplish', 'accomplished', 'according', 'accordingly', 'account', 'accountability', 'accounts', 'accrue', 'accruing', 'acct', 'accts', 'accumulation', 'accurate', 'accurately', 'accused', 'acebo', 'achieve', 'achieves', 'achieving', 'ack', 'acknowledge', 'acknowledgement', 'acknowledgment', 'acosta', 'acoustic', 'acpt', 'acquire', 'acquired', 'acquisition', 'across', 'act', 'acted', 'action', 'actions', 'activate', 'activated', 'active', 'actively', 'activities', 'activity', 'actual', 'actually', 'acu', 'acy', 'ad', 'ada', 'adam', 'adams', 'add', 'added', 'adding', 'addition', 'additional', 'addr', 'address', 'addressed', 'addresses', 'adds', 'addtl', 'adjacent', 'adjusting', 'adjustment', 'admin', 'admiral', 'admirals', 'admit', 'admitted', 'adolfo', 'adopted', 'adopting', 'adore', 'ads', 'adult', 'adv', 'advan', 'advance', 'advantage', 'adve', 'adventure', 'advertise', 'advertising', 'advice', 'advis', 'advise', 'advised', 'advising', 'advisories', 'advisory', 'aerojobmarket', 'aeroport', 'aesthetics', 'aex', 'af', 'affairs', 'affect', 'affected', 'affecting', 'affects', 'afford', 'affordable', 'aflame', 'aforementioned', 'afraid', 'african', 'aft', 'after', 'afterall', 'afternoon', 'afterward', 'again', 'against', 'agcommunity', 'age', 'aged', 'agencies', 'agency', 'agent', 'agents', 'ages', 'aggravating', 'aggravation', 'aggressive', 'agian', 'aging', 'agnt', 'ago', 'agpb', 'agr', 'agree', 'agt', 'agum', 'ah', 'aha', 'ahead', 'ahem', 'ahhhh', 'ahlxhhkiyn', 'ahold', 'ahoy', 'ai', 'aiecraft', 'aif', 'ailing', 'aim', 'aimed', 'ain', 'air', 'airborne', 'airbus', 'aircargo', 'aircraft', 'aircrafts', 'aircrft', 'aired', 'aires', 'airfare', 'airline', 'airliner', 'airlines', 'airlinesecurity', 'airplane', 'airplanemodewason', 'airplanes', 'airport', 'airportcardio', 'airports', 'airserv', 'airside', 'airspace', 'airstairs', 'airway', 'airways', 'ais', 'aisle', 'aisles', 'aitzl', 'ajm', 'ajz', 'ak', 'aka', 'akron', 'aktg', 'al', 'alabama', 'alamo', 'alan', 'alarm', 'alas', 'alaska', 'albany', 'albanyairport', 'albeit', 'albums', 'albuquer', 'albuquerque', 'alcohol', 'alert', 'alerted', 'alerts', 'alex', 'ali', 'alicia', 'aligned', 'alison', 'alist', 'alistpreferred', 'alittle', 'alittlebetter', 'alive', 'all', 'allende', 'allergic', 'allergies', 'allergy', 'allgood', 'alliance', 'allll', 'allow', 'allowabl', 'allowable', 'allowance', 'allowances', 'allowed', 'allowing', 'allows', 'allready', 'allrepresentativesbusy', 'allright', 'allyoucanjetpass', 'almost', 'alone', 'along', 'alot', 'already', 'alreadyrebookedonce', 'alright', 'als', 'also', 'alsoyayforsnacks', 'alt', 'alternate', 'alternative', 'alternatively', 'alternatives', 'although', 'altitude', 'altonbrownlive', 'always', 'alwaysdelayed', 'alwaysdelayedonunited', 'alwayshappensthere', 'alwayslate', 'am', 'amarillo', 'amateur', 'amateurish', 'amateurs', 'amaze', 'amazed', 'amazing', 'amazingflightcrew', 'amazingly', 'amazings', 'amazon', 'ambassador', 'ambivalence', 'amend', 'amenities', 'america', 'american', 'americanair', 'americanairlines', 'americanairlinesfail', 'americanairsucks', 'americanforlife', 'americanisbetter', 'americant', 'americanview', 'amex', 'amid', 'amiga', 'amirite', 'amm', 'amnt', 'among', 'amongst', 'amount', 'amp', 'ams', 'amsterdam', 'amt', 'amtrak', 'amy', 'amypoehler', 'an', 'ana', 'analyst', 'analytics', 'anamarketers', 'anaphylaxis', 'anarchy', 'anchorage', 'and', 'andchexmix', 'anderson', 'andrew', 'andrews', 'android', 'andthewinneris', 'aneqxzr', 'angel', 'angeles', 'angelo', 'angle', 'angriest', 'angry', 'angryandsober', 'angrybird', 'angrycustomer', 'angrytraveler', 'angst', 'anhour', 'ann', 'anna', 'annamarie', 'anni', 'anniversary', 'annnndddd', 'annnnddddd', 'annnnnd', 'announce', 'announced', 'announcement', 'announcements', 'announcer', 'announces', 'announcing', 'annoyed', 'annoying', 'annual', 'another', 'ans', 'answer', 'answered', 'answering', 'answerphone', 'answers', 'answerthephone', 'answerthis', 'ant', 'anthony', 'anti', 'anticipate', 'anticipating', 'anticipation', 'antigua', 'antitrust', 'antonio', 'anxiety', 'anxious', 'any', 'anybody', 'anyhelp', 'anymore', 'anyone', 'anyonethere', 'anythin', 'anything', 'anytime', 'anyway', 'anyways', 'anywhere', 'aopdtsq', 'ap', 'apart', 'apathetic', 'apathy', 'apeared', 'api', 'apnea', 'apologies', 'apologise', 'apologize', 'apologizes', 'apologizing', 'apology', 'apostrophe', 'apostrophefail', 'app', 'appalled', 'appalling', 'apparent', 'apparently', 'appealing', 'appear', 'appeared', 'appears', 'appease', 'applaud', 'applauded', 'apple', 'applepay', 'applicable', 'application', 'applied', 'applies', 'apply', 'applying', 'appointed', 'appointment', 'appointments', 'appreciate', 'appreciated', 'appreciates', 'appreciation', 'approach', 'approaching', 'appropriate', 'appropriately', 'approval', 'approve', 'approved', 'approx', 'approximately', 'apps', 'appt', 'apr', 'april', 'aprzspxige', 'apt', 'apx', 'apy', 'aqjn', 'aqzwecokk', 'ar', 'arab', 'arbitrarily', 'arbitrary', 'arc', 'ardent', 'are', 'area', 'areas', 'aren', 'arena', 'arent', 'ares', 'areyounew', 'argentina', 'argg', 'argue', 'argued', 'argueing', 'arguing', 'argument', 'arizona', 'arkansas', 'armrest', 'arms', 'army', 'arose', 'around', 'arpt', 'arrange', 'arranged', 'arrangements', 'arrival', 'arrivals', 'arrive', 'arrived', 'arrives', 'arriving', 'arrogant', 'art', 'article', 'artisanal', 'aruba', 'aruna', 'as', 'asap', 'ase', 'asha', 'ashamed', 'ashes', 'ashley', 'asia', 'aside', 'ask', 'asked', 'asking', 'asks', 'asleep', 'aspen', 'aspenbaggagefail', 'ass', 'assaulted', 'assed', 'asses', 'asset', 'assets', 'asshole', 'assholes', 'assign', 'assigned', 'assignment', 'assignments', 'assist', 'assistance', 'assistant', 'assisted', 'assisting', 'associated', 'assuage', 'assult', 'assume', 'assumed', 'assuming', 'assurance', 'assurances', 'assure', 'assured', 'astoria', 'astounding', 'astounds', 'asus', 'asuwx', 'asw', 'asyqe', 'at', 'atc', 'atct', 'atd', 'ath', 'athau', 'athlete', 'athletes', 'atl', 'atlanta', 'atlantic', 'atleast', 'atrocious', 'att', 'attach', 'attached', 'attackingbabymomma', 'attained', 'attdt', 'attempt', 'attempted', 'attempting', 'attempts', 'attend', 'attendant', 'attendants', 'attended', 'attendees', 'attendent', 'attendents', 'attention', 'attentive', 'attentiveness', 'attire', 'attitude', 'attitudeissues', 'attitudes', 'attitudy', 'attndt', 'atue', 'atwyifh', 'atx', 'au', 'auckland', 'audience', 'audio', 'audition', 'auf', 'aug', 'augjscmolu', 'august', 'auh', 'aunties', 'aunts', 'aurn', 'aus', 'austic', 'austin', 'australia', 'austrian', 'authoritative', 'authority', 'authorize', 'auto', 'automated', 'automatic', 'automatically', 'automobiles', 'autoresponse', 'av', 'avail', 'availab', 'availability', 'available', 'avalonhollywood', 'avenue', 'average', 'averted', 'avg', 'avgeek', 'aviation', 'aviv', 'avoid', 'avoidable', 'avoided', 'avoiding', 'avon', 'avrtowtyzk', 'avyqdmpi', 'aw', 'await', 'awaiting', 'awake', 'award', 'awards', 'aware', 'away', 'awdbw', 'awe', 'aweful', 'awesome', 'awesomeee', 'awesomeness', 'awful', 'awfulcustomerservice', 'awfully', 'awfulness', 'awgjkjiiac', 'awheelchair', 'awhile', 'awkward', 'awqtln', 'awrd', 'aww', 'awww', 'awwweesssooomee', 'ax', 'axeo', 'axlqzwvh', 'axpn', 'axryeiwzh', 'ay', 'aypyaduy', 'ayyy', 'az', 'azltjhf', 'aztdaer', 'ba', 'babies', 'baby', 'babyfood', 'bachelorpartymishap', 'back', 'backed', 'backhome', 'backlog', 'backpack', 'backpacks', 'backroads', 'backs', 'backtodelta', 'backtowinter', 'backup', 'backyard', 'bad', 'badairline', 'badbusiness', 'badbussiness', 'badcustomerexperience', 'badcustomerservice', 'badcustomersrvice', 'bademployeeproblem', 'badge', 'badges', 'badly', 'badmgmt', 'badpolicy', 'badservice', 'badwebsite', 'bae', 'baejet', 'bafore', 'bag', 'bagage', 'bagawim', 'baggage', 'baggagedrama', 'baggagefail', 'baggagelost', 'baggages', 'bags', 'bagsflyfree', 'bagsflyfreebutnotwithme', 'bagtag', 'bahamas', 'bailed', 'bailey', 'baimes', 'bait', 'baitandswitch', 'baked', 'baking', 'balance', 'balancing', 'ball', 'ballbag', 'ballin', 'balloons', 'balls', 'balt', 'baltimore', 'banana', 'band', 'bands', 'bandwidth', 'bangkok', 'bank', 'bankrupt', 'bankruptcies', 'banning', 'bape', 'bar', 'barbados', 'barbara', 'barclay', 'barclays', 'barcodes', 'barely', 'barking', 'barnum', 'barrel', 'barrier', 'barriers', 'bars', 'barzegar', 'base', 'based', 'bashing', 'basic', 'basically', 'basics', 'basket', 'basketball', 'bastards', 'bathroom', 'bathrooms', 'batman', 'batteries', 'battery', 'batting', 'battle', 'battles', 'battling', 'bay', 'bayepzkmiz', 'bbaonx', 'bbhtlzgh', 'bbj', 'bbzijwfdl', 'bc', 'bcs', 'bcuz', 'bcwckwtnle', 'bcz', 'bd', 'bday', 'bdl', 'bdsm', 'bdtldx', 'bduauzfhw', 'be', 'beach', 'beaches', 'beanie', 'beans', 'bear', 'bearable', 'beareavement', 'beat', 'beating', 'beats', 'beatstheothers', 'beautiful', 'beautifull', 'beautifully', 'beauty', 'bebetter', 'bec', 'became', 'because', 'become', 'becomes', 'becoming', 'becuz', 'bed', 'bedofroses', 'beefjerky', 'been', 'beer', 'beers', 'befor', 'before', 'beg', 'began', 'begging', 'begin', 'beginning', 'begins', 'begun', 'behalf', 'behave', 'behaves', 'behavior', 'behind', 'beijing', 'bein', 'being', 'beingsuckontarmacsucks', 'belabor', 'belfast', 'belief', 'believable', 'believe', 'believing', 'belize', 'bellagio', 'belligerent', 'belong', 'belongings', 'below', 'belt', 'ben', 'benadryl', 'bench', 'bene', 'beneficial', 'benefit', 'benefits', 'beought', 'beqotlnugc', 'bereavement', 'bergstrom', 'berlin', 'besides', 'best', 'bestairline', 'bestairlineever', 'bestdressed', 'bestemployees', 'bestflightever', 'bestfriends', 'bestinclass', 'bestinclasssocial', 'bestplanesever', 'besty', 'bet', 'beta', 'betch', 'bethonors', 'betsy', 'better', 'betting', 'bettween', 'between', 'beverage', 'beverages', 'beware', 'beyond', 'bf', 'bff', 'bffs', 'bfpfw', 'bg', 'bgbtq', 'bgm', 'bgr', 'bh', 'bham', 'bhjvaa', 'bhm', 'bible', 'biceps', 'bicycles', 'bid', 'big', 'bigger', 'biggest', 'biggie', 'bike', 'bikes', 'bil', 'bila', 'bill', 'billed', 'billing', 'billions', 'bills', 'bin', 'bins', 'bio', 'bird', 'birder', 'birds', 'birmingham', 'birth', 'birthdate', 'birthday', 'birthdays', 'births', 'biscuits', 'bish', 'bit', 'bitch', 'bitchy', 'bitcoin', 'bites', 'biz', 'bizarre', 'bizness', 'bjnz', 'bjwgoap', 'bk', 'bkk', 'bkmfey', 'bl', 'black', 'blackberry', 'blacked', 'blackhistorymonth', 'blacklist', 'blacklivesmatter', 'blackmailed', 'blade', 'blame', 'blamed', 'blames', 'blameshiftoverload', 'blaming', 'blanc', 'blank', 'blanket', 'blankets', 'blast', 'blasting', 'blatant', 'blatantly', 'blatimore', 'bleed', 'blegh', 'bleh', 'blessed', 'blew', 'blind', 'blindsided', 'bliss', 'blizzard', 'blizzue', 'bloated', 'block', 'blocked', 'blocking', 'blog', 'blood', 'bloody', 'blowing', 'blown', 'blows', 'blue', 'bluecarpet', 'blueheros', 'bluemanity', 'blumanity', 'blushing', 'blwgwa', 'blxs', 'bm', 'bmc', 'bmi', 'bmij', 'bna', 'bnasnow', 'bnflhpxtmw', 'bngpli', 'board', 'boarded', 'boarding', 'boardingpass', 'boards', 'boat', 'bobbi', 'body', 'boeing', 'boggling', 'bogot', 'bogota', 'boh', 'bohol', 'boiled', 'boise', 'bold', 'boldflavors', 'bom', 'bonnie', 'bonus', 'bonuses', 'boo', 'boofin', 'book', 'booked', 'booking', 'booklet', 'bookofnegroes', 'books', 'bool', 'boom', 'booo', 'boooo', 'boost', 'booster', 'boot', 'bootbag', 'booted', 'boots', 'booze', 'bops', 'bora', 'border', 'borderline', 'bored', 'born', 'borrow', 'bos', 'bosnia', 'boson', 'boss', 'boston', 'bot', 'botched', 'both', 'bother', 'bothered', 'bots', 'bottle', 'bottles', 'bottom', 'bought', 'bougth', 'bounce', 'bounced', 'bouncer', 'bounces', 'bound', 'boundless', 'bourbon', 'bout', 'bowl', 'box', 'boy', 'boycott', 'boyfriend', 'boyfriends', 'boys', 'bozos', 'bp', 'bpb', 'bpdfpp', 'bqn', 'bqonpa', 'br', 'bracket', 'bradley', 'bragged', 'bragging', 'brain', 'brancato', 'brand', 'brandi', 'branding', 'brandloveaffair', 'brandmance', 'brands', 'branson', 'brave', 'braved', 'braving', 'bravo', 'brazil', 'brcsjbxg', 'brd', 'breach', 'bread', 'break', 'breakdown', 'breaker', 'breakfast', 'breaking', 'breaks', 'breakup', 'breast', 'breastfeeding', 'breath', 'breathe', 'breathing', 'breeze', 'breezy', 'brendan', 'brent', 'brian', 'bride', 'bridesmaid', 'bridge', 'bridges', 'briefings', 'bright', 'brighter', 'brilliant', 'bring', 'bringbackrealstaff', 'bringbacktheluvtordu', 'bringin', 'bringing', 'brings', 'bringyourown', 'brisk', 'brittany', 'briughy', 'bro', 'broad', 'broadway', 'brochure', 'broke', 'broken', 'brokenpromises', 'brokenwheel', 'brooding', 'bros', 'brotha', 'brothaaaaaa', 'brother', 'brothers', 'brought', 'brownsville', 'browser', 'browsers', 'brrr', 'brt', 'bru', 'bruh', 'bruins', 'brush', 'brushing', 'brussels', 'brutal', 'bryant', 'bs', 'bsi', 'bso', 'bsuxlu', 'bt', 'btb', 'btr', 'bttgmyn', 'bttzf', 'btv', 'btvpxtzju', 'btvtb', 'btw', 'btwn', 'buck', 'bucket', 'bucks', 'budapest', 'buddies', 'buddy', 'budget', 'budweiserduels', 'bueno', 'buenos', 'buf', 'buffalo', 'bug', 'bugging', 'build', 'bulb', 'bulkhead', 'bull', 'bullshit', 'bully', 'bullying', 'bummed', 'bummer', 'bump', 'bumped', 'bumper', 'bumping', 'bums', 'bunch', 'bundle', 'bundleup', 'bur', 'burbank', 'burden', 'bureau', 'burg', 'burger', 'burgundy', 'burn', 'burned', 'burning', 'burningman', 'burrito', 'burroughs', 'burst', 'bus', 'buses', 'bush', 'bushleague', 'busiest', 'business', 'businessfirst', 'businessmodel', 'businesstravel', 'businesstrip', 'bussey', 'bussines', 'busted', 'busy', 'but', 'butnot', 'butt', 'button', 'buttons', 'buwjtvuwkm', 'buy', 'buybacks', 'buyer', 'buying', 'buys', 'buzz', 'buzzkill', 'bv', 'bvfaxdubaq', 'bvl', 'bvzty', 'bwahahaha', 'bwi', 'bxlk', 'bxwg', 'by', 'bye', 'byebyeusairline', 'byn', 'byod', 'bypass', 'bz', 'bze', 'bzwgp', 'ca', 'cab', 'cabaret', 'cabcelled', 'cabin', 'cabine', 'cabinfever', 'cabins', 'cable', 'cabo', 'cabs', 'cac', 'cache', 'caching', 'cae', 'caf', 'caffeine', 'cak', 'cake', 'cal', 'calamity', 'calderon', 'calendar', 'calgary', 'cali', 'california', 'call', 'callback', 'callbacks', 'called', 'caller', 'callers', 'calling', 'calls', 'calming', 'calves', 'came', 'camera', 'cameragear', 'cameras', 'camp', 'campaign', 'campus', 'can', 'cana', 'canada', 'canadaair', 'canadian', 'cancelled', 'cancer', 'cancld', 'cancun', 'candy', 'caned', 'canister', 'canld', 'canned', 'cannedtweet', 'cannot', 'cant', 'canthurtasking', 'canx', 'cap', 'capabilities', 'capability', 'capable', 'capacity', 'capital', 'capitalized', 'capt', 'captain', 'captive', 'captured', 'car', 'card', 'cardholder', 'cards', 'care', 'cared', 'career', 'careless', 'caren', 'cares', 'careyon', 'cargo', 'caribbean', 'caring', 'carlton', 'carmen', 'carol', 'carolina', 'carolinas', 'caroline', 'carousel', 'carpet', 'carrie', 'carried', 'carrier', 'carriers', 'carry', 'carrying', 'carryon', 'carryonbagssloweverybodydown', 'carryons', 'carseat', 'carsl', 'cart', 'carta', 'cartagena', 'carts', 'case', 'cases', 'cash', 'casimir', 'casual', 'cat', 'catch', 'catching', 'category', 'catered', 'catering', 'cats', 'catsanddogslivingtogether', 'cattle', 'caucasity', 'caught', 'cause', 'caused', 'causes', 'causing', 'caution', 'cavalli', 'cavan', 'cb', 'cbv', 'cc', 'ccndjp', 'cco', 'cdg', 'cdj', 'cdn', 'cdt', 'cdx', 'cdzhtyd', 'ce', 'ceases', 'cebu', 'ceeenj', 'cefa', 'cehroeurc', 'celebrate', 'celebrates', 'celebrating', 'cell', 'cellphone', 'cement', 'center', 'centerl', 'centers', 'central', 'centre', 'centricity', 'cents', 'century', 'ceo', 'cert', 'certain', 'certainly', 'certificate', 'certificates', 'certs', 'cessna', 'cesspool', 'cevy', 'cfhtk', 'cfi', 'cfpohl', 'cfv', 'cfzdjmn', 'cgfv', 'cgroup', 'cgwe', 'ch', 'cha', 'chaching', 'chain', 'chair', 'chairman', 'chairmanlove', 'chairmans', 'chairs', 'chalk', 'challenge', 'challenges', 'challenging', 'champagne', 'championship', 'chance', 'chances', 'change', 'changed', 'changes', 'changing', 'channel', 'channels', 'chantilly', 'chaos', 'chaotic', 'chapman', 'chapter', 'char', 'charac', 'character', 'characterize', 'characters', 'charge', 'charged', 'chargers', 'charges', 'charging', 'chariot', 'charity', 'charles', 'charleston', 'charlote', 'charlotte', 'charm', 'chart', 'charter', 'chartering', 'chase', 'chat', 'chathes', 'chats', 'chatted', 'chatting', 'chd', 'cheap', 'cheaper', 'cheapest', 'cheapflights', 'cheapoairchat', 'cheapslogannotmotto', 'cheat', 'cheatcustomers', 'cheated', 'check', 'checked', 'checkers', 'checkin', 'checking', 'checkout', 'checkpoint', 'checks', 'cheduled', 'cheek', 'cheer', 'cheers', 'cheese', 'cheesy', 'cheeze', 'chef', 'cheque', 'cherry', 'chewey', 'chg', 'chgd', 'chge', 'chging', 'chi', 'chiberia', 'chicago', 'chicken', 'chief', 'child', 'childish', 'children', 'childrens', 'chill', 'chilly', 'chillycvz', 'china', 'chipper', 'chips', 'chk', 'chkin', 'chking', 'chn', 'chnge', 'cho', 'chocked', 'chocolate', 'choice', 'choices', 'choose', 'choosing', 'choppiest', 'choppy', 'chose', 'chosen', 'choxkpjp', 'chrishasmadeusblush', 'christmas', 'chrome', 'chronological', 'chs', 'chuckhole', 'church', 'churn', 'cid', 'cigarettes', 'cinci', 'cincinnati', 'cincy', 'circle', 'circles', 'circling', 'circuit', 'circulation', 'circumstances', 'cities', 'citing', 'citizen', 'city', 'civilized', 'cj', 'cjg', 'cjsvssqf', 'cju', 'ckg', 'ckin', 'cking', 'claim', 'claimed', 'claiming', 'claims', 'clarence', 'clarification', 'clarify', 'clarifying', 'clarion', 'clarita', 'class', 'classed', 'classes', 'classic', 'classics', 'classiq', 'classy', 'claudia', 'cld', 'cldnt', 'cle', 'clean', 'cleaned', 'cleaning', 'cleanliness', 'clear', 'clearance', 'cleared', 'clearing', 'clearly', 'clearvision', 'cleveland', 'clever', 'clgiu', 'click', 'clicked', 'clicking', 'clicks', 'client', 'clientnothappy', 'clients', 'clifton', 'cling', 'cll', 'clo', 'clob', 'clockwork', 'close', 'closed', 'closepwcs', 'closer', 'closes', 'closest', 'closet', 'closing', 'closings', 'closure', 'clothes', 'clothing', 'cloud', 'clouds', 'clown', 'cls', 'clt', 'clu', 'club', 'clubs', 'clue', 'clueless', 'clues', 'clunky', 'cluster', 'clvlhfguzw', 'cm', 'cmfat', 'cmh', 'cmjriwop', 'cmo', 'cmon', 'cncdld', 'cncld', 'cnctl', 'cng', 'cnn', 'cnx', 'cnxn', 'cnxns', 'co', 'coach', 'coached', 'coast', 'coasts', 'coat', 'coathanging', 'coats', 'cockpit', 'cockroaches', 'cocktail', 'cocktails', 'cockup', 'code', 'codes', 'codeshare', 'coffee', 'coffeemaker', 'coin', 'coincidence', 'coke', 'cold', 'colder', 'coles', 'colleague', 'colleagues', 'collect', 'collection', 'collectively', 'college', 'colo', 'colombia', 'colombian', 'colonist', 'color', 'colored', 'colossal', 'colours', 'coltsmissingbags', 'columbia', 'columbian', 'columbus', 'com', 'coma', 'combat', 'combative', 'combination', 'combine', 'combined', 'combo', 'comcast', 'come', 'comedian', 'comedic', 'comedy', 'comeonpeople', 'comes', 'cometoaustin', 'comfort', 'comfortable', 'comfortably', 'comforting', 'comically', 'coming', 'comm', 'command', 'commands', 'commend', 'comment', 'comments', 'commercial', 'commercials', 'commit', 'commitment', 'committed', 'common', 'comms', 'communicate', 'communicated', 'communicating', 'communication', 'communicationfail', 'communicationiskey', 'communications', 'communist', 'community', 'commutation', 'commute', 'comp', 'companies', 'companion', 'companionpass', 'companionpasses', 'companions', 'company', 'comparable', 'compare', 'compared', 'compares', 'comparison', 'compartments', 'compassion', 'compassionate', 'comped', 'compensate', 'compensated', 'compensates', 'compensating', 'compensation', 'compete', 'competent', 'competes', 'competing', 'competition', 'competitor', 'competitors', 'complain', 'complained', 'complainer', 'complaining', 'complains', 'complaint', 'complaints', 'complete', 'completed', 'completely', 'complex', 'compliant', 'complicated', 'compliment', 'complimentary', 'complimentarybeveragesneeded', 'complimenting', 'compliments', 'complt', 'compounded', 'compounding', 'comps', 'compton', 'computer', 'computers', 'con', 'concentrate', 'concept', 'concern', 'concerned', 'concerning', 'concerns', 'concert', 'concierge', 'concourse', 'concrete', 'cond', 'condescending', 'condescension', 'condition', 'conditioning', 'conditions', 'condom', 'conection', 'conf', 'conference', 'confidence', 'confident', 'config', 'confirm', 'confirmation', 'confirmations', 'confirmed', 'confirming', 'conflict', 'conflicting', 'confrontational', 'confused', 'confuses', 'confusing', 'confusion', 'congested', 'congrats', 'congratulation', 'congratulations', 'conjunction', 'conn', 'connect', 'connected', 'connectfor', 'connecticut', 'connectin', 'connecting', 'connection', 'connections', 'connector', 'connectors', 'connetion', 'consecutive', 'consequence', 'consider', 'considerable', 'consideration', 'considered', 'considering', 'consistency', 'consistent', 'consistently', 'consolation', 'constant', 'constantly', 'constitution', 'construction', 'constructive', 'consultant', 'consumer', 'consumermarketing', 'consumers', 'consumption', 'cont', 'contact', 'contacted', 'contacting', 'contactless', 'contain', 'container', 'contains', 'contd', 'contend', 'content', 'contentmarketing', 'contents', 'contest', 'context', 'continental', 'continentalairlines', 'contingencies', 'contingency', 'continually', 'continue', 'continued', 'continues', 'continuing', 'continuous', 'contract', 'contractors', 'contradictory', 'control', 'controllable', 'controlled', 'controller', 'controllers', 'conv', 'convenience', 'convenient', 'conveniently', 'conversation', 'conversational', 'conversations', 'conversed', 'conversion', 'conveyer', 'conveyor', 'convince', 'convinced', 'convo', 'cooker', 'cookies', 'cool', 'cooler', 'coordinate', 'cop', 'copa', 'copay', 'copilot', 'copx', 'copy', 'core', 'corevalues', 'corner', 'corny', 'corp', 'corpgreed', 'corporate', 'corporation', 'correct', 'corrected', 'correctly', 'correctness', 'correlate', 'correspondence', 'corrupt', 'cory', 'coshared', 'cosmetic', 'cost', 'costa', 'costarica', 'costing', 'costs', 'costumer', 'costumers', 'costumerservice', 'cot', 'cots', 'cough', 'could', 'couldn', 'couldnt', 'count', 'counted', 'counter', 'counterparts', 'counters', 'counting', 'countingdown', 'countless', 'countries', 'country', 'counts', 'county', 'couple', 'coupled', 'coupon', 'coupons', 'courier', 'courrier', 'course', 'courses', 'court', 'courteous', 'courtesy', 'courtney', 'cousin', 'cousins', 'cover', 'coverage', 'covered', 'covering', 'covert', 'cowardly', 'coworker', 'coworkers', 'cozy', 'cp', 'cpap', 'cpypgfnd', 'cpzb', 'cqmm', 'cr', 'crabby', 'cracker', 'crackers', 'craft', 'craftbeer', 'cramming', 'cramped', 'cranky', 'crap', 'crappy', 'crash', 'crashed', 'crashes', 'crashing', 'crated', 'craving', 'crawling', 'craziness', 'crazinessintherockies', 'crazy', 'crazybitch', 'cream', 'create', 'created', 'creates', 'creating', 'credentials', 'credibility', 'credit', 'creditcardsales', 'credited', 'credits', 'crew', 'crewe', 'crewmember', 'crewmembers', 'crews', 'crfrwpc', 'cri', 'crickets', 'cried', 'criminal', 'crisis', 'cristian', 'criteria', 'criticism', 'crjs', 'crook', 'crooked', 'cross', 'crossed', 'crossing', 'crowd', 'crucial', 'cruel', 'cruise', 'crumbs', 'crummyservice', 'cruz', 'crw', 'crx', 'cry', 'crying', 'crystal', 'cs', 'csddccmvbd', 'csfail', 'csm', 'csnrpvy', 'csr', 'css', 'cst', 'cstmr', 'cstsvc', 'ct', 'ctg', 'ctl', 'ctr', 'cty', 'cuba', 'cud', 'cue', 'cuiewo', 'culture', 'cun', 'cup', 'cups', 'cur', 'curb', 'curbside', 'curfew', 'curiosity', 'curious', 'current', 'currently', 'currentlysittingontarmac', 'curse', 'curt', 'curtesy', 'curvygirltravels', 'cus', 'cushion', 'cushions', 'cushy', 'cussed', 'cust', 'custexp', 'customary', 'customer', 'customerappreciation', 'customerexperience', 'customerloyalty', 'customers', 'customerservice', 'customerservicefail', 'customerservicenot', 'customerserviceplease', 'customerservices', 'customerservicewin', 'customersfirst', 'customs', 'custserv', 'custservicehasnonumber', 'custy', 'cut', 'cute', 'cutoff', 'cuts', 'cutting', 'cuz', 'cuzco', 'cv', 'cvba', 'cvg', 'cvwj', 'cw', 'cwgab', 'cwh', 'cx', 'cxcld', 'cxl', 'cxld', 'cxp', 'cxrzhcdtvz', 'cxttxv', 'cy', 'cyberattack', 'cycles', 'cyd', 'cyndi', 'cyprhe', 'czor', 'czplhl', 'da', 'daaa', 'dad', 'daddyshome', 'dadeland', 'dads', 'daiber', 'daily', 'dajwzhlvyu', 'dakak', 'dakota', 'dal', 'dale', 'dallas', 'damage', 'damaged', 'damageluggage', 'damages', 'damion', 'damionflight', 'damn', 'damper', 'dan', 'danbury', 'dance', 'dancing', 'dandy', 'dang', 'danger', 'dangerofgettingsnowedin', 'dangerous', 'daniel', 'danny', 'dare', 'dark', 'darn', 'darrel', 'daryl', 'data', 'date', 'dates', 'dating', 'daughter', 'daughters', 'david', 'davuy', 'dawn', 'day', 'daycare', 'daydreaming', 'dayjustgotworse', 'days', 'dayslate', 'daysofhell', 'daysofoscar', 'daysofunitedfailures', 'daystogo', 'daytona', 'db', 'dbcvepn', 'dbfd', 'dbh', 'dbyr', 'dc', 'dca', 'dcjxlzl', 'dcwerz', 'dd', 'ddqq', 'de', 'deactivate', 'deactivated', 'dead', 'deadhead', 'deaf', 'deaffriendly', 'deal', 'dealing', 'dealings', 'deals', 'dealt', 'dean', 'deane', 'dear', 'death', 'debacle', 'debating', 'debit', 'deboards', 'deborah', 'dec', 'december', 'decency', 'decent', 'deceptive', 'decide', 'decided', 'decides', 'deciding', 'decision', 'decisions', 'deck', 'declaration', 'declared', 'decline', 'declined', 'decorum', 'dedicated', 'deed', 'deedee', 'deemed', 'deep', 'deeply', 'def', 'defective', 'defend', 'deferring', 'defiantly', 'defibrillator', 'deficiency', 'definately', 'define', 'defines', 'definitely', 'definition', 'deflator', 'degree', 'degrees', 'degreesathome', 'dehli', 'dehydrated', 'deice', 'deiced', 'deicer', 'deicing', 'del', 'delacy', 'delaney', 'delay', 'delayed', 'delayedl', 'delayedovernight', 'delayforwhat', 'delaying', 'delays', 'delayua', 'delete', 'deleted', 'delhi', 'deli', 'deliberate', 'delicious', 'delight', 'delighted', 'delightful', 'delinquent', 'deliver', 'delivered', 'delivering', 'delivery', 'delta', 'deltanews', 'demand', 'demanding', 'demo', 'demolish', 'demonstration', 'den', 'denied', 'denise', 'dented', 'denver', 'denverairport', 'deny', 'deoderant', 'deodorant', 'dep', 'depart', 'departed', 'departing', 'department', 'departs', 'departure', 'departures', 'dependable', 'depending', 'depends', 'deplane', 'deplaned', 'deplanes', 'deplaning', 'deplorable', 'deployment', 'depot', 'depressing', 'depression', 'dept', 'derek', 'derrick', 'des', 'descending', 'descent', 'describe', 'describing', 'description', 'desert', 'deserve', 'deserved', 'deserves', 'design', 'designated', 'designed', 'designs', 'desirable', 'desired', 'desires', 'desk', 'desks', 'desktop', 'desperately', 'despicable', 'despise', 'despite', 'dest', 'destin', 'destination', 'destinationdragon', 'destinationdragons', 'destinations', 'destroy', 'destroyed', 'destroying', 'detail', 'detailed', 'details', 'detectors', 'deter', 'deteriorating', 'determination', 'determined', 'detroit', 'deval', 'devalue', 'devalued', 'devastated', 'develop', 'developers', 'development', 'device', 'devices', 'devotedyyours', 'devs', 'dewithpew', 'dfmvmibh', 'dfw', 'dgctt', 'dgmf', 'dhhomg', 'dhi', 'dhn', 'dhr', 'dia', 'diabetic', 'dial', 'dialing', 'dialup', 'diamond', 'diane', 'diapers', 'dice', 'dick', 'dickheads', 'dicks', 'dictionary', 'did', 'didn', 'didnt', 'die', 'died', 'diego', 'dies', 'diet', 'dietcoke', 'diff', 'differ', 'difference', 'different', 'differently', 'difficult', 'difficulties', 'difficulty', 'diffused', 'dig', 'digg', 'digging', 'digit', 'digital', 'dignity', 'dildo', 'dilemma', 'diligent', 'dime', 'dimensions', 'diminishes', 'dimmed', 'ding', 'dining', 'dinner', 'dinosaurs', 'direct', 'directed', 'directflights', 'directing', 'direction', 'directional', 'directly', 'directs', 'directtv', 'dirt', 'dirtiest', 'dirty', 'dis', 'disability', 'disabled', 'disabledtraveler', 'disallows', 'disappear', 'disappeared', 'disappearing', 'disappears', 'disappoint', 'disappointed', 'disappointing', 'disappointment', 'disappoints', 'disapptment', 'disaster', 'disciplined', 'disclose', 'discnct', 'discomfort', 'disconnect', 'disconnected', 'disconnection', 'disconnections', 'disconnects', 'discontinue', 'discontinued', 'discount', 'discounts', 'discover', 'discovered', 'discrimination', 'discuss', 'discusses', 'discussing', 'disgrace', 'disgraceful', 'disgruntled', 'disguised', 'disgusted', 'disgusting', 'disheartening', 'dishonoring', 'disinfectant', 'dislexia', 'dislike', 'disloyal', 'dismissive', 'disney', 'disneyprincesshalfmarathon', 'disneyworld', 'disorganised', 'disorganization', 'disorganized', 'dispatch', 'dispatcher', 'displaced', 'display', 'displayed', 'displays', 'displeased', 'displeasure', 'dispute', 'disputed', 'disregard', 'disrespect', 'disrespected', 'disrespectful', 'disrespectfully', 'disrupted', 'disruptions', 'dissapointed', 'dissapointing', 'dissapointment', 'dissaponted', 'dissatisfaction', 'dissatisfied', 'dissemination', 'disspointed', 'distance', 'distances', 'distress', 'distressed', 'distribution', 'distributor', 'disturb', 'disunited', 'diufep', 'div', 'divadapouch', 'diversion', 'diversions', 'divert', 'diverted', 'diverting', 'divided', 'dividend', 'dividendmiles', 'dividendrewards', 'dividends', 'dividendsmember', 'divident', 'divider', 'dj', 'djhxvjt', 'djjjn', 'djq', 'dk', 'dka', 'dkzl', 'dl', 'dlh', 'dm', 'dmd', 'dmed', 'dming', 'dmjhiw', 'dms', 'dmsc', 'dmv', 'dn', 'dndoepqukz', 'dnmsblzumr', 'dns', 'dnt', 'dnx', 'do', 'dobetter', 'dobetterjetblue', 'doc', 'docmvotwti', 'doctor', 'doctors', 'document', 'documentation', 'does', 'doesn', 'doesnt', 'dog', 'doi', 'doin', 'doing', 'doke', 'doll', 'dollar', 'dollars', 'domestic', 'domingo', 'dominican', 'don', 'donaldaroberts', 'donate', 'donation', 'done', 'donkey', 'donotflyusair', 'donotflywiththem', 'dont', 'dontchangeathing', 'dontdothistome', 'dontflythem', 'donthavehighhopes', 'dontmakemebeg', 'dontmakemegooutside', 'doo', 'doom', 'door', 'doors', 'doorstep', 'dope', 'dorns', 'dory', 'dos', 'dot', 'doua', 'double', 'doublestandards', 'doubt', 'doubtful', 'doug', 'douglas', 'dounotwantmybusiness', 'down', 'downgrade', 'downgraded', 'downgrading', 'downhill', 'download', 'downnnnn', 'downright', 'downs', 'downstairs', 'downtown', 'doyourjob', 'dozen', 'dozens', 'dpdfpp', 'dphqrgkdoa', 'dpt', 'dpx', 'dqbai', 'dqjn', 'dqny', 'dqzlrjo', 'dr', 'draft', 'dragon', 'dragons', 'drain', 'dramatically', 'draw', 'drawing', 'draws', 'dre', 'dread', 'dreading', 'dream', 'dreaming', 'dreamliner', 'dreampath', 'dreams', 'dress', 'drfaoq', 'drift', 'drink', 'drinker', 'drinks', 'drive', 'driven', 'driver', 'drivers', 'driving', 'drop', 'droped', 'dropped', 'droppeditoffyet', 'dropping', 'drops', 'drove', 'drunk', 'drunkpilots', 'drunks', 'dry', 'ds', 'dsdebodmel', 'dsi', 'dsm', 'dtheyofxrb', 'dtlguq', 'dts', 'dtv', 'dtw', 'dualcam', 'dub', 'dubai', 'dublin', 'duck', 'duct', 'dude', 'due', 'duecto', 'duffle', 'duh', 'duhbj', 'dulles', 'dullessucks', 'dullestostatecollege', 'dumb', 'dump', 'dumped', 'dumping', 'dumps', 'dungeon', 'dunno', 'duped', 'durango', 'during', 'dust', 'duty', 'duw', 'dvr', 'dvsltqzkmq', 'dvt', 'dw', 'dwell', 'dwese', 'dxicoyioxf', 'dxn', 'dxux', 'dy', 'dying', 'dynamite', 'dz', 'dzegapfqw', 'dzg', 'dzpnz', 'ea', 'each', 'eager', 'eagle', 'eakpa', 'ear', 'earlier', 'earliest', 'early', 'earlybird', 'earlybirdmeansnothing', 'earn', 'earned', 'earnedmybusiness', 'earning', 'earnings', 'earring', 'earrings', 'earth', 'earthquake', 'ease', 'easier', 'easiest', 'easily', 'east', 'easter', 'eastern', 'easy', 'eat', 'eaten', 'eating', 'eb', 'ebeemvg', 'ebhset', 'ebk', 'ebokeers', 'ebola', 'ebxc', 'ec', 'eco', 'ecom', 'econ', 'economic', 'economy', 'eczhcmm', 'ed', 'edgc', 'edge', 'edgy', 'edh', 'edhf', 'edinburgh', 'edit', 'edits', 'educate', 'education', 'educational', 'eegek', 'eeqwvammiy', 'eerekdf', 'ees', 'ef', 'effect', 'efficencies', 'efficiency', 'efficient', 'efficiently', 'effin', 'effing', 'effort', 'effortless', 'efforts', 'efw', 'efz', 'egaejtrglb', 'ege', 'eghdgn', 'egkvfokogj', 'egregious', 'eh', 'ehnee', 'eigajyzcw', 'eight', 'either', 'eiw', 'eix', 'eixifp', 'ek', 'el', 'ela', 'elaborate', 'elbows', 'elderly', 'elected', 'electric', 'electrical', 'electronic', 'electronics', 'elevate', 'elevategold', 'elevateuser', 'elevator', 'elhxuv', 'eligible', 'elise', 'elite', 'eliza', 'ella', 'elm', 'elpa', 'else', 'elsewhere', 'eltboljul', 'em', 'email', 'emailed', 'emailing', 'emails', 'embarrassed', 'embarrassing', 'embarrassment', 'embassy', 'embed', 'embody', 'embossed', 'emer', 'emerald', 'emerg', 'emergencies', 'emergency', 'emerging', 'emily', 'emirates', 'emp', 'empathetic', 'empathize', 'empathizes', 'empathy', 'emphasize', 'empl', 'emplid', 'employ', 'employee', 'employeerelations', 'employees', 'employer', 'emptied', 'empty', 'emrubu', 'ems', 'emv', 'en', 'encounter', 'encountered', 'encourage', 'encouraged', 'encouragement', 'end', 'ended', 'ending', 'endless', 'endlessly', 'ends', 'energy', 'enforce', 'enforcement', 'enforcing', 'engadget', 'engagement', 'engaging', 'engine', 'engineer', 'england', 'english', 'enhance', 'enjoy', 'enjoyable', 'enjoyed', 'enjoying', 'enormous', 'enough', 'enquires', 'enraging', 'enroll', 'enrolled', 'enroute', 'ensued', 'ensure', 'ensured', 'ensuring', 'enter', 'entered', 'entering', 'enterprise', 'enters', 'entertain', 'entertained', 'entertaining', 'entertainment', 'entertainmnt', 'entire', 'entirely', 'entitled', 'entrance', 'entree', 'entrusted', 'entry', 'enuf', 'environment', 'envoy', 'enzo', 'eom', 'ep', 'epic', 'epicfail', 'epicfailunited', 'epicfailure', 'epipens', 'epitimeoffail', 'epqqonho', 'eps', 'epw', 'eq', 'eqm', 'eqqi', 'eqsepqh', 'equal', 'equality', 'equally', 'equals', 'equip', 'equipment', 'equipped', 'equivalent', 'eqyahfvz', 'er', 'erased', 'ergpdwsj', 'eri', 'erie', 'erj', 'err', 'erring', 'error', 'errored', 'errors', 'ers', 'erzht', 'es', 'esbnzg', 'escalate', 'escape', 'escaping', 'escorted', 'esd', 'eservice', 'esp', 'especially', 'espinosa', 'essence', 'essential', 'essentially', 'essentials', 'essfoowt', 'est', 'establish', 'established', 'estimate', 'estimated', 'esuu', 'esw', 'et', 'eta', 'etailwest', 'etc', 'etd', 'eternal', 'etfjqiwuvt', 'ethan', 'ethics', 'ethiopia', 'etihad', 'etiquette', 'eu', 'eudlczg', 'eueyxawcv', 'europe', 'european', 'euros', 'evacuated', 'evaluate', 'evansville', 'evasive', 'eve', 'even', 'evening', 'evenlate', 'evenmorespace', 'evenmoreview', 'evennotified', 'event', 'eventhoughits', 'eventprof', 'events', 'eventually', 'ever', 'everglades', 'evermoreroom', 'every', 'everybody', 'everyone', 'everyones', 'everything', 'everythingsgonnabealright', 'everytime', 'everywhere', 'evidence', 'evidently', 'evn', 'evoucher', 'evry', 'evrytime', 'evv', 'ew', 'ewj', 'ewk', 'ewr', 'ewxwxidtfx', 'ex', 'exacerbates', 'exact', 'exactly', 'example', 'exams', 'exasperating', 'exceed', 'excellence', 'excellent', 'excellentcustomerservice', 'except', 'exception', 'exceptional', 'exceptionalservice', 'exceptions', 'excess', 'exchange', 'excited', 'excitement', 'exciting', 'exclusive', 'exclusively', 'excruciatingly', 'excusable', 'excuse', 'excuses', 'exdbcrhg', 'exec', 'execplat', 'execution', 'executive', 'executiveplatinummeansnothing', 'executives', 'exercise', 'exhausted', 'exhausting', 'exhaustion', 'exhibited', 'exhorbitantfees', 'exicted', 'exist', 'existence', 'existent', 'existing', 'exists', 'exit', 'exiting', 'exits', 'exp', 'expanded', 'expanding', 'expansion', 'expect', 'expectations', 'expected', 'expecting', 'expects', 'expedia', 'expedient', 'expedite', 'expedited', 'expeditious', 'expens', 'expense', 'expenses', 'expensive', 'exper', 'experience', 'experienced', 'experiences', 'experiencing', 'expiration', 'expire', 'expired', 'expires', 'expiring', 'explain', 'explained', 'explaining', 'explains', 'explanation', 'explanations', 'explore', 'explorer', 'exposed', 'expowest', 'express', 'expressed', 'expressing', 'exps', 'extend', 'extended', 'extension', 'extent', 'extinct', 'extortion', 'extra', 'extractions', 'extralight', 'extraordinaire', 'extraordinary', 'extravaganza', 'extreme', 'extremely', 'ey', 'eye', 'eyeglasses', 'eyes', 'eyku', 'eyt', 'eyw', 'eyyyy', 'fa', 'faa', 'faaaannntastic', 'faail', 'fab', 'fabrice', 'fabulous', 'face', 'facebook', 'faced', 'faceless', 'facepalm', 'faces', 'facilities', 'facing', 'fact', 'facts', 'fail', 'failagain', 'failed', 'failing', 'failingyourcustomer', 'failover', 'failphone', 'fails', 'failure', 'failures', 'faint', 'fair', 'fairbanks', 'faire', 'fairfax', 'fairly', 'fairs', 'fairway', 'faith', 'faithful', 'fake', 'fakeawards', 'fakesincerity', 'fall', 'fallen', 'falling', 'fallow', 'falls', 'false', 'fam', 'families', 'family', 'famous', 'fan', 'fans', 'fantastic', 'fantasy', 'faq', 'far', 'farce', 'fare', 'farecompare', 'farelock', 'fares', 'fargo', 'farmington', 'farms', 'fas', 'fashioned', 'fast', 'faster', 'fastest', 'fat', 'fate', 'father', 'fattuesday', 'fault', 'faults', 'faulty', 'faundation', 'fav', 'fave', 'faves', 'favor', 'favorite', 'favoriteairline', 'fax', 'fb', 'fbtemfwrsp', 'fc', 'fd', 'fe', 'fear', 'fearing', 'feature', 'feb', 'february', 'februaryfreezefox', 'fec', 'feces', 'fed', 'federal', 'fedexed', 'fee', 'feed', 'feedback', 'feel', 'feeling', 'feelings', 'feelingtheluv', 'feels', 'feelsgood', 'feeltheheat', 'fees', 'feet', 'fefhpmfple', 'fehqne', 'fell', 'fella', 'felt', 'female', 'fend', 'fendforyourself', 'ferry', 'festival', 'festivities', 'fete', 'few', 'fewer', 'ff', 'ffanixjhwh', 'ffc', 'ffl', 'ffstatusdontmatter', 'fgjbex', 'fgkxv', 'fh', 'fhes', 'fhk', 'fi', 'fianc', 'fiancee', 'fiasco', 'fib', 'fidencio', 'field', 'fields', 'fifth', 'fifty', 'fight', 'figure', 'figured', 'figures', 'file', 'filed', 'filing', 'fill', 'filled', 'filling', 'film', 'filmcrew', 'filmjobnoequipment', 'films', 'filters', 'filthy', 'filthyplane', 'final', 'finale', 'finally', 'finals', 'financial', 'find', 'findanothergate', 'finder', 'finding', 'finds', 'findurgrip', 'fine', 'finest', 'finger', 'fingers', 'fingerscrossed', 'finish', 'finishes', 'finnair', 'finq', 'fire', 'fired', 'firefighters', 'firefox', 'firevan', 'firing', 'firm', 'first', 'firstclass', 'firstlove', 'firststari', 'firstworldproblems', 'fiscal', 'fist', 'fistfights', 'fit', 'fits', 'five', 'fix', 'fixed', 'fixes', 'fixing', 'fixthis', 'fixyourstuff', 'fjbfsc', 'fjkvqmbmas', 'fka', 'fkn', 'fkqw', 'fl', 'flagging', 'flailing', 'flamethrowers', 'flashlight', 'flat', 'flatiron', 'flattering', 'flavors', 'flaw', 'flawed', 'flawless', 'flcnnn', 'fleek', 'fleet', 'flew', 'flex', 'flexibility', 'flexible', 'flght', 'flgjt', 'flgt', 'flier', 'flierfriendly', 'fliers', 'flies', 'flight', 'flightation', 'flightations', 'flightattendant', 'flightaware', 'flightcancelled', 'flightd', 'flightdelay', 'flighted', 'flightedflight', 'flightfail', 'flighting', 'flightlanding', 'flightlation', 'flightlations', 'flightled', 'flightledflight', 'flightling', 'flightly', 'flightn', 'flightness', 'flightr', 'flights', 'flightst', 'fligt', 'fligths', 'flintstone', 'flip', 'flipped', 'flipping', 'fliqo', 'flite', 'fll', 'fllight', 'floor', 'floors', 'florida', 'flow', 'flowers', 'flown', 'flt', 'flts', 'flu', 'fluctuated', 'fluid', 'flustered', 'flutter', 'flwmgdahxu', 'fly', 'flybetter', 'flydelta', 'flydeltanexttime', 'flyer', 'flyerfriendly', 'flyers', 'flyfi', 'flyin', 'flying', 'flyingainteasy', 'flyingitforward', 'flyingretro', 'flyingwithus', 'flyitforward', 'flypbi', 'flyquiet', 'flysouthwest', 'flyswa', 'flythefriendlyskies', 'flythroughs', 'flyunited', 'fm', 'fmipw', 'fml', 'fmzzoltv', 'fn', 'fnz', 'fo', 'focus', 'focused', 'fog', 'foh', 'folder', 'folding', 'folk', 'folks', 'follow', 'followback', 'followed', 'following', 'follows', 'fong', 'food', 'foodallergies', 'foodallergy', 'fool', 'foolish', 'foot', 'for', 'force', 'forced', 'forcedovernight', 'forces', 'forcing', 'forecast', 'forecasted', 'forecasts', 'foreign', 'forelock', 'foresight', 'forever', 'forevercold', 'foreverrrrrr', 'forfeit', 'forfeited', 'forfeits', 'forget', 'forgets', 'forgetting', 'forgive', 'forgiven', 'forgot', 'forgotten', 'form', 'formal', 'formality', 'formally', 'formed', 'former', 'forms', 'formula', 'fort', 'forth', 'fortunately', 'forty', 'foru', 'forum', 'forward', 'forwarding', 'fostering', 'found', 'four', 'fourth', 'fouty', 'fproblems', 'fq', 'fr', 'fra', 'fraction', 'frame', 'fran', 'france', 'francisco', 'frank', 'frankfurt', 'frankly', 'fransico', 'fransisco', 'fraqdpkyga', 'fraud', 'freaked', 'freakin', 'freaking', 'freaks', 'freaky', 'freberg', 'fred', 'free', 'freecomedyshow', 'freeflight', 'freeneversucks', 'freezes', 'freezing', 'french', 'freq', 'frequency', 'frequent', 'frequentflyer', 'frequentflyerappreciates', 'frequently', 'fresh', 'fresno', 'freyasfund', 'frghglmkqf', 'fri', 'fricken', 'friday', 'friend', 'friendliest', 'friendly', 'friendlyfriday', 'friendlyskies', 'friendlysky', 'friendlyteam', 'friends', 'frigid', 'frigidfriday', 'fritz', 'frm', 'fro', 'from', 'fromthefrontseat', 'fron', 'front', 'frontier', 'frontrunner', 'froward', 'frown', 'frozen', 'frozenwater', 'frrfxccw', 'fruit', 'frustrated', 'frustrating', 'frustration', 'frustrations', 'fs', 'fsd', 'fsluxegw', 'fsqthg', 'ft', 'ftl', 'ftlauderdale', 'ftmyers', 'fttfyfmvco', 'ftv', 'ftw', 'fu', 'fuccc', 'fuchzrzjg', 'fuck', 'fucked', 'fucken', 'fucking', 'fuckinlame', 'fuckoff', 'fudgers', 'fudgin', 'fuel', 'fueled', 'fuk', 'fuking', 'fulfill', 'fulfilled', 'full', 'fullprice', 'fully', 'fulmh', 'fun', 'func', 'function', 'functionality', 'functionally', 'functioning', 'funds', 'funeral', 'funflightattendants', 'funited', 'funny', 'funnycaptain', 'fupf', 'furious', 'furnish', 'furrow', 'further', 'fuselage', 'fustrated', 'fusturated', 'future', 'fuyukaidesuyo', 'fv', 'fvelcygz', 'fvf', 'fvj', 'fvk', 'fvlxirh', 'fvudmh', 'fvyzjldton', 'fw', 'fwa', 'fwd', 'fwhei', 'fwiw', 'fwkj', 'fwwe', 'fwy', 'fwzclbvug', 'fx', 'fy', 'fyi', 'fyvrfn', 'fyybhjhl', 'ga', 'gabriela', 'gae', 'gaga', 'gagent', 'gah', 'gain', 'gaincustomers', 'gainesville', 'gains', 'gal', 'gala', 'galaxy', 'galley', 'game', 'gameboy', 'gang', 'gangway', 'gap', 'garage', 'garbage', 'garcia', 'gardening', 'gary', 'gas', 'gassing', 'gate', 'gates', 'gather', 'gatwick', 'gave', 'gay', 'gb', 'gbd', 'gcks', 'gcwvfuopl', 'gcy', 'gdg', 'gds', 'gdzadxzbya', 'gear', 'gears', 'gee', 'geeeeezzzzz', 'geeks', 'geep', 'geez', 'geg', 'gems', 'general', 'generally', 'generated', 'generic', 'geneva', 'genious', 'gent', 'gentleman', 'gently', 'gents', 'genuine', 'genuinely', 'geography', 'george', 'geraghty', 'geraldine', 'german', 'germany', 'germs', 'gerne', 'gesture', 'get', 'getaway', 'getconnected', 'getittogether', 'getmartyhome', 'getmeoffrhisfuckinplane', 'getmeoffthisplane', 'getmeoutofhere', 'getmeouttahere', 'getmorehands', 'gets', 'gettin', 'getting', 'gettingbetter', 'gettingimpatient', 'getyouracttogether', 'gf', 'gfc', 'gfi', 'gg', 'ggqzqd', 'gguaa', 'ghettofab', 'ghho', 'ghjbp', 'gial', 'giant', 'giants', 'giennyqn', 'gif', 'gift', 'gifting', 'gifts', 'gig', 'giggled', 'gills', 'gimme', 'gin', 'girl', 'girlfriend', 'girls', 'girlsweekend', 'gis', 'gist', 'give', 'given', 'gives', 'givethemraises', 'givethoseladiesraise', 'giving', 'gj', 'gjqx', 'gkap', 'gkgkzlawpr', 'gkyuf', 'gla', 'glad', 'gladly', 'gladys', 'glance', 'glasgow', 'glass', 'glassdoor', 'glasses', 'glassslipperchallenge', 'glenn', 'glitch', 'glitches', 'global', 'globe', 'gloves', 'glowing', 'gluten', 'glxfwp', 'gm', 'gma', 'gmail', 'gmvd', 'gn', 'gng', 'gnight', 'gnk', 'gnv', 'go', 'goal', 'gobankrupt', 'god', 'goddamn', 'godelta', 'godfaknb', 'goes', 'gofundme', 'gogo', 'goin', 'going', 'goingforgreat', 'goingforgreatnessfail', 'goingtovegas', 'gok', 'gold', 'golden', 'goldentickets', 'golf', 'golfunited', 'gone', 'gong', 'gonmrwem', 'gonna', 'gonnabealongnight', 'good', 'goodbye', 'goodcustomerservice', 'goodenoughmother', 'goodflight', 'goodgenes', 'goodgriefpeople', 'goodluckamericanair', 'goodness', 'goodnight', 'goods', 'goodwill', 'google', 'goose', 'gooutofbusiness', 'gopatriots', 'gorgeous', 'gosh', 'got', 'gotcha', 'gotta', 'gotten', 'gouzrdt', 'gov', 'government', 'governor', 'govt', 'gpu', 'gq', 'gqdt', 'gqni', 'gqp', 'gr', 'grab', 'grabbed', 'gracias', 'gracious', 'grader', 'grades', 'graduate', 'graduation', 'gramp', 'grand', 'grandbabies', 'grandcanyon', 'grandcayman', 'grandfather', 'grandma', 'grandmother', 'grandmothers', 'grandpa', 'grandparents', 'grant', 'granting', 'graphic', 'graphics', 'gras', 'grassy', 'grateful', 'gratitude', 'gray', 'great', 'greatcustomerservice', 'greater', 'greatest', 'greatjob', 'greatly', 'greatservice', 'greedy', 'greeeaat', 'green', 'greenfield', 'greensboro', 'greenville', 'greeted', 'greeting', 'greetings', 'greetingz', 'grezp', 'grief', 'grievance', 'grinding', 'grk', 'grkbj', 'grnd', 'groan', 'gross', 'grossedout', 'grouchy', 'ground', 'grounded', 'grounds', 'group', 'groupa', 'grouping', 'groups', 'grow', 'growing', 'grown', 'grp', 'grr', 'grrrr', 'grrrrrr', 'grrrrrrrr', 'grrwaaa', 'grt', 'gru', 'grumpykim', 'gsa', 'gsb', 'gso', 'gsp', 'gt', 'gtdwpk', 'gth', 'gtsvyb', 'gtzxz', 'guacamole', 'guam', 'guarantee', 'guaranteed', 'guatemala', 'guc', 'guess', 'guessing', 'guesstimate', 'guessweflyingdelta', 'guest', 'guests', 'guidance', 'guide', 'guidelines', 'guiltypleasures', 'guinea', 'guitar', 'guitars', 'gum', 'gun', 'gunna', 'guns', 'gusty', 'guy', 'guyana', 'guys', 'guyyyys', 'gvgkhbx', 'gvn', 'gvngq', 'gx', 'gxdqortss', 'gxvfumn', 'gxwi', 'gy', 'gz', 'gzb', 'ha', 'habitrails', 'habitually', 'habyep', 'hacks', 'had', 'hadn', 'hah', 'haha', 'hahaha', 'hahahah', 'hahahahaha', 'hail', 'hair', 'haiti', 'haj', 'half', 'halfway', 'hall', 'hammer', 'hamsters', 'hand', 'handbag', 'handed', 'handedly', 'handicap', 'handicapped', 'handily', 'handing', 'handle', 'handled', 'handler', 'handlers', 'handling', 'hands', 'handshake', 'handy', 'hang', 'hangar', 'hanged', 'hanger', 'hanging', 'hangs', 'hangup', 'hannah', 'happen', 'happened', 'happening', 'happens', 'happier', 'happily', 'happiness', 'happy', 'happybirthday', 'happycamper', 'happycustomer', 'happyflier', 'happyfriday', 'happytohelp', 'happytweet', 'haqc', 'harass', 'harbor', 'hard', 'harder', 'hardly', 'hardtodo', 'hardworking', 'hare', 'harsh', 'hartford', 'has', 'hashtag', 'hasn', 'hassle', 'hassles', 'hasty', 'hate', 'hated', 'hateful', 'hates', 'hating', 'hats', 'haul', 'havana', 'have', 'haven', 'havent', 'havin', 'having', 'havoc', 'hawaii', 'hayden', 'hayes', 'hb', 'hbg', 'hbsj', 'hbt', 'hcnn', 'hcqzt', 'hcyu', 'hd', 'hdn', 'hdndl', 'hdoxim', 'he', 'head', 'headache', 'headaches', 'headed', 'header', 'heading', 'headlines', 'headphone', 'headphones', 'heads', 'health', 'healthbenefitsofplants', 'hear', 'heard', 'hearing', 'heart', 'heartbroken', 'heartlanta', 'heartless', 'hearts', 'heat', 'heated', 'heathrow', 'heattrap', 'heaven', 'heavily', 'heavy', 'heck', 'heel', 'heels', 'heh', 'height', 'held', 'helene', 'hell', 'hella', 'heller', 'hello', 'help', 'helpaa', 'helped', 'helper', 'helpful', 'helpfulness', 'helpimstuck', 'helping', 'helpless', 'helpline', 'helpmeplease', 'helps', 'hemisphere', 'hemispheres', 'hemophilia', 'hence', 'hep', 'hepknpuzwu', 'hepl', 'her', 'herb', 'herba', 'herbal', 'here', 'herman', 'herndon', 'hero', 'heroes', 'herself', 'hesitant', 'hey', 'heyo', 'heyyyy', 'hez', 'hf', 'hfjkto', 'hfjyn', 'hfof', 'hg', 'hgdj', 'hgqprsg', 'hgw', 'hh', 'hhoxqpsuba', 'hi', 'hiajm', 'hiccups', 'hid', 'hidden', 'hide', 'higgs', 'high', 'higher', 'higherandhigher', 'highest', 'highhopes', 'highlight', 'highly', 'hike', 'hilarious', 'hill', 'him', 'himself', 'hindered', 'hint', 'hinted', 'hints', 'hip', 'hipster', 'hipunis', 'hire', 'hired', 'hiremorepeople', 'hiremorepoeple', 'hiring', 'his', 'hisc', 'hishb', 'historical', 'historically', 'history', 'hit', 'hitawall', 'hitch', 'hits', 'hitting', 'hizouse', 'hj', 'hjucp', 'hjxkp', 'hkg', 'hlngbtx', 'hlp', 'hlzahxkdsn', 'hm', 'hmcrjchb', 'hmm', 'hmmm', 'hmmqczkcf', 'hn', 'hnl', 'ho', 'hoaewhws', 'hockey', 'hof', 'hogs', 'hold', 'holder', 'holders', 'holding', 'holdon', 'holds', 'holdtime', 'holdup', 'hole', 'holiday', 'holidays', 'holler', 'hollow', 'hollymais', 'holton', 'holy', 'holz', 'home', 'homeless', 'hometown', 'homeward', 'homewardbound', 'homm', 'homosexual', 'honalulu', 'honest', 'honestly', 'honesty', 'honey', 'honeymoon', 'honolulu', 'honor', 'honorable', 'honored', 'honoring', 'honors', 'honour', 'hoo', 'hoodlums', 'hook', 'hooked', 'hooking', 'hoom', 'hooooo', 'hoops', 'hooray', 'hoot', 'hop', 'hope', 'hoped', 'hopeful', 'hopefully', 'hopeidonotgetsick', 'hopeless', 'hopes', 'hopethegearmakesitintact', 'hopetogetanswersoon', 'hopin', 'hoping', 'hopped', 'hops', 'horizon', 'hormonal', 'horrendous', 'horrible', 'horribleattitudes', 'horriblecustomerservice', 'horribleservice', 'horribly', 'horrid', 'horrific', 'horror', 'horse', 'hosp', 'hospitality', 'hospitals', 'hostage', 'hostile', 'hosting', 'hot', 'hotel', 'hotels', 'hotlanta', 'hotline', 'hotmail', 'hotspot', 'hotter', 'hotterandlongerthanhell', 'hou', 'hour', 'hourandtenminutedelay', 'hourdelay', 'hours', 'hourwait', 'hourwaitsucks', 'house', 'housing', 'houston', 'hover', 'hovuaisg', 'how', 'however', 'howhardcanthatreallybe', 'howisthatpossible', 'hp', 'hpgxyzrw', 'hpn', 'hpsieaokwh', 'hpsqvrjk', 'hqdtk', 'hqez', 'hqhdad', 'hqoks', 'hr', 'hrdelay', 'hrl', 'hrqq', 'hrs', 'hs', 'hsmgy', 'hsmpbsf', 'hsnlgie', 'hsv', 'ht', 'html', 'hts', 'http', 'https', 'hub', 'hubby', 'hubbys', 'hubs', 'huclxluv', 'hug', 'huge', 'hugeeeee', 'hugely', 'hughes', 'huh', 'hum', 'human', 'humans', 'humiliated', 'humiliating', 'humor', 'humour', 'humphrey', 'hundred', 'hundreds', 'hung', 'hungry', 'hungupnohelp', 'hunky', 'hunt', 'huntsville', 'hurricane', 'hurry', 'hurt', 'hurting', 'hurts', 'hury', 'hurz', 'husain', 'husband', 'husbands', 'huston', 'hut', 'huxleyesque', 'hv', 'hve', 'hvfqb', 'hwfkfo', 'hwnac', 'hxlnvzknp', 'hxri', 'hxsdp', 'hxvvis', 'hy', 'hyhw', 'hypocrisy', 'hyrao', 'iad', 'iadore', 'iah', 'ialiceh', 'iatanbul', 'ib', 'iberia', 'ibqr', 'ice', 'icecream', 'iced', 'iceday', 'iceland', 'icelandair', 'ichangedyourdiaper', 'icing', 'icloud', 'iclv', 'iconography', 'icu', 'icy', 'icyflight', 'id', 'idaho', 'idea', 'ideal', 'ideas', 'identical', 'ideologias', 'ideserveareward', 'idiot', 'idiotic', 'idiots', 'idk', 'idlovetoask', 'idnumber', 'idols', 'idonotcare', 'idontwannalivewithoutyourlove', 'idontwanttocallback', 'idra', 'ids', 'ieg', 'iest', 'if', 'ifc', 'ife', 'ifespcbztm', 'iflyalot', 'iflyswa', 'ifnjit', 'ifthe', 'ig', 'igiveup', 'igkogywksr', 'ignorant', 'ignore', 'ignored', 'ignores', 'ignoring', 'igqjn', 'igsvzvrbbn', 'ihatemergers', 'ihop', 'ihu', 'iidrblnoox', 'iiiii', 'iitojhuikh', 'ij', 'ijustwanttobeinboston', 'ijustwanttosleep', 'ikbp', 'ikqbdza', 'il', 'ilc', 'iljaebv', 'ill', 'illegal', 'illiterate', 'illness', 'illogical', 'ilo', 'ilookyoung', 'ilovejetblue', 'ilqzmmjiyq', 'ils', 'ilw', 'ilzqdwe', 'im', 'images', 'imagine', 'imaginedragons', 'imateacher', 'imdckodfx', 'imdetermined', 'imessage', 'imjustsaying', 'imma', 'immediate', 'immediately', 'immensely', 'imnp', 'imo', 'impact', 'impacts', 'impatience', 'impatient', 'impediment', 'impending', 'impersonal', 'impersonator', 'implement', 'impolite', 'important', 'importantflight', 'impossible', 'impossibly', 'impress', 'impressed', 'impression', 'impressions', 'impressive', 'improper', 'improve', 'improved', 'improvement', 'improvements', 'improvetheprocess', 'improving', 'imqzlg', 'imtired', 'in', 'inability', 'inaccessibility', 'inaccurate', 'inactivity', 'inadequate', 'inappropriate', 'inbound', 'inbox', 'inc', 'incapable', 'incedentals', 'incentive', 'inch', 'inchecking', 'inches', 'incident', 'incidents', 'incl', 'inclement', 'incls', 'include', 'included', 'includes', 'including', 'inclusion', 'incncav', 'income', 'incoming', 'incompetence', 'incompetent', 'incompetentmanagers', 'inconceivable', 'inconsiderate', 'inconsistent', 'inconvenience', 'inconvenienced', 'inconveniences', 'inconvenient', 'inconveniently', 'inconvience', 'incorrect', 'incorrectly', 'increase', 'increased', 'increasing', 'incredible', 'incredibly', 'increments', 'incur', 'incurred', 'incurring', 'ind', 'indeed', 'indenial', 'independence', 'india', 'indian', 'indianapolis', 'indicate', 'indicated', 'indicates', 'indicating', 'indication', 'indignation', 'individual', 'induce', 'industry', 'indy', 'inebriated', 'ineedabeer', 'inefficiency', 'inefficient', 'ineligible', 'inept', 'inevitable', 'inexcusable', 'inexperienced', 'infant', 'infants', 'inferior', 'infinite', 'infinity', 'inflatable', 'inflating', 'inflation', 'inflexible', 'inflight', 'influx', 'info', 'infographic', 'inform', 'information', 'informative', 'informed', 'informing', 'informs', 'infrastructure', 'infringement', 'infuriated', 'ing', 'ingredients', 'inhumane', 'initial', 'initiated', 'initiative', 'injured', 'injuries', 'injury', 'inner', 'innovacion', 'innovation', 'innp', 'inpolite', 'input', 'inputted', 'inquire', 'inquired', 'ins', 'insane', 'insanely', 'insanity', 'insensitive', 'inserted', 'inside', 'insider', 'insight', 'insist', 'insisted', 'inspected', 'inspiration', 'inspired', 'inspiring', 'insta', 'instagram', 'installed', 'installing', 'instance', 'instant', 'instantly', 'instead', 'institutional', 'instructed', 'instructions', 'instrument', 'insufficient', 'insulin', 'insult', 'insulted', 'insulting', 'insurance', 'insure', 'int', 'intact', 'integrate', 'integrating', 'integration', 'integrity', 'intelligence', 'intelligent', 'intend', 'intended', 'intent', 'intention', 'intentional', 'intentionally', 'interaction', 'interchangeably', 'intercom', 'intercontinental', 'interest', 'interested', 'interesting', 'interfering', 'interim', 'interior', 'interiors', 'intern', 'internal', 'internally', 'international', 'internationally', 'internet', 'interns', 'internship', 'interpreting', 'interrogated', 'interrupted', 'interview', 'interviewed', 'interviews', 'intimate', 'intl', 'intlcheckin', 'into', 'intra', 'intro', 'intrusive', 'inv', 'invalid', 'inventory', 'invest', 'investigate', 'investigated', 'investigation', 'investment', 'investor', 'investors', 'invitation', 'invite', 'invited', 'invoice', 'invoices', 'involuntarily', 'involve', 'involved', 'ionlyflyblue', 'ios', 'iowa', 'ip', 'ipaamzt', 'ipad', 'ipgeicsm', 'ipgs', 'iphone', 'ipodtouch', 'ipx', 'iqr', 'iqu', 'ir', 'irate', 'ireland', 'irg', 'irmafromdallas', 'irons', 'irony', 'irregularity', 'irreplaceable', 'irresponsible', 'irritated', 'irritating', 'irrops', 'is', 'isabelle', 'isdelayed', 'ish', 'ishouldhavedriven', 'isis', 'isit', 'isitsummeryet', 'isitthegarykellyway', 'islands', 'isn', 'isnt', 'isolate', 'isp', 'israel', 'issue', 'issued', 'issues', 'issuing', 'istanbul', 'istead', 'isthisreal', 'it', 'italian', 'italy', 'item', 'items', 'itenary', 'itfits', 'ithaca', 'ithelpsabit', 'ithica', 'itin', 'itineraries', 'itinerary', 'itis', 'ito', 'itover', 'itproblems', 'itravelalot', 'its', 'itscold', 'itself', 'itsthelittlethings', 'itwasminttobe', 'iusedtoloveu', 'ive', 'ivr', 'iwantcoffee', 'iwantmymoneyback', 'iwas', 'iwoigrlhxb', 'iwoulddoanythingforlove', 'ixm', 'ixyw', 'iy', 'iyhi', 'iyuzm', 'iz', 'izfofgjzui', 'ja', 'jac', 'jack', 'jackass', 'jacked', 'jacket', 'jackson', 'jacksonville', 'jacqueline', 'jacquelyn', 'jacquie', 'jail', 'jailbreak', 'jaipur', 'jamaica', 'james', 'jamesasworth', 'jameskraw', 'jamie', 'jammed', 'jan', 'jana', 'jane', 'janet', 'january', 'japan', 'jaramillo', 'jason', 'javascript', 'jax', 'jazn', 'jb', 'jbdkxd', 'jblu', 'jbmvvha', 'jbn', 'jbpc', 'jbyvmsod', 'jcd', 'jcediky', 'jchb', 'jdhadp', 'jdver', 'jdvk', 'jealous', 'jeanette', 'jeanine', 'jeans', 'jeff', 'jena', 'jennings', 'jeokoo', 'jerk', 'jerks', 'jersey', 'jesus', 'jet', 'jetbae', 'jetblue', 'jetblueblues', 'jetbluebos', 'jetbluebruins', 'jetbluefail', 'jetblueforever', 'jetbluehatesbtv', 'jetbluejfk', 'jetbluemember', 'jetbluemess', 'jetbluerocks', 'jetblues', 'jetbluesofly', 'jetbluesucks', 'jetbridge', 'jetgreen', 'jetred', 'jets', 'jetscrew', 'jetway', 'jetways', 'jewel', 'jfiik', 'jfk', 'jfps', 'jfxua', 'jgdu', 'jglw', 'jgor', 'jh', 'jhx', 'jhxwmutx', 'ji', 'jide', 'jieycat', 'jim', 'jj', 'jjdosfyibm', 'jjia', 'jjje', 'jjt', 'jk', 'jkalzl', 'jkbo', 'jkf', 'jkk', 'jknwugj', 'jlhm', 'jln', 'jm', 'jmnkj', 'jn', 'jnpjm', 'jnqnbk', 'joanna', 'job', 'jobfail', 'jobs', 'jockeying', 'joe', 'john', 'join', 'joined', 'joke', 'jokers', 'jokesonus', 'joking', 'joni', 'jop', 'joplin', 'jorescfb', 'jose', 'journal', 'journalist', 'journey', 'joy', 'jp', 'jpd', 'jperhi', 'jps', 'jq', 'jqhg', 'jrm', 'js', 'jt', 'jtm', 'jtxyhqhfjj', 'ju', 'jua', 'juan', 'judas', 'judeo', 'jul', 'julian', 'julie', 'july', 'jump', 'jumped', 'jumping', 'jun', 'junction', 'june', 'junk', 'just', 'justdoit', 'justgetmehome', 'justifiable', 'justify', 'justifythissupport', 'justsayin', 'justsaying', 'justwantmybed', 'justwrong', 'jutcdrljl', 'jv', 'jvdf', 'jvj', 'jvmchat', 'jvoys', 'jvstatus', 'jwa', 'jwl', 'jx', 'jxqep', 'kacy', 'kaej', 'kailua', 'kak', 'kangaroos', 'kansas', 'karaax', 'karen', 'karma', 'kate', 'kathryn', 'katie', 'kats', 'kauai', 'kax', 'kay', 'kb', 'kbhym', 'kbkx', 'kbs', 'kbtzvju', 'kc', 'kcddod', 'kcgaxxfa', 'kci', 'kcqebeej', 'kcqnwixucm', 'kcvubuyexc', 'kdcsxu', 'kdhruf', 'kdmq', 'kdzqczlpyr', 'kee', 'keep', 'keepem', 'keeping', 'keepingtraditionsalive', 'keepitclassy', 'keepitmovin', 'keepitup', 'keepmy', 'keeps', 'kek', 'kelly', 'kelsey', 'kenoh', 'kept', 'ker', 'kerry', 'ketr', 'kevin', 'kewl', 'key', 'kf', 'kfd', 'kfjd', 'kfuyyokufv', 'kgdh', 'kgrf', 'kh', 'khgjofgpx', 'khx', 'khzrccyp', 'ki', 'kick', 'kicked', 'kickin', 'kicking', 'kid', 'kidding', 'kids', 'kigfkvxxdq', 'kihge', 'kill', 'killed', 'killeen', 'killin', 'killing', 'kim', 'kin', 'kind', 'kinda', 'kinder', 'kindle', 'kindly', 'kindness', 'king', 'kiosk', 'kiosks', 'kisses', 'kit', 'kitchen', 'kitties', 'kix', 'kj', 'kjkuvj', 'kk', 'kkedjnrtwo', 'kkwiwi', 'kkyby', 'kl', 'klxivnbcyh', 'kmanldqbh', 'kmdw', 'kmquly', 'kms', 'kmtyul', 'kn', 'knack', 'kncpf', 'knees', 'knew', 'knock', 'know', 'knowing', 'knowledge', 'known', 'knows', 'knoxville', 'koa', 'korea', 'korsn', 'kosher', 'kp', 'kphl', 'kps', 'kpyhcka', 'kq', 'kqb', 'kqlhvap', 'kqnrrp', 'kqz', 'kr', 'kravitz', 'kristie', 'kristy', 'ksgcq', 'kshtue', 'ksml', 'kta', 'ktawbiuuro', 'kthxbai', 'ktk', 'ktm', 'ktn', 'ktou', 'ktqfo', 'ktsgi', 'ktssk', 'ku', 'kudos', 'kul', 'kumtbger', 'kurt', 'kv', 'kvfwajvvid', 'kvkd', 'kvm', 'kvxs', 'kwbk', 'kwm', 'kwuek', 'kxa', 'kxb', 'ky', 'kyjbcjm', 'kyrbyj', 'kys', 'kzbvf', 'kzkyzrr', 'la', 'labeled', 'labor', 'labrador', 'labyrinth', 'lack', 'lacked', 'lacking', 'lacks', 'lacma', 'ladan', 'laden', 'ladies', 'lady', 'lag', 'laguardia', 'laiggef', 'laissez', 'lake', 'lame', 'lan', 'land', 'landed', 'landing', 'landings', 'lands', 'lanes', 'language', 'lap', 'laps', 'laptop', 'large', 'larger', 'largest', 'larive', 'larkc', 'larry', 'las', 'lasalle', 'last', 'lasted', 'lastella', 'lastflightofthenight', 'lastflightwithyouever', 'lastly', 'lastnight', 'lasttweetaboutthis', 'late', 'latte', 'latter', 'lauderdale', 'laugh', 'laughed', 'laughing', 'laughter', 'launched', 'launder', 'laundry', 'laura', 'lauren', 'lav', 'lavatory', 'lavoratories', 'law', 'laws', 'lawsuit', 'lawyer', 'lawyerup', 'lax', 'lay', 'layout', 'layover', 'layovers', 'lazy', 'lb', 'lbc', 'lbs', 'lbzxtrx', 'lchvjolidg', 'lcqlp', 'ld', 'ldy', 'le', 'lea', 'lead', 'leader', 'leadership', 'leading', 'leads', 'league', 'leak', 'leaking', 'learn', 'learncustomerservice', 'learned', 'learning', 'learnt', 'lease', 'least', 'leastthebeverageswillbecold', 'leather', 'leatherseats', 'leathery', 'leave', 'leaves', 'leaving', 'leavingtomm', 'led', 'lednocdqee', 'leeds', 'leeway', 'left', 'leg', 'legacy', 'legal', 'legalizes', 'legally', 'leggieri', 'legit', 'legitimate', 'legitimately', 'legroom', 'legs', 'leinenkugels', 'leisure', 'lekvhg', 'lemme', 'lenaowfyvu', 'lend', 'length', 'lengthy', 'lenses', 'less', 'lesscustomer', 'lessening', 'lesson', 'let', 'letdown', 'letitgo', 'lets', 'letsgo', 'letsgoalready', 'letsgohome', 'letsworktogether', 'letter', 'letters', 'letting', 'level', 'leverage', 'levi', 'lex', 'lexington', 'lf', 'lfgr', 'lfs', 'lft', 'lfulcbq', 'lga', 'lgb', 'lgbt', 'lgeg', 'lghpcdu', 'lgjw', 'lh', 'lhr', 'lhrdfw', 'lhrt', 'lhwfbkfyni', 'liable', 'liar', 'liars', 'liberty', 'library', 'license', 'lick', 'lie', 'lied', 'lies', 'life', 'lifeisgood', 'lifeline', 'lifesaver', 'lifetime', 'lifevests', 'lift', 'liftin', 'lifting', 'light', 'lightbulb', 'lighting', 'lightly', 'lightning', 'lights', 'like', 'likeagirl', 'liked', 'likelihood', 'likely', 'likes', 'liking', 'likingyoulessandless', 'lil', 'lile', 'lilly', 'lima', 'limit', 'limited', 'limits', 'lindsay', 'lindsey', 'line', 'lined', 'lines', 'linesforever', 'lineup', 'lingo', 'lining', 'link', 'linked', 'linking', 'links', 'lio', 'liqwoblfbt', 'lisa', 'list', 'listed', 'listen', 'listened', 'listening', 'listens', 'lister', 'listing', 'lists', 'lit', 'literally', 'literate', 'little', 'live', 'lived', 'lively', 'liveonfox', 'livepersonplease', 'livery', 'lives', 'livethelegend', 'livewelltraveled', 'livid', 'living', 'liza', 'lizaapproved', 'lj', 'ljabn', 'ljzdthd', 'lkfh', 'lkqjw', 'll', 'lla', 'lloyd', 'llwi', 'lm', 'lmao', 'lmaooo', 'lmaoooo', 'lme', 'lmfao', 'lmfaooooo', 'lmk', 'lmp', 'lnded', 'lo', 'load', 'loaded', 'loading', 'loads', 'loaned', 'loaner', 'loanr', 'loans', 'loc', 'local', 'localized', 'locally', 'locals', 'locate', 'located', 'locating', 'location', 'locations', 'locator', 'lock', 'locked', 'lodge', 'lodging', 'loeco', 'loft', 'log', 'logan', 'logged', 'logging', 'logic', 'logical', 'logically', 'login', 'logistically', 'logistics', 'logo', 'logout', 'logs', 'lol', 'lolol', 'lololololol', 'loluwfci', 'lon', 'london', 'lone', 'long', 'longday', 'longer', 'longing', 'look', 'looked', 'lookforwardtoflywithaa', 'looking', 'looks', 'looong', 'loooooong', 'loop', 'looped', 'loose', 'loosing', 'lord', 'los', 'lose', 'loser', 'losers', 'loses', 'losing', 'loss', 'lost', 'lostacustomer', 'lostandforgotten', 'lostinlove', 'lostluggage', 'lostmybusiness', 'lostrevenue', 'lostsuitcase', 'lot', 'lots', 'lotttttttt', 'lou', 'loud', 'louder', 'loudly', 'loudspeaker', 'louis', 'louisville', 'lounge', 'lounges', 'lousy', 'love', 'loved', 'lovedflyingwiththem', 'loveisintheair', 'lovejetblue', 'lovely', 'loves', 'lovesongfriday', 'lovesouthwestair', 'lovetotravel', 'loving', 'low', 'lowdown', 'lower', 'lowercase', 'lowered', 'loweredexpectations', 'lowest', 'lowstandards', 'loyal', 'loyalrrmember', 'loyalty', 'lpmu', 'lpvfhky', 'lqjt', 'lrf', 'lrfo', 'lrw', 'lrxdn', 'lsn', 'lsxji', 'lsybglf', 'lt', 'ltf', 'ltr', 'ltwhmol', 'ltx', 'lubbock', 'lucia', 'luck', 'luckily', 'lucky', 'lufthansa', 'lug', 'luggage', 'luggagegate', 'luggages', 'lugging', 'lulgnweffh', 'lunch', 'lunchtime', 'lungs', 'lusaka', 'luv', 'luved', 'luvforsw', 'luvin', 'luvintheair', 'luvisbetter', 'luvswa', 'luvthem', 'luxuries', 'luxurious', 'luxury', 'luz', 'lv', 'lve', 'lvirtdtqly', 'lwjazioa', 'lwotkiekgu', 'lwwdac', 'lx', 'lxa', 'lxur', 'lxwbsfxfj', 'lyb', 'lycarltfhl', 'lying', 'lynchburg', 'lynn', 'lyoocx', 'lyqrb', 'lyuxazg', 'lzfgutxiyn', 'ma', 'maarten', 'mac', 'machine', 'machines', 'mad', 'maddening', 'made', 'madhouse', 'madness', 'madrid', 'maf', 'magazine', 'magic', 'magical', 'magically', 'maiden', 'mail', 'mailbox', 'mailing', 'mails', 'maimi', 'main', 'maine', 'mainline', 'maint', 'maintained', 'maintenance', 'maintenece', 'mait', 'major', 'majority', 'make', 'makeitright', 'makeovertime', 'makes', 'makessense', 'makestoomuchsense', 'makeup', 'making', 'makingloveoutofnothingatall', 'malcome', 'male', 'malfunction', 'malfunctioning', 'malik', 'mall', 'maltese', 'mammoth', 'man', 'manage', 'managed', 'management', 'manager', 'managers', 'managing', 'manch', 'manchester', 'mandatory', 'maneuver', 'manifests', 'manilla', 'manned', 'manner', 'manners', 'mans', 'manual', 'manually', 'manuel', 'many', 'map', 'maps', 'maqw', 'marathon', 'march', 'marcnocwzn', 'marcos', 'marcus', 'mardi', 'mardigras', 'margo', 'maria', 'marie', 'mario', 'mark', 'marked', 'market', 'marketing', 'markets', 'markie', 'marks', 'maro', 'married', 'marriott', 'marsh', 'marsha', 'marshaled', 'martha', 'martin', 'marty', 'mary', 'maryjo', 'mashing', 'mask', 'mass', 'massages', 'massive', 'massivefail', 'mastercard', 'masters', 'match', 'math', 'matter', 'matters', 'maui', 'maverick', 'mavigetbbw', 'max', 'maximization', 'may', 'maybe', 'maybeijustlost', 'maybemange', 'mayweather', 'mayweatherpacquiao', 'mb', 'mbas', 'mbcehcszx', 'mbj', 'mbps', 'mbr', 'mbvjflpbm', 'mc', 'mccaren', 'mccarran', 'mcdonnell', 'mce', 'mcgraw', 'mci', 'mckinnie', 'mcmullen', 'mco', 'mcsi', 'md', 'mdbdyomrs', 'mdbeei', 'mde', 'mdn', 'mdvu', 'mdw', 'me', 'meagan', 'meal', 'meals', 'mean', 'meaning', 'meaningful', 'means', 'meant', 'meantime', 'meanwhile', 'measly', 'measure', 'measured', 'meat', 'mech', 'mechanic', 'mechanical', 'mechanics', 'medal', 'media', 'medical', 'medication', 'mediocre', 'meds', 'meelan', 'meet', 'meeting', 'meetings', 'mega', 'meh', 'mejia', 'mel', 'melbourne', 'melinda', 'melissa', 'mellani', 'mellie', 'melting', 'melton', 'mem', 'member', 'members', 'membership', 'memo', 'memorial', 'memories', 'memorize', 'memory', 'memphis', 'men', 'mentality', 'mention', 'mentioned', 'mentioning', 'mentions', 'menu', 'menus', 'meoalcipdd', 'mercy', 'mere', 'merge', 'merged', 'merger', 'mergerdisaster', 'mergers', 'merging', 'mess', 'message', 'messaged', 'messages', 'messed', 'messes', 'messing', 'met', 'metal', 'metars', 'method', 'metro', 'mex', 'mexico', 'mf', 'mfd', 'mfmnkmvotr', 'mfps', 'mfvwsa', 'mgmt', 'mgr', 'mh', 'mha', 'mhhs', 'mhtforlife', 'mi', 'mia', 'miami', 'miamore', 'michael', 'michele', 'michelle', 'mid', 'middle', 'middleeast', 'mideast', 'midght', 'midland', 'midnight', 'midnite', 'midterm', 'midway', 'might', 'mightmismybrosgraduation', 'mighty', 'miguel', 'mike', 'mikehertz', 'mikes', 'milage', 'milageplus', 'milan', 'mild', 'mile', 'mileage', 'mileageplus', 'milehighselfieclub', 'miler', 'miles', 'milesaaver', 'milestone', 'military', 'million', 'millions', 'milwaukee', 'mimosa', 'min', 'mind', 'mine', 'minflight', 'mini', 'minimal', 'minimum', 'minneapolis', 'minor', 'minors', 'mins', 'minssss', 'mint', 'mintalicious', 'mintyfresh', 'minus', 'minute', 'minutes', 'miracle', 'miracles', 'miraculously', 'miranda', 'miriam', 'mis', 'misbehavior', 'miscalculation', 'miscnx', 'misconnected', 'miscounting', 'miserable', 'miserablemorning', 'miserably', 'misery', 'misfortune', 'misguided', 'mishaps', 'misinformation', 'misjudging', 'mislead', 'misleading', 'misplaced', 'misread', 'miss', 'missed', 'missedconnection', 'missedupgrades', 'missedwork', 'misses', 'missin', 'missing', 'missingtheoscars', 'mission', 'missmykids', 'misspelled', 'mistake', 'mistakefurious', 'mistaken', 'mistakes', 'mistreated', 'mistreatment', 'misunderstanding', 'misunderstood', 'mitchell', 'mite', 'mites', 'mix', 'mixtape', 'mizc', 'mj', 'mjkpgvxmpc', 'mjtk', 'mk', 'mka', 'mke', 'mkotz', 'mkpognntyc', 'mkt', 'mktg', 'mkwlkr', 'ml', 'mli', 'mltple', 'mm', 'mmcwkqp', 'mmmubb', 'mmq', 'mn', 'mnl', 'mnth', 'mnucha', 'moar', 'mobay', 'mobil', 'mobile', 'mobileboarding', 'mobility', 'mod', 'model', 'modelodenegocio', 'moderate', 'modifications', 'modify', 'moines', 'mojave', 'mold', 'mom', 'moment', 'moments', 'momma', 'moms', 'mon', 'monday', 'monetary', 'money', 'moneynotspentonunited', 'monica', 'monika', 'monitor', 'monitoring', 'monopoly', 'monsoon', 'mont', 'montana', 'montego', 'monterey', 'montereyregionalairport', 'month', 'monthly', 'months', 'monthsold', 'montreal', 'montrose', 'mood', 'moodlight', 'moodlighting', 'moodlitmonday', 'mooks', 'moon', 'moose', 'mor', 'more', 'morning', 'morrow', 'morrw', 'mortified', 'mos', 'mosaic', 'mosiac', 'mosiacfail', 'most', 'mostly', 'mot', 'motel', 'mother', 'motion', 'motor', 'motto', 'mountains', 'mouse', 'mouth', 'move', 'moved', 'movement', 'movements', 'moves', 'moveup', 'movie', 'movies', 'moving', 'mp', 'mph', 'mpls', 'mpnaaje', 'mpower', 'mpwnc', 'mqezxvdh', 'mqf', 'mqfmxebxt', 'mqxc', 'mr', 'mrj', 'mrn', 'ms', 'msg', 'msgs', 'msh', 'msn', 'msnbc', 'msp', 'mss', 'msy', 'mt', 'mtff', 'mtg', 'mtgs', 'mthm', 'mths', 'mtmsp', 'mtn', 'mty', 'muc', 'much', 'muchas', 'mugged', 'muh', 'multi', 'multimedia', 'multimillion', 'multinational', 'multiple', 'multipledooropeningandclosing', 'multiplier', 'mumbai', 'mumbled', 'mundane', 'munich', 'murdering', 'murdock', 'muscles', 'music', 'musical', 'musician', 'musicians', 'must', 'mv', 'mvmt', 'mvp', 'mvyoizrpde', 'mwa', 'mwbk', 'mwflg', 'mwpg', 'mwsoguc', 'mx', 'mxp', 'my', 'myers', 'mynzitcovn', 'myr', 'myrtle', 'myself', 'mystery', 'mytimeismoney', 'myvxexperience', 'mzu', 'mzzfgqfhu', 'na', 'nabisco', 'naelah', 'nah', 'nailed', 'nakedmeetings', 'name', 'named', 'names', 'naming', 'nancy', 'nano', 'nantucket', 'nap', 'napkins', 'naples', 'narayanan', 'narita', 'narrow', 'narrower', 'narrowly', 'nas', 'nasdaq', 'nashville', 'nassau', 'nasty', 'nat', 'nation', 'national', 'nationalized', 'nationwide', 'natt', 'natural', 'nature', 'naval', 'navigate', 'navigating', 'navimumbai', 'navy', 'naxbue', 'nba', 'nbc', 'nbd', 'nbr', 'nbz', 'nbzkhizf', 'nc', 'ncb', 'ncrmqibiwo', 'nd', 'ndary', 'ndmgz', 'ndtlj', 'ne', 'near', 'nearby', 'nearly', 'necessary', 'necessities', 'necessity', 'need', 'needcoffee', 'needed', 'needing', 'needlessly', 'needs', 'needtobehonest', 'needtocatchmynextflight', 'needtogethome', 'nef', 'negative', 'negativedegrees', 'negatively', 'neglect', 'neglected', 'negligence', 'negligent', 'negotiate', 'negroni', 'nehnsdckty', 'neighboring', 'neighbors', 'neither', 'nelson', 'nephew', 'neptune', 'neqm', 'nerd', 'nerdbird', 'nerves', 'nervous', 'net', 'netherlands', 'netneutrality', 'network', 'neuer', 'neurosurgery', 'neveind', 'never', 'neveragain', 'neverchange', 'neverfails', 'neverflyaaagain', 'neverflyunited', 'neverflyusairways', 'neverflyvirgin', 'neverflyvirginforbusiness', 'nevergettinghome', 'neverontime', 'nevertakeno', 'nevertoldus', 'neveryamind', 'new', 'newamerican', 'newamericanairline', 'newark', 'newarkliberty', 'newborns', 'newburg', 'newburgh', 'newflight', 'newlifetimecustomer', 'newly', 'neworleans', 'newplanesmell', 'news', 'newsbusiness', 'newspaper', 'newyork', 'next', 'nexttime', 'nexttimeiwillflysouthwest', 'nexus', 'nfaqhhr', 'nfszh', 'nftyconvention', 'ngg', 'nghmie', 'nght', 'ngxal', 'nh', 'nhl', 'nhmwyff', 'niagara', 'nice', 'nicely', 'nicer', 'nicest', 'nick', 'nickeled', 'nicole', 'niece', 'nifut', 'nigga', 'niggaz', 'night', 'nightmare', 'nightmarish', 'nights', 'nine', 'nines', 'nippon', 'nit', 'nite', 'nitrogen', 'nix', 'nixchangefees', 'nj', 'njv', 'nk', 'nkafbjyari', 'nklozcntto', 'nklw', 'nl', 'nlip', 'nlniu', 'nlzs', 'nm', 'nmaryland', 'nmbhngnmki', 'nmjymgh', 'nny', 'no', 'noaccountability', 'noair', 'noapology', 'nobackup', 'nobaggagefees', 'nobody', 'noc', 'nocareforcustomers', 'nocharge', 'nochill', 'noclothesnoinfo', 'nocoatcloset', 'nocommunication', 'nocompensation', 'nocrew', 'nocustomerservice', 'nodrinks', 'noexcuses', 'nofg', 'nofood', 'nofun', 'nofunatall', 'nogate', 'nogearnotraining', 'nogood', 'nohelp', 'nohotel', 'noise', 'nola', 'nolo', 'nolove', 'noloveforsurfers', 'noluv', 'nomoaa', 'nomoreaggravation', 'nomorevirgin', 'non', 'none', 'nonetheless', 'nonewplanes', 'nonexistent', 'nonperformance', 'nonprofit', 'nonprofits', 'nonrefundable', 'nonsense', 'nonstop', 'nonworking', 'noob', 'noon', 'noone', 'noooo', 'nooooo', 'noooooooooooooooooo', 'noooooooooooooooooooooope', 'nooption', 'nope', 'noplacelikehome', 'nopq', 'nor', 'norahm', 'noreimbursement', 'noreply', 'norfolk', 'norm', 'norma', 'normal', 'normally', 'norris', 'north', 'northeast', 'northern', 'norush', 'norway', 'nose', 'nosecuritylines', 'nosedived', 'noservice', 'noshadetothedmv', 'nosr', 'nostalgic', 'nosupport', 'not', 'notahappycustomer', 'notanymore', 'notch', 'notcool', 'note', 'noted', 'notes', 'notevenjv', 'notgoodenough', 'nothanks', 'nothappy', 'nothelpful', 'nothin', 'nothing', 'nothings', 'notice', 'noticed', 'noticing', 'notification', 'notifications', 'notified', 'notify', 'notifying', 'notimpressed', 'noting', 'notion', 'notmadeofmoney', 'notmyfault', 'notnice', 'notourfaultyoudontuseyourgatesright', 'notsatisfied', 'notsurprising', 'nottrue', 'notwheelsup', 'nov', 'novel', 'november', 'now', 'nowarmclothes', 'nowhere', 'nowhereland', 'noworstairline', 'noxtralegroom', 'npbhd', 'npib', 'npxb', 'nq', 'nqh', 'nrpwmgyv', 'nrt', 'nsgrt', 'nsjwvttjgo', 'nsusfsbpv', 'nt', 'ntgl', 'nthin', 'nto', 'ntptr', 'ntuix', 'nu', 'nudgenudge', 'nue', 'nuhplnxriq', 'nullified', 'num', 'number', 'numbered', 'numbers', 'numerical', 'numerous', 'numofpointsavailable', 'nustgpelsf', 'nut', 'nutella', 'nuts', 'nutsaboutsouthwest', 'nvbj', 'nvk', 'nvm', 'nvr', 'nw', 'nwf', 'nwk', 'nws', 'nwwqf', 'nxqijcojnj', 'nxt', 'ny', 'nyc', 'nye', 'nyfw', 'nygn', 'nyh', 'nyt', 'nytimes', 'nywr', 'nz', 'nzdxrvszwv', 'nzh', 'nzyspk', 'oa', 'oaaret', 'oaflfr', 'oaj', 'oak', 'oakland', 'oardjjgrrd', 'oatmeal', 'obama', 'obcepp', 'obey', 'obf', 'obj', 'obmr', 'obnoxious', 'obscene', 'observation', 'observe', 'observer', 'obsessed', 'obsolete', 'obtain', 'obvious', 'obviously', 'oc', 'occasion', 'occasions', 'occupied', 'occupy', 'occur', 'occurred', 'occurs', 'ocpteq', 'ocqk', 'oct', 'octavia', 'octaviannightmare', 'october', 'octp', 'odd', 'odds', 'odlall', 'oebc', 'oez', 'of', 'off', 'offended', 'offenders', 'offensive', 'offensively', 'offer', 'offered', 'offering', 'offers', 'office', 'officer', 'offices', 'official', 'officially', 'offload', 'oflol', 'often', 'ofw', 'ogg', 'oh', 'ohare', 'ohboy', 'ohio', 'ohioprobz', 'ohjl', 'ohno', 'oil', 'oilncfweyg', 'oje', 'ojrsdwpkk', 'ok', 'okaaaaay', 'okay', 'okayyyy', 'okc', 'okcdirects', 'okcprofessionals', 'okee', 'okie', 'oklji', 'oktukjy', 'olcbl', 'old', 'older', 'oldplanes', 'oldpolicieswaybetter', 'olds', 'olgo', 'olives', 'olsi', 'olympic', 'om', 'oma', 'omaha', 'omg', 'oml', 'omzqavi', 'on', 'onboad', 'onboard', 'onbrd', 'once', 'oncs', 'ondemand', 'one', 'onechildfourbags', 'onehouronhold', 'onelove', 'ones', 'oneworld', 'ongoing', 'onhold', 'onholdforever', 'onholdwith', 'onion', 'online', 'only', 'onlyblue', 'onlyinamerica', 'onlywaytofly', 'ons', 'ont', 'ontario', 'ontarmac', 'ontime', 'onto', 'ooej', 'ooh', 'ooookay', 'oopjpwg', 'oops', 'op', 'opal', 'opaque', 'open', 'opened', 'opening', 'opens', 'openskies', 'operate', 'operated', 'operating', 'operation', 'operational', 'operations', 'operator', 'operators', 'opinion', 'opinions', 'opportunities', 'opportunity', 'opposed', 'opposite', 'oprah', 'ops', 'opsec', 'opt', 'optimistic', 'option', 'options', 'optout', 'opxkxch', 'oq', 'oqaveo', 'oqukso', 'oqz', 'or', 'orangecounty', 'orbitz', 'ord', 'ordeal', 'order', 'ordered', 'ordering', 'ordnoise', 'oregon', 'oreos', 'orf', 'org', 'organization', 'organizational', 'organized', 'orig', 'origami', 'origin', 'original', 'originally', 'originating', 'orl', 'orlando', 'orleans', 'orphan', 'orthodoc', 'ory', 'os', 'osc', 'oscar', 'oscars', 'oscarscountdown', 'osjz', 'osox', 'other', 'others', 'otherwise', 'othr', 'otis', 'otlzak', 'ots', 'ottawa', 'otty', 'ouch', 'ought', 'oui', 'oumc', 'our', 'ourguest', 'ourprincess', 'ours', 'ourselves', 'oust', 'out', 'outage', 'outbound', 'outcome', 'outdated', 'outdoor', 'outfit', 'outfitted', 'outlets', 'outline', 'outofbusiness', 'outoftouchwithreality', 'outpost', 'outrage', 'outraged', 'outrageous', 'outright', 'outside', 'outsource', 'outsourced', 'outsourcing', 'outstanding', 'outta', 'outtage', 'ouvr', 'ouxy', 'over', 'overall', 'overbk', 'overbook', 'overbooked', 'overcharge', 'overcharged', 'overfilled', 'overflight', 'overflow', 'overflowed', 'overhaul', 'overhead', 'overheads', 'overheard', 'overheating', 'overkill', 'overloaded', 'overloads', 'overlooking', 'overnight', 'overpriced', 'overseas', 'overselling', 'oversize', 'oversized', 'oversleeping', 'oversold', 'overtime', 'overweight', 'overwhelmed', 'overwhelming', 'overzealous', 'oveur', 'ow', 'owe', 'owed', 'owen', 'owes', 'owmaxoyehz', 'own', 'owner', 'ownership', 'owning', 'owohd', 'ox', 'oxgen', 'oxm', 'oxsa', 'oxvo', 'oxy', 'oy', 'oyu', 'oz', 'pa', 'pac', 'pace', 'pacific', 'pacify', 'pack', 'package', 'packages', 'packed', 'packing', 'packingayak', 'pacquiao', 'pact', 'pad', 'padresst', 'pafe', 'page', 'paged', 'pages', 'paid', 'pain', 'painandsuffering', 'painful', 'painfully', 'painless', 'paint', 'painted', 'pair', 'pairing', 'pairings', 'pales', 'palm', 'pamper', 'panam', 'panamerican', 'pandora', 'pandu', 'panic', 'panicked', 'pant', 'pants', 'paper', 'papers', 'paperwork', 'par', 'paradise', 'parameters', 'paranoid', 'parent', 'parents', 'parhetic', 'paris', 'parizad', 'park', 'parked', 'parker', 'parking', 'parody', 'part', 'partial', 'participate', 'particularly', 'particulars', 'partly', 'partner', 'partnerrewards', 'partners', 'partnership', 'partnerships', 'parts', 'party', 'pascucci', 'paseengers', 'pasengers', 'paso', 'pass', 'passbook', 'passed', 'passenegers', 'passenger', 'passengerbillofrights', 'passengers', 'passengersarepeople', 'passengerslose', 'passes', 'passing', 'passion', 'passive', 'passngr', 'passport', 'password', 'past', 'pasta', 'paste', 'pasting', 'pastmypatienceexpirationdate', 'pat', 'patches', 'path', 'pathetic', 'patheticcx', 'patience', 'patiencerunningout', 'patient', 'patiently', 'patriarc', 'patricia', 'patrick', 'patron', 'patronizing', 'pats', 'patterns', 'paul', 'paulo', 'paws', 'pax', 'pay', 'paycheck', 'payed', 'paying', 'payment', 'payments', 'paymytab', 'paypal', 'pays', 'payton', 'pb', 'pbamu', 'pbi', 'pctf', 'pd', 'pdmgif', 'pdntgbxc', 'pdprhp', 'pdw', 'pdx', 'pe', 'peace', 'peak', 'peanut', 'peanuts', 'peanutsandtoons', 'peanutsonaplatter', 'pearl', 'peculiar', 'pedophile', 'pedro', 'peeled', 'peeps', 'peer', 'peeved', 'pefe', 'peggy', 'pek', 'pen', 'penalized', 'penalty', 'pending', 'penguin', 'pennies', 'pennypincher', 'pens', 'pensacola', 'people', 'peopleon', 'pepperidge', 'per', 'perfect', 'perfectly', 'perform', 'performance', 'performing', 'performs', 'perhaps', 'period', 'periods', 'periolodicly', 'perk', 'perks', 'permanent', 'permanently', 'permissions', 'persistence', 'person', 'personable', 'personal', 'personality', 'personalized', 'personally', 'personnel', 'perspective', 'perth', 'pesky', 'pet', 'peter', 'pets', 'petty', 'peuc', 'pf', 'pfsenjk', 'pfvqpoy', 'pg', 'pgfryz', 'pgh', 'pgwukrpmox', 'ph', 'phantom', 'phenomenal', 'phew', 'phi', 'phil', 'philadelphia', 'philippines', 'phillip', 'philly', 'phishing', 'phkfgr', 'phl', 'phltolas', 'phltoslc', 'phn', 'pho', 'phoavrxc', 'phoenix', 'phone', 'phonedied', 'phones', 'photo', 'photography', 'photos', 'phrase', 'phrased', 'phx', 'physical', 'physically', 'pia', 'pic', 'pick', 'picked', 'picking', 'pickng', 'picks', 'pics', 'picture', 'pictures', 'pid', 'piece', 'pigeon', 'piggy', 'pigs', 'pile', 'pillow', 'pillows', 'pilot', 'pilots', 'ping', 'pink', 'pins', 'pioa', 'pipes', 'piss', 'pissed', 'pissing', 'pisspoor', 'pit', 'pita', 'pits', 'pitt', 'pitts', 'pittsburg', 'pittsburgh', 'pity', 'pizza', 'pj', 'pjelzl', 'pjs', 'pk', 'pkaxunyfn', 'pkfi', 'pkiq', 'pky', 'pl', 'place', 'placed', 'places', 'placing', 'plague', 'plain', 'plainly', 'plains', 'plan', 'planb', 'plane', 'planebroken', 'planes', 'planestrainsandautomobiles', 'planet', 'planing', 'planned', 'planner', 'planning', 'plans', 'plants', 'plastic', 'plat', 'plate', 'platinum', 'platinumeventually', 'platinummember', 'platitudes', 'platter', 'play', 'playa', 'played', 'player', 'players', 'playing', 'playlist', 'playsoon', 'pleading', 'pleads', 'pleasant', 'pleasantly', 'please', 'pleasecomeback', 'pleased', 'pleaseeee', 'pleaseeeeee', 'pleasegod', 'pleasehurryup', 'pleasure', 'plebes', 'pleeeease', 'pleeeeease', 'pleeeeeeeease', 'plenty', 'plitt', 'pln', 'plot', 'ploughs', 'plow', 'plowing', 'plows', 'pls', 'plse', 'plt', 'plug', 'plumber', 'plundering', 'plus', 'plz', 'pm', 'pn', 'pnbajfkmhg', 'pnoav', 'pnr', 'pns', 'pocket', 'pockets', 'podium', 'poeon', 'pofsxojsy', 'point', 'pointed', 'pointer', 'pointing', 'pointless', 'points', 'pointsme', 'poisoning', 'police', 'policies', 'policy', 'polite', 'politely', 'ponj', 'pooch', 'pooling', 'poor', 'poorcommunication', 'poorcustomerservice', 'poorcustumerservice', 'poorest', 'poorform', 'poorly', 'poorplanning', 'poorservice', 'pop', 'popped', 'popping', 'pops', 'popular', 'pordes', 'porn', 'port', 'portable', 'portal', 'portfolio', 'portion', 'portland', 'portrayed', 'ports', 'portsmouth', 'pos', 'position', 'positive', 'possession', 'possessions', 'possiable', 'possibilities', 'possibility', 'possible', 'possibly', 'post', 'postcode', 'posted', 'posting', 'postpone', 'posts', 'postsecret', 'potable', 'potatoes', 'potential', 'potentially', 'potus', 'poughkeepsie', 'pound', 'pounds', 'pouting', 'powder', 'power', 'powered', 'pown', 'pp', 'ppl', 'ppva', 'ppvq', 'pqd', 'pqds', 'pqm', 'pqms', 'pqouatdf', 'pr', 'practical', 'practice', 'practices', 'praise', 'praised', 'praises', 'prank', 'pray', 'prayer', 'praying', 'prbound', 'prchase', 'prds', 'pre', 'preboard', 'preboarding', 'prebooked', 'precheck', 'prechk', 'preciate', 'preciation', 'precious', 'precioustime', 'precipitation', 'precludes', 'predict', 'predictable', 'predicted', 'predictive', 'preemptive', 'preexisting', 'pref', 'prefer', 'preferably', 'preference', 'preferences', 'preferred', 'prefference', 'preflight', 'pregame', 'pregnant', 'pregnantwithtwins', 'prem', 'premier', 'premiere', 'premiers', 'premium', 'preoccupied', 'preparation', 'preparations', 'prepare', 'prepared', 'preparedness', 'prepares', 'prerecorded', 'preregistration', 'pres', 'prescreen', 'present', 'presentation', 'presented', 'presenting', 'president', 'presidential', 'press', 'pressed', 'pressure', 'pressurecooker', 'pressurization', 'pretend', 'pretending', 'pretty', 'prettyplease', 'pretzels', 'prev', 'prevent', 'preventable', 'preventative', 'prevented', 'preventing', 'prevention', 'previous', 'previously', 'prgysvurm', 'pri', 'price', 'priced', 'pricediscrimination', 'priceless', 'prices', 'pricewise', 'pricey', 'pricing', 'pricy', 'prime', 'prince', 'princess', 'princesses', 'princesshalf', 'principle', 'print', 'printed', 'printer', 'printers', 'prior', 'priorities', 'prioritize', 'priority', 'prison', 'priv', 'private', 'privilege', 'privileges', 'prize', 'prn', 'pro', 'proactive', 'proactively', 'prob', 'probability', 'probably', 'problem', 'problematic', 'problems', 'problemsolvers', 'problemss', 'probls', 'probs', 'procedure', 'procedures', 'proceed', 'process', 'processed', 'processes', 'processing', 'produce', 'produced', 'product', 'productivity', 'prof', 'professional', 'professionalism', 'professionals', 'professor', 'professors', 'proficient', 'profile', 'profit', 'profitability', 'profitable', 'profiting', 'profits', 'program', 'programmers', 'programming', 'programs', 'progress', 'progressed', 'prohibits', 'proj', 'project', 'projects', 'prolly', 'prolonged', 'prom', 'promise', 'promised', 'promises', 'promising', 'promo', 'promos', 'promotethatgirl', 'promotion', 'promotions', 'prompt', 'prompting', 'promptly', 'prompts', 'pronounce', 'proof', 'proper', 'properly', 'property', 'proportion', 'proposal', 'propositioned', 'props', 'pros', 'protect', 'protected', 'protection', 'protest', 'protocol', 'protocols', 'proud', 'prove', 'provide', 'provided', 'providence', 'providenciales', 'provider', 'provides', 'providing', 'proving', 'provo', 'ps', 'psa', 'pseudo', 'psngrs', 'psp', 'pssgrs', 'pst', 'psuejdc', 'psych', 'pt', 'ptfo', 'pto', 'pts', 'ptsbka', 'ptw', 'pu', 'public', 'publicity', 'publicly', 'puerto', 'pujvcelng', 'pull', 'pulled', 'pulling', 'pulls', 'pulse', 'pummeled', 'pump', 'pumped', 'pumping', 'pumps', 'punished', 'punishedforflying', 'punta', 'puppy', 'pura', 'purchase', 'purchased', 'purchasing', 'pure', 'purely', 'purifier', 'purpose', 'purse', 'push', 'pushback', 'pushed', 'pushing', 'pushy', 'put', 'puts', 'putting', 'puvs', 'pvd', 'pvg', 'pvphmtzc', 'pvr', 'pw', 'pwd', 'pwm', 'px', 'pxdel', 'pyalebgkjt', 'pyjaoaynx', 'pykfvrq', 'pyxqv', 'qan', 'qantas', 'qavvlaxlkl', 'qbgamfpc', 'qbrzd', 'qbtckbr', 'qc', 'qcxk', 'qd', 'qdljhsloi', 'qdxft', 'qe', 'qefkfwzo', 'qeg', 'qf', 'qgmfcb', 'qgtcao', 'qgv', 'qh', 'qi', 'qjkl', 'qjlzrywfj', 'qjzapkx', 'qkkjdfobos', 'qkquraggoo', 'qlk', 'qm', 'qmdfqgf', 'qnp', 'qoazo', 'qol', 'qp', 'qpcr', 'qqt', 'qranzimhtr', 'qro', 'qrxvzfrd', 'qrxz', 'qs', 'qscjll', 'qsffu', 'qsqmm', 'qsqz', 'qsvgru', 'quadruples', 'qualification', 'qualified', 'qualifies', 'qualify', 'quality', 'quantas', 'quarter', 'qud', 'que', 'queries', 'query', 'question', 'questions', 'queue', 'queues', 'queuing', 'quick', 'quicker', 'quickie', 'quickly', 'quiet', 'quietly', 'quintana', 'quit', 'quite', 'quito', 'quotations', 'quoted', 'quzvmk', 'qv', 'qw', 'qwkyxsw', 'qwmxr', 'qwuf', 'qx', 'qxnoaqtyn', 'qxteqzm', 'qxv', 'qxww', 'qxybt', 'qyezhjgsb', 'qygxgmd', 'rabbits', 'rabgn', 'race', 'races', 'rachel', 'rachelle', 'racist', 'rack', 'rad', 'radio', 'radish', 'radykep', 'raeann', 'raft', 'rag', 'ragandisney', 'rage', 'ragncw', 'railed', 'rain', 'rainy', 'raise', 'raised', 'raising', 'raleigh', 'ramada', 'ramp', 'rampers', 'ramps', 'rams', 'ran', 'random', 'randomactsofcorporategreed', 'randomly', 'rang', 'range', 'ranging', 'ranked', 'rant', 'ranting', 'rapid', 'rapidly', 'rapidrewards', 'rapids', 'raps', 'rare', 'rarely', 'ratchet', 'rate', 'rated', 'rates', 'rather', 'rating', 'ratings', 'rats', 'raving', 'ravioli', 'ray', 'razor', 'rb', 'rbicx', 'rcd', 'rcdh', 'rch', 'rcvd', 'rd', 'rdj', 'rdrcre', 'rdu', 're', 'reaccommodation', 'reach', 'reached', 'reaches', 'reaching', 'reachingnewlows', 'react', 'reactions', 'reactivate', 'reactive', 'read', 'readded', 'reader', 'readers', 'reading', 'reads', 'ready', 'reagan', 'real', 'realise', 'realistic', 'reality', 'realize', 'realized', 'realizing', 'really', 'realtime', 'reappeared', 'rear', 'rearrange', 'reason', 'reasonable', 'reasonably', 'reasons', 'reassess', 'reassign', 'reassigned', 'reativation', 'rebecca', 'reboard', 'rebook', 'rebooked', 'rebooks', 'rebooting', 'rebuilding', 'rec', 'recap', 'receipt', 'receipts', 'receive', 'received', 'receiving', 'recent', 'recently', 'recharging', 'recheck', 'rechecked', 'recieved', 'reciprocate', 'reckless', 'reclameaqui', 'recline', 'reclining', 'recognition', 'recognize', 'recognized', 'recommend', 'recommendation', 'recommended', 'reconsider', 'reconsidering', 'record', 'recorded', 'recording', 'recordings', 'records', 'recouping', 'recourse', 'recover', 'recovered', 'recovering', 'recovery', 'recruiter', 'recruiting', 'rectified', 'rectify', 'recycle', 'red', 'redcarpet', 'redd', 'reddit', 'redeem', 'redeemed', 'redeeming', 'redemption', 'redesign', 'redirect', 'redirected', 'redirects', 'redsox', 'reduce', 'reduced', 'reduction', 'redwineisbetter', 'reebooked', 'reeks', 'reevaluate', 'ref', 'refer', 'reference', 'referencing', 'referral', 'referred', 'referring', 'reflect', 'reflection', 'reflight', 'refrain', 'refresh', 'refreshed', 'refresher', 'refreshes', 'refreshing', 'refreshments', 'refuel', 'refueled', 'refueling', 'refund', 'refundable', 'refunded', 'refunding', 'refundprocedurenottoopainful', 'refunds', 'refurbish', 'refuse', 'refused', 'refuses', 'refusing', 'regains', 'regard', 'regarding', 'regardless', 'regards', 'regina', 'regional', 'register', 'registered', 'registering', 'registers', 'registration', 'regret', 'regretting', 'regular', 'regularly', 'regulation', 'regulations', 'rehman', 'rei', 'reimburse', 'reimbursed', 'reimbursement', 'reinforcements', 'reinstate', 'reinstated', 'reinstating', 'reinvest', 'reissued', 'reiterate', 'rejected', 'rejecting', 'relate', 'relations', 'relationship', 'relationships', 'relative', 'relatives', 'relax', 'relaxing', 'relay', 'relayed', 'release', 'released', 'relevant', 'reliability', 'reliable', 'relied', 'relief', 'relieved', 'reload', 'reluctant', 'rely', 'relying', 'rem', 'remain', 'remained', 'remaining', 'remains', 'remember', 'remembered', 'remembering', 'remind', 'reminded', 'reminder', 'reminding', 'reminds', 'remorse', 'remote', 'remotely', 'removal', 'remove', 'removed', 'removes', 'removing', 'reno', 'rent', 'rental', 'rentals', 'rented', 'renting', 'reopen', 'reopened', 'reopens', 'rep', 'repaid', 'repair', 'repartee', 'repeat', 'repeated', 'repeatedly', 'repeating', 'replace', 'replaced', 'replacement', 'replacing', 'replane', 'replicate', 'replied', 'replies', 'reply', 'replying', 'report', 'reported', 'reporter', 'reports', 'reposted', 'reposting', 'repping', 'represent', 'representative', 'representatives', 'represents', 'reps', 'republican', 'reputation', 'req', 'reqs', 'request', 'requested', 'requesting', 'requests', 'require', 'required', 'requirement', 'requirements', 'requires', 'requiring', 'reroute', 'rerouted', 'res', 'resch', 'resched', 'reschedule', 'rescheduled', 'reschedulemyflight', 'reschedules', 'rescheduling', 'rescue', 'research', 'researching', 'reseated', 'resell', 'resend', 'resent', 'reserv', 'reservation', 'reservations', 'reserve', 'reserved', 'reset', 'residing', 'reso', 'resoled', 'resolution', 'resolutions', 'resolve', 'resolved', 'resolving', 'resort', 'resorting', 'resource', 'resources', 'respect', 'respectful', 'respond', 'responded', 'responding', 'responds', 'response', 'responses', 'responsibility', 'responsible', 'responsive', 'responsiveness', 'ressie', 'rest', 'restating', 'resting', 'restless', 'restore', 'restored', 'restr', 'restriction', 'restrictions', 'restroom', 'restrooms', 'restructured', 'result', 'resulted', 'resulting', 'results', 'resume', 'retailer', 'retain', 'retaining', 'retains', 'retards', 'rethink', 'rethinking', 'retire', 'retired', 'retook', 'retracted', 'retrain', 'retrieve', 'retrieved', 'retrn', 'retroactively', 'rett', 'return', 'returned', 'returning', 'returns', 'retweet', 'retweeted', 'retweets', 'reunion', 'reunited', 'reuniting', 'reuse', 'reveals', 'revenue', 'reverse', 'reversed', 'reverted', 'revieving', 'review', 'reviewed', 'revision', 'revisiting', 'revive', 'revs', 'revue', 'reward', 'rewards', 'rez', 'rfxlv', 'rgywjbbhm', 'rhivyr', 'rhkamx', 'rhonda', 'rhw', 'rhz', 'ri', 'ric', 'rica', 'rich', 'richard', 'rick', 'ricky', 'rico', 'ricoh', 'rid', 'ride', 'ridic', 'ridicules', 'ridiculous', 'ridiculously', 'ridiculousness', 'riedel', 'right', 'rights', 'ring', 'ringing', 'ringling', 'rings', 'rinzysk', 'riot', 'rip', 'ripoff', 'ripoffs', 'ripped', 'ripping', 'ripskymall', 'rise', 'rising', 'risk', 'rita', 'ritacomo', 'rito', 'ritz', 'rivals', 'rivets', 'rk', 'rklqxxawhc', 'rkorhvr', 'rkprxtgvfl', 'rkurt', 'rkvczbpdce', 'rkwugmanm', 'rl', 'rly', 'rlz', 'rmoug', 'rmpkogwu', 'rmznivgmg', 'rn', 'rnd', 'rndtrp', 'rno', 'rnp', 'road', 'roadmap', 'roads', 'roadwarrior', 'roae', 'roanoke', 'roasted', 'robbed', 'robert', 'roberto', 'roberts', 'robin', 'robinson', 'robocalls', 'robot', 'robotic', 'robotweeting', 'roc', 'rock', 'rocked', 'rockers', 'rockies', 'rocking', 'rockingthetweets', 'rocks', 'rockstar', 'rockstars', 'rocky', 'rodeo', 'roger', 'roiypc', 'role', 'roll', 'rollaboard', 'rolled', 'rollerboards', 'rollercoaster', 'rollers', 'rolling', 'roo', 'rookie', 'room', 'rooms', 'rosetta', 'rotary', 'rotten', 'rough', 'round', 'roundtrip', 'roundtrips', 'route', 'routed', 'router', 'routes', 'routine', 'routinely', 'routing', 'row', 'rows', 'royally', 'rpdbpx', 'rpsil', 'rqbpmwettq', 'rqbxw', 'rqc', 'rqstd', 'rr', 'rs', 'rsrv', 'rsvagijn', 'rsw', 'rt', 'rtb', 'rtih', 'rtn', 'rtqyjcvtq', 'rtr', 'rtrn', 'rtw', 'ru', 'rubber', 'rubbish', 'rubs', 'rude', 'rudely', 'rudeness', 'rudeservice', 'rudest', 'rudestaff', 'ruin', 'ruined', 'ruining', 'ruiningmy', 'ruins', 'rule', 'rules', 'rulesshouldbend', 'rum', 'rumne', 'rumor', 'rumors', 'run', 'runaround', 'runners', 'runnin', 'running', 'runningonthreehoursofsleep', 'runs', 'runway', 'runways', 'ruplv', 'rush', 'rushed', 'russ', 'russell', 'russia', 'ruth', 'rv', 'rwrd', 'rx', 'rxdks', 'rxmjwoo', 'ry', 'rymzd', 'rypzebc', 'ryxbplgmnk', 'rzb', 'sabotaging', 'sabre', 'sac', 'sacramento', 'sad', 'saddened', 'saddening', 'saddens', 'sadly', 'safari', 'safe', 'safely', 'safer', 'safety', 'safetyconcerns', 'safetyfirst', 'saga', 'said', 'saidi', 'sailed', 'sailor', 'saipan', 'sal', 'salad', 'sale', 'salem', 'sales', 'sally', 'salt', 'salted', 'salvaged', 'sam', 'samantha', 'same', 'sample', 'san', 'sand', 'sandiego', 'sandwich', 'sandwiches', 'sanfrancisco', 'sang', 'sanitized', 'sanitizer', 'sanity', 'santa', 'santo', 'sao', 'saozgtv', 'sap', 'sapphire', 'sarah', 'sarcasm', 'sarcastic', 'sarcastically', 'sardine', 'sass', 'sat', 'satellite', 'satisfaction', 'satisfactorily', 'satisfactory', 'satisfied', 'satisfy', 'sato', 'saturday', 'saturdays', 'sauce', 'sauna', 'sauvignon', 'sav', 'savannah', 'save', 'saved', 'saveface', 'saver', 'saves', 'savethediagonals', 'savethoseseats', 'saving', 'savings', 'saviour', 'savr', 'saw', 'say', 'sayin', 'saying', 'says', 'sb', 'sba', 'sbgbn', 'sbn', 'sc', 'scale', 'scalpel', 'scam', 'scan', 'scandal', 'scanned', 'scare', 'scareair', 'scared', 'scareways', 'scarf', 'scary', 'scattered', 'scavenger', 'scenario', 'scenarios', 'scene', 'scenes', 'scent', 'sch', 'schd', 'sche', 'sched', 'schedule', 'scheduled', 'schedules', 'scheduling', 'scheme', 'scheming', 'schiphol', 'school', 'schooler', 'schoolgirl', 'science', 'sciencebehindtheexperience', 'scolding', 'scollegelondon', 'scooby', 'scoop', 'scoot', 'scope', 'scott', 'scqujbvsta', 'scr', 'scramble', 'scratching', 'screakjmf', 'scream', 'screaming', 'screen', 'screencap', 'screening', 'screenings', 'screens', 'screenshot', 'screw', 'screwed', 'screwing', 'screws', 'scroll', 'scrum', 'scumbag', 'sd', 'sdf', 'sdlyn', 'sdm', 'sdq', 'sdylukr', 'sdytt', 'se', 'sea', 'seam', 'seams', 'sean', 'search', 'searched', 'searching', 'season', 'seasonal', 'seat', 'seatac', 'seatback', 'seatbelt', 'seated', 'seating', 'seatmate', 'seats', 'seattle', 'seau', 'sec', 'second', 'secondary', 'secondly', 'seconds', 'secret', 'secrets', 'section', 'secure', 'secured', 'securing', 'security', 'sedholm', 'seductive', 'see', 'seeing', 'seek', 'seeks', 'seem', 'seemed', 'seems', 'seen', 'sees', 'seet', 'seetonight', 'segment', 'segments', 'segway', 'select', 'selected', 'selecting', 'selection', 'selections', 'selects', 'self', 'selfie', 'selfies', 'sell', 'selling', 'sellmypointssoon', 'selves', 'semantics', 'semester', 'sen', 'send', 'sendambien', 'sending', 'sends', 'senior', 'sense', 'senseless', 'senses', 'sensitive', 'sent', 'sentiment', 'sentimental', 'sentinel', 'sep', 'separate', 'separated', 'separately', 'separating', 'sept', 'september', 'ser', 'series', 'serious', 'seriously', 'seriousness', 'serv', 'serve', 'served', 'servers', 'serves', 'service', 'serviced', 'servicedog', 'servicefail', 'services', 'servicing', 'serving', 'sests', 'set', 'sets', 'setting', 'settle', 'settled', 'seulpvfn', 'seven', 'several', 'severally', 'severe', 'severely', 'sex', 'sexual', 'sexy', 'sf', 'sfmi', 'sfo', 'sfotobos', 'sfuhg', 'sh', 'shade', 'shadier', 'shady', 'shafted', 'shaking', 'shall', 'shambles', 'shame', 'shameful', 'shameonyou', 'shampoo', 'shanese', 'shanghai', 'shannon', 'shaquille', 'share', 'shared', 'shares', 'sharing', 'sharktank', 'sharon', 'sharp', 'shattered', 'shavon', 'shawn', 'she', 'sheesh', 'shelleyandmarcrock', 'shenanigans', 'shes', 'shhhh', 'shift', 'shifts', 'shin', 'shined', 'ship', 'shipped', 'shirt', 'shirts', 'shit', 'shits', 'shitshow', 'shitting', 'shitty', 'shittydeal', 'shiver', 'shiz', 'shld', 'shock', 'shocked', 'shocker', 'shocking', 'shoddy', 'shoe', 'shoes', 'shopping', 'short', 'shortage', 'shortcomings', 'shortcuts', 'shortly', 'shorts', 'shortstaffed', 'shot', 'shots', 'shotwest', 'should', 'shoulder', 'shoulders', 'shouldhavedriven', 'shouldhaveflowndelta', 'shouldhaveflownjetblue', 'shouldigetoutandpush', 'shouldn', 'shouldnt', 'shouldwearmasks', 'shout', 'shoutout', 'show', 'showed', 'showing', 'shown', 'shows', 'showsomerespect', 'showup', 'shrug', 'shrugging', 'sht', 'shucks', 'shuffle', 'shut', 'shuttle', 'shuttles', 'shv', 'siberia', 'siblings', 'sick', 'siczx', 'side', 'sided', 'sides', 'sifhp', 'sigh', 'sight', 'sign', 'signage', 'signal', 'signed', 'significant', 'significantly', 'signin', 'signing', 'signs', 'signup', 'sil', 'silence', 'silicon', 'sill', 'silly', 'silver', 'sime', 'similar', 'simple', 'simplify', 'simply', 'simultaneously', 'since', 'sincere', 'sincerely', 'sine', 'sing', 'singapore', 'singer', 'singing', 'single', 'sink', 'sinuses', 'sir', 'sirius', 'sis', 'sister', 'sisters', 'sit', 'site', 'sites', 'siting', 'sits', 'sitters', 'sittin', 'sitting', 'sittingontheplane', 'sittingonthetarmac', 'situation', 'situations', 'sivi', 'six', 'size', 'sized', 'sizer', 'sj', 'sjc', 'sjd', 'sjo', 'sju', 'skateboard', 'skateboards', 'skebqktxvx', 'sked', 'ski', 'skies', 'skiing', 'skilled', 'skillful', 'skills', 'skin', 'skip', 'skis', 'skkewqhssg', 'skrlyrz', 'skxzve', 'sky', 'skycap', 'skycaps', 'skymall', 'skype', 'skys', 'skyscanner', 'skyteam', 'skytrax', 'skyw', 'skywest', 'sl', 'slammed', 'slapintheface', 'slapped', 'slash', 'slaycancerwithdragons', 'slc', 'sld', 'sledge', 'sleekmoney', 'sleep', 'sleeping', 'sleepy', 'sleet', 'slept', 'slew', 'slht', 'sliced', 'slide', 'slides', 'slight', 'slightly', 'slip', 'sllyibe', 'slog', 'sloooowresponses', 'slopes', 'sloppy', 'slots', 'slow', 'slowdown', 'slower', 'slowest', 'slowing', 'slowly', 'sm', 'sma', 'small', 'smaller', 'smallest', 'smart', 'smarter', 'smashed', 'smattering', 'smell', 'smelled', 'smells', 'smelly', 'smf', 'smfh', 'smh', 'smile', 'smiles', 'smiling', 'smisek', 'smith', 'smitten', 'smm', 'smoking', 'smooth', 'smoothest', 'smoothflight', 'smoothie', 'smoothly', 'smoothoperation', 'smoothtransition', 'sms', 'smth', 'smugsmirk', 'smybag', 'sn', 'sna', 'snack', 'snacks', 'snafu', 'snag', 'snagging', 'snags', 'snapchat', 'snapped', 'snaps', 'sneaky', 'sneverstopped', 'snit', 'snoop', 'snow', 'snowballed', 'snowbama', 'snowboard', 'snowfall', 'snowforce', 'snowing', 'snowstorm', 'snowstorms', 'snowwillnevermelt', 'snowy', 'snvkiem', 'so', 'soaked', 'soaking', 'social', 'socialtantrum', 'society', 'sock', 'socket', 'soda', 'sodone', 'sofly', 'soft', 'software', 'sohappy', 'solate', 'sold', 'sole', 'solid', 'solo', 'solution', 'solutions', 'solve', 'solved', 'solves', 'solving', 'sombrons', 'some', 'somebody', 'somehow', 'someone', 'someones', 'something', 'sometime', 'sometimes', 'somewhat', 'somewhere', 'son', 'song', 'songs', 'sons', 'soon', 'sooner', 'sooo', 'soooo', 'sooooo', 'soooooo', 'sooooooo', 'sop', 'soreback', 'sorry', 'sorrynotsorry', 'sort', 'sorta', 'sorted', 'sorting', 'sorude', 'sos', 'sosmart', 'sotelo', 'soul', 'soulandinspiration', 'sound', 'sounded', 'sounding', 'soundofmusic', 'sounds', 'soured', 'sourhwest', 'sous', 'south', 'southern', 'southwest', 'southwestair', 'southwestairlines', 'southwestfail', 'southwestluv', 'southwestluvsweeps', 'southwestrally', 'southwestrocks', 'southwestsucks', 'southworst', 'sox', 'sp', 'space', 'spaced', 'spaces', 'spade', 'spaghetti', 'spagnuolo', 'spain', 'spam', 'span', 'spanish', 'spare', 'sparkled', 'speak', 'speaking', 'speaks', 'spec', 'special', 'specialist', 'specially', 'specials', 'specific', 'specifically', 'specifics', 'specified', 'speciifc', 'spectacular', 'speechless', 'speed', 'speeds', 'speedy', 'spell', 'spelled', 'spelling', 'spend', 'spending', 'spends', 'spent', 'spf', 'spiced', 'spilled', 'spin', 'spirit', 'spirits', 'spite', 'spk', 'split', 'splits', 'splitting', 'spoil', 'spoiled', 'spoke', 'spoken', 'sponsor', 'sponsorship', 'spook', 'spooky', 'sport', 'sportsbiz', 'spot', 'spotify', 'spots', 'spotty', 'sprawled', 'spread', 'spreading', 'spreadtheword', 'spring', 'springs', 'sprinkled', 'sprint', 'sprinting', 'spruce', 'squared', 'squarely', 'squashed', 'squawking', 'squeaks', 'squished', 'sr', 'sre', 'srm', 'srq', 'srsly', 'srv', 'srvc', 'ssbaujtouw', 'ssuvwwkyhh', 'ssvrq', 'st', 'stable', 'stacey', 'stacy', 'staff', 'staffed', 'staffer', 'staffers', 'staffing', 'stafford', 'stage', 'stagnant', 'stahhppp', 'stahp', 'stains', 'stairs', 'stall', 'stamp', 'stand', 'standard', 'standards', 'standby', 'standbye', 'standbys', 'standing', 'star', 'starboard', 'starbucks', 'stare', 'staring', 'stars', 'start', 'started', 'starting', 'startled', 'startling', 'starts', 'startups', 'starving', 'stat', 'state', 'stated', 'statement', 'states', 'static', 'staticy', 'stating', 'station', 'stationary', 'stations', 'stats', 'status', 'statusmatch', 'stay', 'stayed', 'staying', 'stays', 'stbernard', 'stclass', 'stdby', 'steal', 'stealing', 'steamboat', 'steamed', 'steaming', 'steep', 'steered', 'steering', 'stellar', 'stellarservice', 'step', 'stepitup', 'stepped', 'stepping', 'steps', 'stepup', 'stevie', 'steward', 'stewardess', 'stewardesses', 'stewart', 'sti', 'stick', 'sticker', 'sticking', 'stickingtodelta', 'sticks', 'still', 'stillbagless', 'stilling', 'stillmakingmepoorthough', 'stillwaiting', 'stingiest', 'stingy', 'stink', 'stinks', 'stktjxan', 'stl', 'stlouis', 'stmt', 'stndby', 'stock', 'stocker', 'stockhouse', 'stocking', 'stoked', 'stole', 'stolen', 'stone', 'stonewalled', 'stood', 'stop', 'stopover', 'stopped', 'stopping', 'stops', 'storage', 'store', 'stories', 'storm', 'storms', 'story', 'stow', 'stowaway', 'stpatricksfoundation', 'stqy', 'straight', 'straighten', 'strand', 'stranded', 'strandedattheairport', 'strandedinnashville', 'strandednyc', 'stranding', 'strandusindenver', 'strange', 'stranger', 'strangers', 'strategy', 'stray', 'straying', 'streaming', 'streamline', 'street', 'streetwise', 'strength', 'stress', 'stressed', 'stressful', 'stressors', 'stretching', 'strict', 'strike', 'strikes', 'strip', 'strips', 'strive', 'stroller', 'strollers', 'strong', 'strongly', 'strtd', 'structure', 'structures', 'struggling', 'stt', 'sttimeflyer', 'stubborn', 'stuck', 'stucked', 'stuckinmemphis', 'stuckintampa', 'stuckintheloop', 'stuckonaplane', 'student', 'students', 'studying', 'stuff', 'stuffing', 'stuffy', 'stunned', 'stunning', 'stupid', 'stupidity', 'stupidly', 'style', 'stylesheets', 'styling', 'su', 'sub', 'submit', 'submits', 'submitted', 'submitting', 'suboptimal', 'subpar', 'subscribe', 'subscription', 'subsequent', 'substandard', 'substantial', 'substitute', 'substitutes', 'subtlety', 'success', 'successful', 'such', 'suck', 'sucked', 'sucking', 'sucks', 'sudden', 'suddenly', 'sue', 'suffer', 'suffered', 'suffering', 'sugafly', 'suggest', 'suggested', 'suggesting', 'suggestion', 'suggestions', 'suggests', 'suicide', 'suit', 'suitcase', 'suitcases', 'suites', 'suits', 'sukhdeep', 'sum', 'summer', 'summit', 'sun', 'sunburn', 'sunday', 'sundayfunday', 'sundown', 'sunglasses', 'sunny', 'sunrise', 'sunrises', 'sunscreen', 'sunset', 'sunshine', 'super', 'superb', 'superhero', 'superior', 'superiors', 'superstars', 'supervisor', 'supervisors', 'supp', 'supplies', 'supply', 'support', 'supported', 'supporter', 'supporting', 'suppose', 'supposed', 'supposedly', 'suprise', 'suprlfoi', 'supv', 'supvrs', 'supvsr', 'surat', 'surcharge', 'sure', 'surely', 'surf', 'surfboard', 'surfboardbag', 'surfer', 'surgeries', 'surgery', 'surgeryhelp', 'surliness', 'surly', 'surname', 'surprise', 'surprised', 'surprises', 'surprisingly', 'surreal', 'surrounding', 'survey', 'surveying', 'surveys', 'survive', 'susan', 'suspect', 'suspended', 'suuuuper', 'sux', 'svc', 'svcs', 'svl', 'svu', 'sw', 'swa', 'swaculture', 'swadiversity', 'swag', 'swair', 'swallowed', 'swamped', 'swanky', 'swap', 'swapic', 'swapped', 'swapping', 'sway', 'swb', 'swear', 'sweat', 'sweatshirt', 'sweaty', 'sweeps', 'sweepstakes', 'sweet', 'sweetheart', 'sweethearts', 'sweetingr', 'swell', 'sweresomuchfun', 'swfan', 'swift', 'swimsuits', 'swindle', 'swing', 'swipe', 'swiss', 'switch', 'switched', 'switching', 'switchingboth', 'swivel', 'swooped', 'swrpmq', 'swrr', 'swu', 'swwhyhen', 'swzm', 'sx', 'sxm', 'sxvagbrtli', 'sy', 'syb', 'sydney', 'sylvie', 'sympathetic', 'sympathize', 'sympathy', 'sync', 'synch', 'synergy', 'synonymous', 'syr', 'syracuse', 'sys', 'system', 'systemic', 'systems', 'systemwide', 'sytycd', 'syw', 'sywlmtzek', 'sz', 'szr', 'ta', 'tab', 'tabitha', 'table', 'tables', 'tablet', 'tablets', 'tabs', 'tacky', 'tactic', 'tactics', 'tad', 'tag', 'tagged', 'tags', 'tahiti', 'tail', 'tailfin', 'tailfinthursday', 'tails', 'tailwind', 'tailwinds', 'taiwan', 'take', 'takemeback', 'takemehome', 'taken', 'takeoff', 'takers', 'takes', 'taking', 'takr', 'talent', 'talents', 'talk', 'talked', 'talking', 'talks', 'tallahassee', 'taller', 'tamara', 'tammy', 'tampa', 'tan', 'tank', 'tanked', 'tanpa', 'tap', 'taped', 'taping', 'target', 'targeting', 'tarmac', 'tarmack', 'tasha', 'taste', 'tastes', 'tatiana', 'tattoo', 'taxes', 'taxi', 'taxies', 'taxiing', 'taxing', 'taxis', 'taxiway', 'taylor', 'tb', 'tbd', 'tbls', 'tbsjquw', 'tbt', 'tcf', 'tcmparty', 'tcqx', 'tdjp', 'tdy', 'te', 'tea', 'teach', 'teaching', 'team', 'teams', 'teamspirit', 'tear', 'tears', 'tech', 'technical', 'technically', 'technology', 'teco', 'ted', 'tedious', 'teen', 'teenager', 'teens', 'teeth', 'tefhpuwmdj', 'tejrn', 'tel', 'telaviv', 'telephone', 'telephones', 'teleportation', 'television', 'tell', 'telling', 'tells', 'tellyourstory', 'temorris', 'temp', 'temper', 'temperature', 'template', 'temporary', 'temps', 'tempting', 'ten', 'tennis', 'tense', 'tent', 'tequila', 'term', 'terminal', 'terminals', 'terminology', 'terms', 'terra', 'terri', 'terrible', 'terriblecommunication', 'terriblecustomerservice', 'terribleservice', 'terribly', 'terrific', 'terrifyingly', 'terror', 'terry', 'test', 'testing', 'texarkana', 'texas', 'texasisclosed', 'text', 'texted', 'texting', 'texts', 'tfh', 'tfjfmsha', 'tfw', 'tgp', 'tgsljjn', 'th', 'thai', 'thaiairways', 'thailand', 'than', 'thank', 'thanked', 'thankful', 'thankfully', 'thankgoodness', 'thanking', 'thanks', 'thanksamericanairlines', 'thanksdave', 'thanksdc', 'thanksm', 'thanksunited', 'thanku', 'thankyou', 'thankyouforeverything', 'thansk', 'thanx', 'that', 'thats', 'thatthis', 'thaw', 'thc', 'the', 'thebachelor', 'thee', 'theflight', 'theft', 'thefutureisweird', 'their', 'thelodge', 'them', 'themagicalstranger', 'themed', 'themselves', 'then', 'thenewaa', 'thenewamerican', 'thepoopqueen', 'there', 'therefore', 'theres', 'these', 'thestarter', 'thetakeover', 'thete', 'theverge', 'theworst', 'theworstairline', 'theworstairlineever', 'they', 'theycouldatleastofferfreebooze', 'thick', 'thickens', 'thier', 'thieves', 'thin', 'thing', 'thingafteranother', 'things', 'think', 'thinking', 'thinks', 'third', 'thirty', 'this', 'thislinehasntmovedforanhour', 'thks', 'thman', 'thnkx', 'thnx', 'tho', 'thomas', 'those', 'though', 'thought', 'thoughtful', 'thoughts', 'thousand', 'thousands', 'thousandth', 'thparty', 'thre', 'thread', 'threat', 'threatened', 'threatening', 'threatens', 'three', 'threehourslate', 'thrilled', 'thrombosis', 'throne', 'throug', 'through', 'throughout', 'throw', 'thrower', 'throwing', 'thrown', 'thru', 'ths', 'tht', 'thtime', 'thu', 'thur', 'thurs', 'thursday', 'thus', 'thx', 'thxu', 'thy', 'tick', 'ticked', 'ticket', 'ticketed', 'ticketing', 'tickets', 'ticketsforjax', 'ticks', 'tickt', 'tiday', 'tide', 'tides', 'tie', 'tied', 'tight', 'tightconnection', 'tiks', 'til', 'till', 'tim', 'timbit', 'timco', 'time', 'timed', 'timeliness', 'timely', 'times', 'timesenough', 'timing', 'tinderchamp', 'tindertips', 'tiny', 'tip', 'tips', 'tire', 'tired', 'tiredandwanttogohome', 'tiredcustomer', 'tiredofthis', 'tisk', 'tissues', 'tix', 'tixs', 'tjdzamhpew', 'tjtmo', 'tjuum', 'tjycqh', 'tk', 'tkauygcpms', 'tkci', 'tke', 'tkqhxp', 'tks', 'tkt', 'tkts', 'tkvcmhbpim', 'tkx', 'tlc', 'tld', 'tlgoihqkvs', 'tlh', 'tlomtwu', 'tmccexyaaq', 'tmj', 'tmm', 'tmr', 'tmrw', 'tmthvfdc', 'tmusjvu', 'tn', 'tnkixxrxhb', 'tntcir', 'tnx', 'tny', 'tnyctrb', 'to', 'toby', 'tock', 'today', 'todays', 'toddler', 'toddlers', 'toes', 'together', 'toilet', 'toilets', 'tok', 'token', 'tokyo', 'tokyomarathon', 'told', 'toledo', 'tolerable', 'toll', 'tollfree', 'tom', 'tomo', 'tomoro', 'tomorro', 'tomorrow', 'tomorrows', 'tomrw', 'ton', 'tone', 'tones', 'tongue', 'tonic', 'tonight', 'tonite', 'tons', 'too', 'took', 'tool', 'toolittletoolate', 'toolong', 'tools', 'tooooo', 'toothpaste', 'top', 'toplay', 'topnews', 'topping', 'topqmvqnjp', 'tops', 'tore', 'tori', 'toronto', 'torture', 'tortured', 'tory', 'tos', 'toss', 'total', 'totalfail', 'totally', 'totallyconfused', 'totes', 'touch', 'touchdown', 'touched', 'touching', 'tough', 'tour', 'tourist', 'tourists', 'touting', 'toward', 'towards', 'towed', 'town', 'towns', 'toyingwithouremotions', 'tpa', 'tpdkqulm', 'tpzhjx', 'tqc', 'tqhyn', 'tr', 'trace', 'tracing', 'track', 'tracker', 'tracking', 'tracks', 'trading', 'traditionally', 'traditions', 'traffic', 'train', 'trained', 'training', 'trains', 'transaction', 'transactions', 'transatlantic', 'transcontinental', 'transf', 'transfer', 'transferable', 'transferred', 'transfers', 'transformative', 'transit', 'transition', 'translation', 'transpacific', 'transparency', 'transparent', 'transpired', 'transport', 'transportation', 'transported', 'transports', 'trap', 'trapped', 'trappedhouston', 'traps', 'trash', 'travel', 'travelbank', 'traveled', 'traveler', 'travelers', 'travelhelp', 'traveling', 'traveller', 'travellers', 'travelling', 'travelocity', 'travelproblems', 'travelpulse', 'travels', 'travis', 'tray', 'trbl', 'treacherous', 'treat', 'treated', 'treating', 'treatment', 'treats', 'tree', 'treenut', 'trees', 'tremendous', 'tremendously', 'trend', 'trending', 'trgemtebz', 'triage', 'tribute', 'trick', 'trickling', 'tried', 'tries', 'trip', 'tripadvisor', 'tripitpro', 'triple', 'tripping', 'trips', 'trite', 'trivialize', 'trk', 'tropic', 'troubadour', 'trouble', 'troubles', 'troubleshoot', 'troubleshot', 'troubling', 'troy', 'tru', 'truck', 'true', 'trueblue', 'truebluecolors', 'truebluelove', 'truebluepoints', 'truly', 'trumping', 'trust', 'trusted', 'truth', 'truthful', 'trv', 'try', 'tryagain', 'tryin', 'trying', 'tryna', 'tryng', 'trys', 'ts', 'tsa', 'tsanightmare', 'tsaprecheck', 'tsfkj', 'tsk', 'tsvgbrl', 'tsvibtvt', 'tt', 'ttbty', 'ttlwzgiyag', 'ttno', 'ttxrsynlxr', 'ttzejv', 'tu', 'tucking', 'tucson', 'tue', 'tues', 'tuesday', 'tug', 'tul', 'tulsa', 'tuned', 'turbulence', 'turkish', 'turn', 'turnaround', 'turned', 'turning', 'turns', 'turquoise', 'tus', 'tuxfqf', 'tv', 'tvb', 'tvk', 'tvpzg', 'tvr', 'tvs', 'tweak', 'tweet', 'tweeted', 'tweetin', 'tweeting', 'tweets', 'twelve', 'twenty', 'twetpxuppn', 'twice', 'twiiter', 'twin', 'twins', 'twist', 'twitter', 'two', 'twtr', 'tx', 'txd', 'txfd', 'txt', 'txting', 'txu', 'ty', 'type', 'typical', 'typically', 'typing', 'typo', 'tyr', 'tys', 'tyvm', 'tyxaztmq', 'tz', 'tzsr', 'tzz', 'tzzjhuibch', 'ua', 'uaicfjrms', 'ual', 'uay', 'uayir', 'uaywrr', 'ubcoasyws', 'ubetter', 'ubotmr', 'ucveu', 'ucvnilmb', 'uczzp', 'ud', 'udc', 'udpq', 'udub', 'ue', 'ueggkn', 'uegx', 'uezh', 'uf', 'ufbdr', 'uff', 'ufyxxkisa', 'ug', 'ugfckermrw', 'uggh', 'ugh', 'uh', 'uhmmm', 'uhuh', 'uhumaskldv', 'ui', 'uiesr', 'uipha', 'uj', 'ujt', 'uk', 'ukb', 'ukbc', 'ukdjjijrow', 'ukm', 'ul', 'uld', 'ultimately', 'um', 'umhbh', 'umm', 'ummmm', 'umosaicmecrazy', 'ump', 'un', 'unable', 'unacceptable', 'unaccomidating', 'unaccommodating', 'unaccompanied', 'unaccounted', 'unamerican', 'unamericanairlines', 'unannounced', 'unanswered', 'unanticipated', 'unapologetic', 'unavailable', 'unavoidable', 'unaware', 'unbalanced', 'unbelievable', 'unbelievably', 'uncalled', 'uncertainty', 'uncle', 'unclear', 'uncomfortable', 'uncompromising', 'unconscionable', 'uncontrollable', 'uncontrollably', 'uncool', 'und', 'undefined', 'under', 'undergoing', 'undermines', 'underserved', 'understaffed', 'understaffing', 'understand', 'understandable', 'understandably', 'understanding', 'understands', 'understatement', 'understood', 'underway', 'underweight', 'undetermined', 'undone', 'undrstnd', 'undue', 'uneducated', 'unempathetic', 'unexpactable', 'unexpected', 'unexplained', 'unfair', 'unfamiliar', 'unfold', 'unfollow', 'unfollowing', 'unfortunate', 'unfortunately', 'unfriendly', 'unfriendlyskies', 'unhappy', 'unhappycustomer', 'unhappytraveler', 'unheard', 'unhelpful', 'unhelpfulness', 'uniform', 'unimpressed', 'uninformed', 'united', 'unitedagainstunited', 'unitedairline', 'unitedairlines', 'unitedairlinessuck', 'unitedairlinessucks', 'unitedbreaksguitars', 'unitedfail', 'unitedflightsever', 'unitedhatesusall', 'unitedlies', 'unitedsucks', 'unitedsucksdick', 'unitedwithivy', 'unitedworstever', 'university', 'unknowledgeable', 'unknown', 'unless', 'unlike', 'unlikely', 'unload', 'unloaded', 'unloading', 'unloads', 'unlucky', 'unmanned', 'unmet', 'unmonitored', 'unmoving', 'unnecessarily', 'unnecessary', 'unnerving', 'unnoticed', 'unorganized', 'unplanned', 'unpleasant', 'unprecedented', 'unpredictable', 'unprepared', 'unproductive', 'unprofessional', 'unprofessionalism', 'unprofessionally', 'unraoni', 'unreachable', 'unreal', 'unrealistic', 'unreasonable', 'unrelate', 'unreliable', 'unresolved', 'unrivalled', 'unsafe', 'unscheduled', 'unsecured', 'unserved', 'unserviceable', 'unsettling', 'unsmiling', 'unsolicited', 'unspecified', 'unsuccessful', 'unsure', 'unsympathetic', 'unt', 'untd', 'until', 'untrained', 'untrue', 'untruthful', 'untz', 'unu', 'unusable', 'unused', 'unusual', 'unveils', 'unwilling', 'unwind', 'unwise', 'unxqotzik', 'unxtqp', 'uoaryq', 'uoxgnw', 'up', 'upaz', 'upc', 'upcoming', 'update', 'updated', 'updates', 'updateyourwebsite', 'updating', 'upgd', 'upgrade', 'upgraded', 'upgrademe', 'upgrades', 'upgrading', 'upgrd', 'uphold', 'upholding', 'uplink', 'upload', 'upocmmulun', 'upon', 'upp', 'uppp', 'upqi', 'ups', 'upsell', 'upset', 'upsetting', 'upstate', 'upwherewebelong', 'uq', 'uqgw', 'ur', 'urcyfcp', 'urged', 'urgency', 'urgent', 'urgently', 'urself', 'urzvbpjko', 'us', 'usa', 'usable', 'usage', 'usair', 'usairsucks', 'usairway', 'usairways', 'usairwaysfail', 'usairwaysfailscustomers', 'usairwaysfflyer', 'usairwaysmobile', 'usairwaysssuck', 'usairwayssucks', 'usaiways', 'usbj', 'usd', 'usdelay', 'use', 'useable', 'used', 'useful', 'useles', 'useless', 'user', 'username', 'users', 'uses', 'usexpress', 'using', 'usual', 'usually', 'usurious', 'usvi', 'usxlon', 'ut', 'utah', 'utdfqf', 'ute', 'utevgw', 'utfdhxa', 'utilize', 'utmost', 'utterly', 'uu', 'uv', 'uvclmada', 'uvf', 'uw', 'uwcpxtxj', 'uwon', 'uwuosc', 'ux', 'uxwpadugs', 'uxzj', 'uy', 'uygew', 'uyhr', 'va', 'vabeatsjblue', 'vaca', 'vacancies', 'vacate', 'vacatime', 'vacatinn', 'vacation', 'vacationfail', 'vacationing', 'vacations', 'vacay', 'vague', 'vahdekvoke', 'vail', 'valentine', 'valentines', 'valentinesday', 'valet', 'valid', 'validity', 'vallarta', 'valleys', 'valuable', 'value', 'values', 'valuing', 'van', 'vanity', 'vape', 'various', 'vastly', 'vbctdlf', 'vbmbs', 'vbrq', 'vbuxfpckfa', 'vc', 'vcp', 'vcz', 'vd', 'vdfdodqvgx', 'vdi', 'vdiosua', 'vdvqxbb', 've', 'vebeen', 'veers', 'veg', 'vegas', 'vegetarian', 'veggies', 'vein', 'velcro', 'velour', 'vendor', 'venetia', 'venezuela', 'vent', 'ventilation', 'vents', 'venture', 'veqhghy', 'verbal', 'verbally', 'verbiage', 'verification', 'verify', 'versa', 'versace', 'version', 'versions', 'versus', 'very', 'veryimportantproject', 'veryloyalcustomer', 'vetr', 'vets', 'vf', 'vftuyjh', 'vge', 'vglx', 'vgn', 'vhfjgneozo', 'vhgkitzsaw', 'vhp', 'vi', 'via', 'viable', 'vibe', 'vibrant', 'vice', 'vicky', 'victim', 'victoria', 'vida', 'video', 'videos', 'vieg', 'vieques', 'vieuidf', 'view', 'views', 'vile', 'village', 'villages', 'vineyard', 'vino', 'vinyl', 'violation', 'vip', 'vipliveinthevieyard', 'vipswagbags', 'viracopos', 'virgin', 'virginamerica', 'virginatlantic', 'virginia', 'virtual', 'virtually', 'visa', 'visible', 'visibly', 'vision', 'visit', 'visiting', 'visors', 'vital', 'vjfv', 'vkj', 'vlci', 'vm', 'vmquurzupw', 'vmsg', 'vn', 'vnckgzxl', 'vnnf', 'vo', 'vodkatonics', 'voice', 'voicemail', 'voided', 'volkswagen', 'volleyball', 'volt', 'volume', 'volumes', 'voluntarily', 'volunteer', 'volunteers', 'vomit', 'vomited', 'vosizh', 'vote', 'voucher', 'vouchers', 'vouufrn', 'vows', 'voxcghciji', 'vpdrplxj', 'vpqem', 'vpym', 'vq', 'vqmdmzafuj', 'vqtyza', 'vrfhjht', 'vrm', 'vrqdpqepfw', 'vs', 'vsffrd', 'vskxyamnom', 'vt', 'vtcpa', 'vtqe', 'vtvj', 'vu', 'vudwjm', 'vuelo', 'vuelos', 'vulnerable', 'vuxf', 'vvzksmfkvw', 'vw', 'vwq', 'vww', 'vx', 'vxn', 'vxsafetydance', 'vyuanh', 'wa', 'waa', 'waaaaaaiting', 'wack', 'waf', 'wager', 'wages', 'wah', 'wailing', 'wait', 'waited', 'waiting', 'waitingagain', 'waitingsince', 'waitlisted', 'waits', 'waive', 'waived', 'waiver', 'waivers', 'waives', 'waivethefee', 'waiving', 'wajk', 'wake', 'wakes', 'waking', 'wakinginmemphis', 'waldorf', 'walk', 'walked', 'walking', 'walks', 'walkway', 'wall', 'wallet', 'wallstreet', 'walmart', 'walton', 'wandered', 'wanna', 'wannagohome', 'want', 'wantcharge', 'wanted', 'wanting', 'wantmymoneyback', 'wants', 'waobu', 'ward', 'warehouse', 'warm', 'warmer', 'warmest', 'warmth', 'warmweather', 'warn', 'warning', 'warnings', 'warrants', 'was', 'wasappreciated', 'washington', 'washingtondc', 'wasn', 'wasnt', 'waspaid', 'waste', 'wasted', 'wastedeffort', 'wastedtime', 'wasting', 'wat', 'watch', 'watched', 'watching', 'water', 'waterbury', 'watered', 'waters', 'wating', 'watson', 'wave', 'waved', 'way', 'ways', 'wbhbljjks', 'wbjawx', 'wbmhrl', 'wbzorrn', 'wc', 'wcsazzqpae', 'wd', 'wdaktmr', 'wdw', 'wdyekvb', 'we', 'weak', 'weakservice', 'wear', 'wearing', 'weary', 'weasel', 'weather', 'weathered', 'weatherless', 'web', 'weblink', 'webpage', 'webs', 'website', 'websites', 'wed', 'wedding', 'wednesday', 'weds', 'week', 'weekday', 'weekend', 'weekends', 'weekly', 'weeklycommuteonaa', 'weeks', 'weigh', 'weighed', 'weighing', 'weighs', 'weight', 'weights', 'weird', 'welcome', 'welcomes', 'welcoming', 'welfare', 'well', 'welldone', 'welllllll', 'wellplayed', 'welp', 'wemosaictogether', 'wendell', 'wendi', 'wens', 'went', 'were', 'weren', 'werenotincalianymore', 'wererunning', 'werin', 'wernicke', 'wervirgin', 'west', 'westagard', 'westchester', 'western', 'westpalmbeach', 'westpalmbeachbound', 'wet', 'wether', 'weve', 'wewanttoknow', 'wewillsee', 'weyburn', 'wezumdimyf', 'wfbtue', 'wgyztnjcxm', 'whacked', 'whagpknnlf', 'what', 'whatacluster', 'whatajoke', 'whatever', 'whatfrozenpipes', 'whatgives', 'whathappend', 'whats', 'whatsoever', 'whatstatus', 'wheel', 'wheelchair', 'wheelchairs', 'wheels', 'wheelsup', 'wheeze', 'when', 'whenever', 'where', 'whereabouts', 'whereismybag', 'whereisthelove', 'wheresmyrefund', 'wheresthecustomerserviceat', 'whether', 'which', 'whichever', 'whichisworsedenordfw', 'while', 'whilst', 'whining', 'whiplash', 'whipped', 'whispering', 'white', 'who', 'whoa', 'whoever', 'whole', 'wholly', 'whom', 'whoooo', 'whoot', 'whose', 'wht', 'whufmi', 'why', 'whyabcwhy', 'whyareyouyelling', 'whybeaaff', 'whydidntiflysouthwest', 'whyfly', 'whyisusairalwaysdelayed', 'whyjeff', 'whyyounoloveme', 'whyyy', 'wi', 'wiar', 'wichita', 'wide', 'wiedersehen', 'wife', 'wifes', 'wifi', 'wifiless', 'wiggle', 'wigs', 'wiil', 'wilco', 'will', 'williams', 'willie', 'willing', 'willl', 'willneverflywithyou', 'wills', 'wilmington', 'win', 'wind', 'windchill', 'window', 'windows', 'winds', 'windy', 'wine', 'wing', 'wings', 'winks', 'winkwink', 'winner', 'winners', 'winning', 'winnipeg', 'wins', 'winston', 'winter', 'winterops', 'winters', 'winterstorm', 'winterweather', 'winwin', 'wipe', 'wiped', 'wired', 'wireless', 'wires', 'wiser', 'wish', 'wishmyflightwaslonger', 'wit', 'with', 'withheld', 'within', 'without', 'witnessed', 'witty', 'wiyh', 'wjere', 'wjiigztiwg', 'wjoc', 'wjyas', 'wk', 'wknd', 'wkrb', 'wks', 'wlainimy', 'wlcm', 'wld', 'wmass', 'wmn', 'wmo', 'wmx', 'wn', 'wnbglxq', 'wnd', 'wndceo', 'wnqvm', 'wny', 'wo', 'woase', 'woaw', 'woeful', 'woke', 'woman', 'women', 'won', 'wonder', 'wondered', 'wonderful', 'wonderfully', 'wondering', 'wonked', 'wont', 'wontflyagainwithyou', 'woo', 'woodland', 'woody', 'woof', 'woohoo', 'word', 'worded', 'words', 'work', 'workaround', 'worked', 'worker', 'workers', 'workforce', 'workforces', 'workhard', 'workin', 'working', 'workng', 'works', 'worksnicely', 'world', 'worlds', 'worldwide', 'worm', 'worried', 'worries', 'worrisome', 'worry', 'worrying', 'worse', 'worst', 'worstairline', 'worstairlineever', 'worstcustomerservice', 'worstcustomerserviceever', 'worstever', 'worstflight', 'worstflightever', 'worstservice', 'worstthingever', 'worth', 'worthless', 'worthy', 'would', 'woulda', 'wouldn', 'wouldnt', 'wouldt', 'wouldve', 'wounded', 'woven', 'wow', 'wowxhpu', 'wpa', 'wpg', 'wqrklw', 'wqsf', 'wqzztiemx', 'wrap', 'wrath', 'wreck', 'wrecked', 'wrecking', 'wrench', 'wrestle', 'wretched', 'write', 'writers', 'writes', 'writing', 'written', 'wrong', 'wronganswer', 'wrongfully', 'wrongiswrong', 'wrote', 'wrwqrublps', 'ws', 'wsg', 'wsj', 'wt', 'wta', 'wtf', 'wtfodds', 'wth', 'wtw', 'wudda', 'wut', 'wvr', 'wway', 'wwr', 'wx', 'wxb', 'wxqqr', 'wylie', 'wyoming', 'wzd', 'wznp', 'wztq', 'xaowkv', 'xaspqdsqhe', 'xb', 'xbkvcraokn', 'xbo', 'xbqqqbrgvf', 'xbt', 'xc', 'xcvqxykg', 'xd', 'xdaily', 'xdjzkc', 'xedeckgmw', 'xedzvhh', 'xelbon', 'xf', 'xfhq', 'xfwxsrwkha', 'xgfs', 'xggcntco', 'xgpaayfdwt', 'xhcacjax', 'xhirugzv', 'xhlc', 'xhsuupheze', 'xi', 'xidr', 'xijyrpslzk', 'xiqb', 'xisbs', 'xjxqrx', 'xkiy', 'xks', 'xl', 'xld', 'xm', 'xmaqcucwzl', 'xmas', 'xmav', 'xmrvr', 'xna', 'xng', 'xox', 'xoxo', 'xp', 'xpm', 'xr', 'xs', 'xswjkiy', 'xt', 'xthm', 'xtra', 'xu', 'xuq', 'xvbjczlmda', 'xvm', 'xvnnmltiw', 'xvwg', 'xweekly', 'xx', 'xxaed', 'xxsaombdgs', 'xxx', 'xxy', 'xyb', 'xz', 'xzbajmiekx', 'xzmscw', 'xzy', 'ya', 'yaayy', 'yall', 'yards', 'yasss', 'yasssss', 'yay', 'yayayay', 'yb', 'ybmbgs', 'ybv', 'yccitaep', 'ycflalxv', 'ydkor', 'yea', 'yeah', 'year', 'yearly', 'years', 'yearslate', 'yeehaw', 'yeg', 'yell', 'yelled', 'yelling', 'yep', 'yer', 'yes', 'yeseniahernandez', 'yest', 'yesterday', 'yet', 'yf', 'yfoow', 'yg', 'yh', 'yield', 'yikes', 'yiwlhqhzgp', 'ykwqg', 'yl', 'yln', 'ymftw', 'ync', 'ynmbdu', 'yo', 'yoga', 'yogtej', 'yokkhhqcmp', 'york', 'yosjhzmc', 'you', 'youareonyourown', 'youcandobetter', 'youcouldntmakethis', 'youdidit', 'youknowyouwantto', 'young', 'younger', 'your', 'yourairlinesucks', 'youre', 'youredoingitwrong', 'youretheworst', 'yourock', 'yourphonesystemsucks', 'yours', 'yourself', 'yourselves', 'yousuck', 'youth', 'youve', 'yow', 'ypbkcirbxu', 'yphk', 'yponthebeat', 'ypu', 'ypvpvdltys', 'ypzh', 'yqhk', 'yr', 'yrs', 'yrxa', 'ys', 'ystrdy', 'yt', 'ytd', 'yuck', 'yucki', 'yuma', 'yummy', 'yup', 'yvaio', 'yvonne', 'yvr', 'yw', 'ywxrfn', 'yx', 'yxe', 'yxg', 'yxn', 'yxswfq', 'yxu', 'yyc', 'yyj', 'yywafkfi', 'yyz', 'yz', 'yzdpbvu', 'yzh', 'yzwt', 'yzxfe', 'za', 'zabsonre', 'zagging', 'zambia', 'zaq', 'zat', 'zbzvhg', 'zc', 'zcbjyo', 'zcc', 'zd', 'zdkxn', 'ze', 'zero', 'zf', 'zfroinpszi', 'zgoqoxjbqy', 'zgw', 'zhmfdiw', 'zhnnrh', 'zi', 'zig', 'zik', 'zip', 'zippers', 'zira', 'zj', 'zkoe', 'zlsquu', 'zlzmk', 'zm', 'znfwkkwp', 'znmwxdi', 'zofwldqxbe', 'zombie', 'zone', 'zones', 'zoom', 'zpjr', 'zpu', 'zpz', 'zq', 'zqssjtrb', 'zqutus', 'zr', 'zrh', 'zrqm', 'zsdgzydnde', 'zsk', 'zsuztnaijq', 'zsvzurlw', 'zt', 'ztrdwv', 'ztua', 'zurich', 'zut', 'zv', 'zvfmxnuelj', 'zvugmkjw', 'zwmuoon', 'zy', 'zygjs', 'zz', 'zza', 'zzkqwwbjz']\n"
          ],
          "name": "stdout"
        }
      ]
    },
    {
      "cell_type": "code",
      "metadata": {
        "id": "vU85TO0JlKBO",
        "colab_type": "code",
        "outputId": "c2b5c457-a768-48a8-f72c-d939f279d1f1",
        "colab": {
          "base_uri": "https://localhost:8080/",
          "height": 318
        }
      },
      "source": [
        "#transform the sparse matrix into a numpy matrix\n",
        "mdtTrain = XTrain.toarray()\n",
        "#type of the matrix\n",
        "print(type(mdtTrain))\n",
        "#size of the matrix\n",
        "print(mdtTrain.shape)\n",
        "#frequency of the terms\n",
        "freq_mots = np.sum(mdtTrain,axis=0)\n",
        "print(freq_mots)\n",
        "#arg sort\n",
        "index = np.argsort(freq_mots)\n",
        "print(index)\n",
        "#print the terms and their frequency\n",
        "imp = {'terme':np.asarray(parseur.get_feature_names())[index],'freq':freq_mots[index]}\n",
        "print(pd.DataFrame(imp))"
      ],
      "execution_count": 0,
      "outputs": [
        {
          "output_type": "stream",
          "text": [
            "<class 'numpy.ndarray'>\n",
            "(11712, 11368)\n",
            "[248   1   1 ...   3   1   1]\n",
            "[ 5683  6472  6471 ... 11242  9766  9930]\n",
            "                  terme  freq\n",
            "0                 loeco     1\n",
            "1           nevertoldus     1\n",
            "2           nevertakeno     1\n",
            "3           neverontime     1\n",
            "4      nevergettinghome     1\n",
            "...                 ...   ...\n",
            "11363            flight  3198\n",
            "11364               for  3227\n",
            "11365               you  3557\n",
            "11366               the  4913\n",
            "11367                to  6879\n",
            "\n",
            "[11368 rows x 2 columns]\n"
          ],
          "name": "stdout"
        }
      ]
    },
    {
      "cell_type": "markdown",
      "metadata": {
        "id": "sVOUWFaRQJ65",
        "colab_type": "text"
      },
      "source": [
        "#### TFIDF"
      ]
    },
    {
      "cell_type": "code",
      "metadata": {
        "id": "SDPY7x8WCez6",
        "colab_type": "code",
        "outputId": "592fa6c7-c164-44d0-f070-98bdd14e6216",
        "colab": {
          "base_uri": "https://localhost:8080/",
          "height": 150
        }
      },
      "source": [
        "from sklearn.feature_extraction.text import TfidfTransformer\n",
        "tfidf = TfidfTransformer(norm=\"l2\")\n",
        "tfidf.fit(mdtTrain)\n",
        "print (\"IDF:\",tfidf.idf_)\n",
        "tf_idf_matrix = tfidf.transform(mdtTrain)\n",
        "print (tf_idf_matrix.todense())"
      ],
      "execution_count": 0,
      "outputs": [
        {
          "output_type": "stream",
          "text": [
            "IDF: [4.9260369  9.67530743 9.67530743 ... 8.98216025 9.67530743 9.67530743]\n",
            "[[0. 0. 0. ... 0. 0. 0.]\n",
            " [0. 0. 0. ... 0. 0. 0.]\n",
            " [0. 0. 0. ... 0. 0. 0.]\n",
            " ...\n",
            " [0. 0. 0. ... 0. 0. 0.]\n",
            " [0. 0. 0. ... 0. 0. 0.]\n",
            " [0. 0. 0. ... 0. 0. 0.]]\n"
          ],
          "name": "stdout"
        }
      ]
    },
    {
      "cell_type": "code",
      "metadata": {
        "id": "SeCTnrkd-7vZ",
        "colab_type": "code",
        "outputId": "b3d6e179-2e29-42bb-f2b0-87f300c4412f",
        "colab": {
          "base_uri": "https://localhost:8080/",
          "height": 33
        }
      },
      "source": [
        "print(len(mdtTrain[1]))"
      ],
      "execution_count": 0,
      "outputs": [
        {
          "output_type": "stream",
          "text": [
            "11368\n"
          ],
          "name": "stdout"
        }
      ]
    },
    {
      "cell_type": "markdown",
      "metadata": {
        "id": "5bLYGY66QQKV",
        "colab_type": "text"
      },
      "source": [
        "#models training and testing"
      ]
    },
    {
      "cell_type": "markdown",
      "metadata": {
        "id": "wx8HfMLjQlPa",
        "colab_type": "text"
      },
      "source": [
        "##### Logistic Regression"
      ]
    },
    {
      "cell_type": "code",
      "metadata": {
        "id": "SRibr7OFFFIZ",
        "colab_type": "code",
        "outputId": "7a7b1e31-79da-43a8-e3e0-be942b48d10d",
        "colab": {
          "base_uri": "https://localhost:8080/",
          "height": 87
        }
      },
      "source": [
        "#*** train the classifier\n",
        "#import the class Logistic Regression\n",
        "from sklearn.linear_model import LogisticRegression\n",
        "#instatiate the object\n",
        "modelFirst = LogisticRegression()\n",
        "#perform the training process\n",
        "modelFirst.fit(tf_idf_matrix,y_train)\n",
        "#size of coefficients matrix\n",
        "print(modelFirst.coef_.shape)\n"
      ],
      "execution_count": 0,
      "outputs": [
        {
          "output_type": "stream",
          "text": [
            "/usr/local/lib/python3.6/dist-packages/sklearn/utils/validation.py:760: DataConversionWarning: A column-vector y was passed when a 1d array was expected. Please change the shape of y to (n_samples, ), for example using ravel().\n",
            "  y = column_or_1d(y, warn=True)\n"
          ],
          "name": "stderr"
        },
        {
          "output_type": "stream",
          "text": [
            "(3, 11368)\n"
          ],
          "name": "stdout"
        }
      ]
    },
    {
      "cell_type": "code",
      "metadata": {
        "id": "InvGALI6FXuu",
        "colab_type": "code",
        "outputId": "b3c766e7-b03f-4b4e-8aae-099e7c6b64c3",
        "colab": {
          "base_uri": "https://localhost:8080/",
          "height": 50
        }
      },
      "source": [
        "#intercept\n",
        "print(modelFirst.intercept_)\n",
        "#generate the document term matrix for the test set\n",
        "#using the object learned from the train set\n",
        "#create the document term matrix\n",
        "mdtTest = parseur.transform(x_test)\n",
        "#size of the matrix\n",
        "print(mdtTest.shape)\n",
        "#prediction for the test set\n"
      ],
      "execution_count": 0,
      "outputs": [
        {
          "output_type": "stream",
          "text": [
            "[ 0.09008946  0.47480146 -0.56489092]\n",
            "(2928, 11368)\n"
          ],
          "name": "stdout"
        }
      ]
    },
    {
      "cell_type": "code",
      "metadata": {
        "id": "fJ-fgUygGK99",
        "colab_type": "code",
        "outputId": "b46f57ff-cf15-4609-df2b-8b71e6f9ec1d",
        "colab": {
          "base_uri": "https://localhost:8080/",
          "height": 351
        }
      },
      "source": [
        "print(mdtTest[0])"
      ],
      "execution_count": 0,
      "outputs": [
        {
          "output_type": "stream",
          "text": [
            "  (0, 165)\t1\n",
            "  (0, 279)\t1\n",
            "  (0, 372)\t2\n",
            "  (0, 701)\t1\n",
            "  (0, 730)\t1\n",
            "  (0, 875)\t1\n",
            "  (0, 1326)\t1\n",
            "  (0, 3050)\t1\n",
            "  (0, 3646)\t1\n",
            "  (0, 4019)\t1\n",
            "  (0, 4259)\t1\n",
            "  (0, 6627)\t1\n",
            "  (0, 6665)\t1\n",
            "  (0, 6772)\t1\n",
            "  (0, 6912)\t1\n",
            "  (0, 8735)\t1\n",
            "  (0, 9761)\t1\n",
            "  (0, 9766)\t1\n",
            "  (0, 9883)\t1\n",
            "  (0, 10454)\t1\n"
          ],
          "name": "stdout"
        }
      ]
    },
    {
      "cell_type": "code",
      "metadata": {
        "id": "zylRx9R-DBmE",
        "colab_type": "code",
        "outputId": "9468b12a-926d-4607-e2cc-586d96741e37",
        "colab": {
          "base_uri": "https://localhost:8080/",
          "height": 150
        }
      },
      "source": [
        "from sklearn.feature_extraction.text import TfidfTransformer\n",
        "tfidf = TfidfTransformer(norm=\"l2\")\n",
        "tfidf.fit(mdtTest)\n",
        "print (\"IDF:\",tfidf.idf_)\n",
        "tf_idf_matrix_test = tfidf.transform(mdtTest)\n",
        "print (tf_idf_matrix.todense())"
      ],
      "execution_count": 0,
      "outputs": [
        {
          "output_type": "stream",
          "text": [
            "IDF: [5.24474673 8.98241635 8.98241635 ... 8.28926917 8.98241635 8.98241635]\n",
            "[[0. 0. 0. ... 0. 0. 0.]\n",
            " [0. 0. 0. ... 0. 0. 0.]\n",
            " [0. 0. 0. ... 0. 0. 0.]\n",
            " ...\n",
            " [0. 0. 0. ... 0. 0. 0.]\n",
            " [0. 0. 0. ... 0. 0. 0.]\n",
            " [0. 0. 0. ... 0. 0. 0.]]\n"
          ],
          "name": "stdout"
        }
      ]
    },
    {
      "cell_type": "code",
      "metadata": {
        "id": "XTEhAabfGh8X",
        "colab_type": "code",
        "outputId": "490317be-89ae-4e2b-eaaf-27607dec42ac",
        "colab": {
          "base_uri": "https://localhost:8080/",
          "height": 351
        }
      },
      "source": [
        "print(tf_idf_matrix_test[0])"
      ],
      "execution_count": 0,
      "outputs": [
        {
          "output_type": "stream",
          "text": [
            "  (0, 10454)\t0.177051590021993\n",
            "  (0, 9883)\t0.3484649638449292\n",
            "  (0, 9766)\t0.09509838636289047\n",
            "  (0, 9761)\t0.14137806397381378\n",
            "  (0, 8735)\t0.29990618579487016\n",
            "  (0, 6912)\t0.3484649638449292\n",
            "  (0, 6772)\t0.13435138802694832\n",
            "  (0, 6665)\t0.1619622820074981\n",
            "  (0, 6627)\t0.14595951855403647\n",
            "  (0, 4259)\t0.1458089217999065\n",
            "  (0, 4019)\t0.2183204530415558\n",
            "  (0, 3646)\t0.10733920003829263\n",
            "  (0, 3050)\t0.26461206211552313\n",
            "  (0, 1326)\t0.20278862969475214\n",
            "  (0, 875)\t0.17107334704699445\n",
            "  (0, 730)\t0.1925994598763529\n",
            "  (0, 701)\t0.2871906081072195\n",
            "  (0, 372)\t0.21684549281746604\n",
            "  (0, 279)\t0.17988388218870233\n",
            "  (0, 165)\t0.3484649638449292\n"
          ],
          "name": "stdout"
        }
      ]
    },
    {
      "cell_type": "code",
      "metadata": {
        "id": "RfqkOajpMMDS",
        "colab_type": "code",
        "colab": {}
      },
      "source": [
        "predTest1 = modelFirst.predict(tf_idf_matrix_test)"
      ],
      "execution_count": 0,
      "outputs": []
    },
    {
      "cell_type": "code",
      "metadata": {
        "id": "jqlB9yc-SXgw",
        "colab_type": "code",
        "outputId": "a7c2a1cc-8cc2-48e3-ad73-20379c9ae653",
        "colab": {
          "base_uri": "https://localhost:8080/",
          "height": 187
        }
      },
      "source": [
        "#import the metrics class for the performance measurement\n",
        "from sklearn import metrics\n",
        "#confusion matrix\n",
        "mcTest = metrics.confusion_matrix(y_test,predTest1)\n",
        "print(mcTest)\n",
        "#recall\n",
        "print(metrics.recall_score(y_test,predTest1,pos_label='spam',average='weighted'))\n",
        "#precision\n",
        "print(metrics.precision_score(y_test,predTest1,pos_label='spam',average='weighted'))\n",
        "#accuracy rate\n",
        "print(metrics.accuracy_score(y_test,predTest1))\n",
        "#F1-Score\n",
        "print(metrics.f1_score(y_test,predTest1,pos_label='spam',average='weighted'))"
      ],
      "execution_count": 0,
      "outputs": [
        {
          "output_type": "stream",
          "text": [
            "[[1731   82   19]\n",
            " [ 261  321   41]\n",
            " [ 119   59  295]]\n",
            "0.8015710382513661\n",
            "0.795130675440171\n",
            "0.8015710382513661\n",
            "0.7903656739840894\n"
          ],
          "name": "stdout"
        },
        {
          "output_type": "stream",
          "text": [
            "/usr/local/lib/python3.6/dist-packages/sklearn/metrics/_classification.py:1321: UserWarning: Note that pos_label (set to 'spam') is ignored when average != 'binary' (got 'weighted'). You may use labels=[pos_label] to specify a single positive class.\n",
            "  % (pos_label, average), UserWarning)\n"
          ],
          "name": "stderr"
        }
      ]
    },
    {
      "cell_type": "markdown",
      "metadata": {
        "id": "T7krCYDpA1-u",
        "colab_type": "text"
      },
      "source": [
        "##### random forest\n"
      ]
    },
    {
      "cell_type": "code",
      "metadata": {
        "id": "flZSJcpPGkSf",
        "colab_type": "code",
        "colab": {}
      },
      "source": [
        "from sklearn.ensemble import RandomForestClassifier\n",
        "\n",
        "clf = RandomForestClassifier()\n"
      ],
      "execution_count": 0,
      "outputs": []
    },
    {
      "cell_type": "code",
      "metadata": {
        "id": "hsAsd6T_LRDN",
        "colab_type": "code",
        "colab": {}
      },
      "source": [
        "from sklearn import preprocessing\n"
      ],
      "execution_count": 0,
      "outputs": []
    },
    {
      "cell_type": "code",
      "metadata": {
        "id": "4FCnrkrDIgJ6",
        "colab_type": "code",
        "outputId": "cf11bb4a-8a28-44f1-fa1f-745ad1a7881d",
        "colab": {
          "base_uri": "https://localhost:8080/",
          "height": 204
        }
      },
      "source": [
        "clf.fit(mdtTrain,y_train)"
      ],
      "execution_count": 0,
      "outputs": [
        {
          "output_type": "stream",
          "text": [
            "/usr/local/lib/python3.6/dist-packages/ipykernel_launcher.py:1: DataConversionWarning: A column-vector y was passed when a 1d array was expected. Please change the shape of y to (n_samples,), for example using ravel().\n",
            "  \"\"\"Entry point for launching an IPython kernel.\n"
          ],
          "name": "stderr"
        },
        {
          "output_type": "execute_result",
          "data": {
            "text/plain": [
              "RandomForestClassifier(bootstrap=True, ccp_alpha=0.0, class_weight=None,\n",
              "                       criterion='gini', max_depth=None, max_features='auto',\n",
              "                       max_leaf_nodes=None, max_samples=None,\n",
              "                       min_impurity_decrease=0.0, min_impurity_split=None,\n",
              "                       min_samples_leaf=1, min_samples_split=2,\n",
              "                       min_weight_fraction_leaf=0.0, n_estimators=100,\n",
              "                       n_jobs=None, oob_score=False, random_state=None,\n",
              "                       verbose=0, warm_start=False)"
            ]
          },
          "metadata": {
            "tags": []
          },
          "execution_count": 45
        }
      ]
    },
    {
      "cell_type": "code",
      "metadata": {
        "id": "DOTrf3sOI7WK",
        "colab_type": "code",
        "colab": {}
      },
      "source": [
        "predTest = clf.predict(mdtTest)"
      ],
      "execution_count": 0,
      "outputs": []
    },
    {
      "cell_type": "code",
      "metadata": {
        "id": "Af-VGTE-JI4f",
        "colab_type": "code",
        "outputId": "40bb2c0f-0aa8-4d2b-dd7e-2fc1cc55a0e7",
        "colab": {
          "base_uri": "https://localhost:8080/",
          "height": 187
        }
      },
      "source": [
        "#import the metrics class for the performance measurement\n",
        "from sklearn import metrics\n",
        "#confusion matrix\n",
        "mcTest = metrics.confusion_matrix(y_test,predTest)\n",
        "print(mcTest)\n",
        "\n",
        "\n",
        "\n",
        "\n",
        "#recall\n",
        "print(metrics.recall_score(y_test,predTest,pos_label='spam',average='weighted'))\n",
        "#precision\n",
        "print(metrics.precision_score(y_test,predTest,pos_label='spam',average='weighted'))\n",
        "#accuracy rate\n",
        "print(metrics.accuracy_score(y_test,predTest))\n",
        "#F1-Score\n",
        "print(metrics.f1_score(y_test,predTest,pos_label='spam',average='weighted'))\n"
      ],
      "execution_count": 0,
      "outputs": [
        {
          "output_type": "stream",
          "text": [
            "[[1635  143   54]\n",
            " [ 242  333   48]\n",
            " [ 120   75  278]]\n",
            "0.7670765027322405\n",
            "0.7590369940292705\n",
            "0.7670765027322405\n",
            "0.7603402495057218\n"
          ],
          "name": "stdout"
        },
        {
          "output_type": "stream",
          "text": [
            "/usr/local/lib/python3.6/dist-packages/sklearn/metrics/_classification.py:1321: UserWarning: Note that pos_label (set to 'spam') is ignored when average != 'binary' (got 'weighted'). You may use labels=[pos_label] to specify a single positive class.\n",
            "  % (pos_label, average), UserWarning)\n"
          ],
          "name": "stderr"
        }
      ]
    },
    {
      "cell_type": "code",
      "metadata": {
        "id": "wJ4WWye7JMU-",
        "colab_type": "code",
        "colab": {}
      },
      "source": [
        ""
      ],
      "execution_count": 0,
      "outputs": []
    }
  ]
}