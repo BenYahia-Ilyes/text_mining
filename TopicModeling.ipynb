{
  "nbformat": 4,
  "nbformat_minor": 0,
  "metadata": {
    "colab": {
      "name": "TopicModeling.ipynb",
      "provenance": [],
      "collapsed_sections": []
    },
    "kernelspec": {
      "name": "python3",
      "display_name": "Python 3"
    }
  },
  "cells": [
    {
      "cell_type": "code",
      "metadata": {
        "id": "JC7riftBTLQ4",
        "colab_type": "code",
        "colab": {}
      },
      "source": [
        ""
      ],
      "execution_count": 0,
      "outputs": []
    },
    {
      "cell_type": "markdown",
      "metadata": {
        "id": "DPaCYtjNX4qz",
        "colab_type": "text"
      },
      "source": [
        "# Text preprocessing and grouping by topic"
      ]
    },
    {
      "cell_type": "code",
      "metadata": {
        "id": "3WV5MpjgSGMR",
        "colab_type": "code",
        "outputId": "11749178-cf51-42dd-c733-27742a1e3d6d",
        "colab": {
          "base_uri": "https://localhost:8080/",
          "height": 120
        }
      },
      "source": [
        "from google.colab import drive\n",
        "drive.mount('/content/gdrive')\n"
      ],
      "execution_count": 0,
      "outputs": [
        {
          "output_type": "stream",
          "text": [
            "Go to this URL in a browser: https://accounts.google.com/o/oauth2/auth?client_id=947318989803-6bn6qk8qdgf4n4g3pfee6491hc0brc4i.apps.googleusercontent.com&redirect_uri=urn%3aietf%3awg%3aoauth%3a2.0%3aoob&response_type=code&scope=email%20https%3a%2f%2fwww.googleapis.com%2fauth%2fdocs.test%20https%3a%2f%2fwww.googleapis.com%2fauth%2fdrive%20https%3a%2f%2fwww.googleapis.com%2fauth%2fdrive.photos.readonly%20https%3a%2f%2fwww.googleapis.com%2fauth%2fpeopleapi.readonly\n",
            "\n",
            "Enter your authorization code:\n",
            "··········\n",
            "Mounted at /content/gdrive\n"
          ],
          "name": "stdout"
        }
      ]
    },
    {
      "cell_type": "code",
      "metadata": {
        "id": "SzT1UrUSeiLl",
        "colab_type": "code",
        "colab": {}
      },
      "source": [
        "import os\n",
        "os.chdir('gdrive/My Drive/text_mining/Projet')"
      ],
      "execution_count": 0,
      "outputs": []
    },
    {
      "cell_type": "code",
      "metadata": {
        "id": "an80-Oik3X0l",
        "colab_type": "code",
        "outputId": "a85d2583-8b68-41a7-e73b-37e0f6c7ed1a",
        "colab": {
          "base_uri": "https://localhost:8080/",
          "height": 50
        }
      },
      "source": [
        "!ls"
      ],
      "execution_count": 0,
      "outputs": [
        {
          "output_type": "stream",
          "text": [
            "'BBC News Sample Solution.csv'\t'BBC News Train.csv'\n",
            "'BBC News Test.csv'\t\t my-submission.csv\n"
          ],
          "name": "stdout"
        }
      ]
    },
    {
      "cell_type": "code",
      "metadata": {
        "id": "7ub6mtjXfyjH",
        "colab_type": "code",
        "colab": {}
      },
      "source": [
        "\n",
        "import numpy as np\n",
        "import pandas as pd"
      ],
      "execution_count": 0,
      "outputs": []
    },
    {
      "cell_type": "code",
      "metadata": {
        "id": "2wzqEFk7gEvg",
        "colab_type": "code",
        "colab": {}
      },
      "source": [
        "news = pd.read_csv ('BBC News Train.csv')\n",
        "\n"
      ],
      "execution_count": 0,
      "outputs": []
    },
    {
      "cell_type": "code",
      "metadata": {
        "id": "NgcjG65OgLtz",
        "colab_type": "code",
        "outputId": "69088212-cfc7-4522-9cfe-66a0321cb754",
        "colab": {
          "base_uri": "https://localhost:8080/",
          "height": 196
        }
      },
      "source": [
        "news.head()"
      ],
      "execution_count": 0,
      "outputs": [
        {
          "output_type": "execute_result",
          "data": {
            "text/html": [
              "<div>\n",
              "<style scoped>\n",
              "    .dataframe tbody tr th:only-of-type {\n",
              "        vertical-align: middle;\n",
              "    }\n",
              "\n",
              "    .dataframe tbody tr th {\n",
              "        vertical-align: top;\n",
              "    }\n",
              "\n",
              "    .dataframe thead th {\n",
              "        text-align: right;\n",
              "    }\n",
              "</style>\n",
              "<table border=\"1\" class=\"dataframe\">\n",
              "  <thead>\n",
              "    <tr style=\"text-align: right;\">\n",
              "      <th></th>\n",
              "      <th>ArticleId</th>\n",
              "      <th>Text</th>\n",
              "      <th>Category</th>\n",
              "    </tr>\n",
              "  </thead>\n",
              "  <tbody>\n",
              "    <tr>\n",
              "      <th>0</th>\n",
              "      <td>1833</td>\n",
              "      <td>worldcom ex-boss launches defence lawyers defe...</td>\n",
              "      <td>business</td>\n",
              "    </tr>\n",
              "    <tr>\n",
              "      <th>1</th>\n",
              "      <td>154</td>\n",
              "      <td>german business confidence slides german busin...</td>\n",
              "      <td>business</td>\n",
              "    </tr>\n",
              "    <tr>\n",
              "      <th>2</th>\n",
              "      <td>1101</td>\n",
              "      <td>bbc poll indicates economic gloom citizens in ...</td>\n",
              "      <td>business</td>\n",
              "    </tr>\n",
              "    <tr>\n",
              "      <th>3</th>\n",
              "      <td>1976</td>\n",
              "      <td>lifestyle  governs mobile choice  faster  bett...</td>\n",
              "      <td>tech</td>\n",
              "    </tr>\n",
              "    <tr>\n",
              "      <th>4</th>\n",
              "      <td>917</td>\n",
              "      <td>enron bosses in $168m payout eighteen former e...</td>\n",
              "      <td>business</td>\n",
              "    </tr>\n",
              "  </tbody>\n",
              "</table>\n",
              "</div>"
            ],
            "text/plain": [
              "   ArticleId                                               Text  Category\n",
              "0       1833  worldcom ex-boss launches defence lawyers defe...  business\n",
              "1        154  german business confidence slides german busin...  business\n",
              "2       1101  bbc poll indicates economic gloom citizens in ...  business\n",
              "3       1976  lifestyle  governs mobile choice  faster  bett...      tech\n",
              "4        917  enron bosses in $168m payout eighteen former e...  business"
            ]
          },
          "metadata": {
            "tags": []
          },
          "execution_count": 6
        }
      ]
    },
    {
      "cell_type": "code",
      "metadata": {
        "id": "W6e-uQy5hK1M",
        "colab_type": "code",
        "colab": {}
      },
      "source": [
        "news=news[['Category','Text']]"
      ],
      "execution_count": 0,
      "outputs": []
    },
    {
      "cell_type": "code",
      "metadata": {
        "id": "T88n21ZygkS1",
        "colab_type": "code",
        "outputId": "bd3c1b4c-d09e-4bb9-b7d3-2ff7142e038d",
        "colab": {
          "base_uri": "https://localhost:8080/",
          "height": 50
        }
      },
      "source": [
        "import re\n",
        "import nltk\n",
        "nltk.download('stopwords')\n",
        "#used once to download stopwords.\n",
        "from nltk.corpus import stopwords\n",
        "from nltk.stem.porter import PorterStemmer"
      ],
      "execution_count": 0,
      "outputs": [
        {
          "output_type": "stream",
          "text": [
            "[nltk_data] Downloading package stopwords to /root/nltk_data...\n",
            "[nltk_data]   Unzipping corpora/stopwords.zip.\n"
          ],
          "name": "stdout"
        }
      ]
    },
    {
      "cell_type": "code",
      "metadata": {
        "id": "m8AoQEo9hyrn",
        "colab_type": "code",
        "colab": {}
      },
      "source": [
        "#cleaning and preprocessing\n",
        "\n",
        "for i in range(0,len(news['Text'])):\n",
        "\n",
        "  feed = re.sub('[^a-zA-Z]',' ',news['Text'][i])\n",
        "  feed = feed.lower()\n",
        "  feed = feed.split()\n",
        "  ps = PorterStemmer()\n",
        "  feed = [ps.stem(word) for word in feed if not word in set(stopwords.words('english'))]\n",
        "  feed = ' '.join(feed)\n",
        "\n",
        "  news['Text'][i]=feed\n",
        "\n"
      ],
      "execution_count": 0,
      "outputs": []
    },
    {
      "cell_type": "code",
      "metadata": {
        "id": "BWkq0tizU-R-",
        "colab_type": "code",
        "colab": {}
      },
      "source": [
        "groups = news.groupby('Category') \n"
      ],
      "execution_count": 0,
      "outputs": []
    },
    {
      "cell_type": "code",
      "metadata": {
        "id": "Qx2ZQ9phVdyS",
        "colab_type": "code",
        "outputId": "3788757f-5b42-4e7e-898d-b778ea3752a9",
        "colab": {
          "base_uri": "https://localhost:8080/",
          "height": 226
        }
      },
      "source": [
        "groups.first()"
      ],
      "execution_count": 0,
      "outputs": [
        {
          "output_type": "execute_result",
          "data": {
            "text/html": [
              "<div>\n",
              "<style scoped>\n",
              "    .dataframe tbody tr th:only-of-type {\n",
              "        vertical-align: middle;\n",
              "    }\n",
              "\n",
              "    .dataframe tbody tr th {\n",
              "        vertical-align: top;\n",
              "    }\n",
              "\n",
              "    .dataframe thead th {\n",
              "        text-align: right;\n",
              "    }\n",
              "</style>\n",
              "<table border=\"1\" class=\"dataframe\">\n",
              "  <thead>\n",
              "    <tr style=\"text-align: right;\">\n",
              "      <th></th>\n",
              "      <th>Text</th>\n",
              "    </tr>\n",
              "    <tr>\n",
              "      <th>Category</th>\n",
              "      <th></th>\n",
              "    </tr>\n",
              "  </thead>\n",
              "  <tbody>\n",
              "    <tr>\n",
              "      <th>business</th>\n",
              "      <td>worldcom ex boss launch defenc lawyer defend f...</td>\n",
              "    </tr>\n",
              "    <tr>\n",
              "      <th>entertainment</th>\n",
              "      <td>french honour director parker british film dir...</td>\n",
              "    </tr>\n",
              "    <tr>\n",
              "      <th>politics</th>\n",
              "      <td>howard truant play snooker conserv leader mich...</td>\n",
              "    </tr>\n",
              "    <tr>\n",
              "      <th>sport</th>\n",
              "      <td>wale silent grand slam talk rhi william say wa...</td>\n",
              "    </tr>\n",
              "    <tr>\n",
              "      <th>tech</th>\n",
              "      <td>lifestyl govern mobil choic faster better funk...</td>\n",
              "    </tr>\n",
              "  </tbody>\n",
              "</table>\n",
              "</div>"
            ],
            "text/plain": [
              "                                                            Text\n",
              "Category                                                        \n",
              "business       worldcom ex boss launch defenc lawyer defend f...\n",
              "entertainment  french honour director parker british film dir...\n",
              "politics       howard truant play snooker conserv leader mich...\n",
              "sport          wale silent grand slam talk rhi william say wa...\n",
              "tech           lifestyl govern mobil choic faster better funk..."
            ]
          },
          "metadata": {
            "tags": []
          },
          "execution_count": 11
        }
      ]
    },
    {
      "cell_type": "code",
      "metadata": {
        "id": "ETTWjxYWUq35",
        "colab_type": "code",
        "colab": {}
      },
      "source": [
        "tech=groups.get_group('tech') \n",
        "business=groups.get_group('business') \n",
        "entertainment=groups.get_group('entertainment') \n",
        "politics=groups.get_group('politics') \n",
        "sport=groups.get_group('sport') \n"
      ],
      "execution_count": 0,
      "outputs": []
    },
    {
      "cell_type": "code",
      "metadata": {
        "id": "opWy9fZ_U2BX",
        "colab_type": "code",
        "outputId": "4898deb3-1f07-4490-9372-ff151493eda7",
        "colab": {
          "base_uri": "https://localhost:8080/",
          "height": 33
        }
      },
      "source": [
        "len(tech),len(business),len(entertainment),len(politics),len(sport)"
      ],
      "execution_count": 0,
      "outputs": [
        {
          "output_type": "execute_result",
          "data": {
            "text/plain": [
              "(261, 336, 273, 274, 346)"
            ]
          },
          "metadata": {
            "tags": []
          },
          "execution_count": 13
        }
      ]
    },
    {
      "cell_type": "markdown",
      "metadata": {
        "id": "eLHjbDiKYGzZ",
        "colab_type": "text"
      },
      "source": [
        "# topic modeling for tech articals"
      ]
    },
    {
      "cell_type": "code",
      "metadata": {
        "id": "yKODXTr6WkwX",
        "colab_type": "code",
        "colab": {}
      },
      "source": [
        "from sklearn.feature_extraction.text import CountVectorizer\n",
        "from sklearn.decomposition import LatentDirichletAllocation\n"
      ],
      "execution_count": 0,
      "outputs": []
    },
    {
      "cell_type": "code",
      "metadata": {
        "id": "mjFo8jmcVwQ4",
        "colab_type": "code",
        "colab": {}
      },
      "source": [
        "count_vect = CountVectorizer()\n",
        "tech_term_matrix = count_vect.fit_transform(tech['Text'])"
      ],
      "execution_count": 0,
      "outputs": []
    },
    {
      "cell_type": "code",
      "metadata": {
        "id": "JgapTferWup5",
        "colab_type": "code",
        "outputId": "cb0fd747-cfbc-448e-cdb5-0fca6d759758",
        "colab": {
          "base_uri": "https://localhost:8080/",
          "height": 33
        }
      },
      "source": [
        "tech_term_matrix.shape"
      ],
      "execution_count": 0,
      "outputs": [
        {
          "output_type": "execute_result",
          "data": {
            "text/plain": [
              "(261, 6243)"
            ]
          },
          "metadata": {
            "tags": []
          },
          "execution_count": 16
        }
      ]
    },
    {
      "cell_type": "code",
      "metadata": {
        "id": "4-Az4YSZXGxz",
        "colab_type": "code",
        "outputId": "d08a4792-c6a4-435f-9999-26e0aafca2cd",
        "colab": {
          "base_uri": "https://localhost:8080/",
          "height": 134
        }
      },
      "source": [
        "LDA_tech = LatentDirichletAllocation(n_components=5, random_state=42)\n",
        "LDA_tech.fit(tech_term_matrix)"
      ],
      "execution_count": 0,
      "outputs": [
        {
          "output_type": "execute_result",
          "data": {
            "text/plain": [
              "LatentDirichletAllocation(batch_size=128, doc_topic_prior=None,\n",
              "                          evaluate_every=-1, learning_decay=0.7,\n",
              "                          learning_method='batch', learning_offset=10.0,\n",
              "                          max_doc_update_iter=100, max_iter=10,\n",
              "                          mean_change_tol=0.001, n_components=5, n_jobs=None,\n",
              "                          perp_tol=0.1, random_state=42, topic_word_prior=None,\n",
              "                          total_samples=1000000.0, verbose=0)"
            ]
          },
          "metadata": {
            "tags": []
          },
          "execution_count": 27
        }
      ]
    },
    {
      "cell_type": "code",
      "metadata": {
        "id": "97geLnk7XQZH",
        "colab_type": "code",
        "outputId": "e21cbafb-1479-4249-a18f-78ad63e6f00d",
        "colab": {
          "base_uri": "https://localhost:8080/",
          "height": 351
        }
      },
      "source": [
        "for i,topic in enumerate(LDA_tech.components_):\n",
        "  print(f'Top 10 words for topic #{i}:')\n",
        "  print([count_vect.get_feature_names()[i] for i in topic.argsort()[-10:]])\n",
        "  print('\\n')"
      ],
      "execution_count": 0,
      "outputs": [
        {
          "output_type": "stream",
          "text": [
            "Top 10 words for topic #0:\n",
            "['betsen', 'auxerr', 'jorg', 'newham', 'function', 'fifa', 'romanian', 'paphiti', 'sloppi', 'llewellyn']\n",
            "\n",
            "\n",
            "Top 10 words for topic #1:\n",
            "['paphiti', 'verg', 'comeback', 'schuettler', 'santini', 'simpli', 'unsubstanti', 'overhaul', 'unstructur', 'romanian']\n",
            "\n",
            "\n",
            "Top 10 words for topic #2:\n",
            "['trickl', 'wreck', 'peck', 'swipe', 'overhaul', 'desper', 'mid', 'mcenro', 'romanian', 'function']\n",
            "\n",
            "\n",
            "Top 10 words for topic #3:\n",
            "['wreck', 'unruffl', 'swipe', 'betray', 'paphiti', 'sampl', 'mistim', 'overhaul', 'unstructur', 'romanian']\n",
            "\n",
            "\n",
            "Top 10 words for topic #4:\n",
            "['unruffl', 'correctli', 'overhaul', 'dwarf', 'schuettler', 'indiscret', 'unveil', 'share', 'swipe', 'unstructur']\n",
            "\n",
            "\n"
          ],
          "name": "stdout"
        }
      ]
    },
    {
      "cell_type": "code",
      "metadata": {
        "id": "inhfN3KmXUrl",
        "colab_type": "code",
        "colab": {}
      },
      "source": [
        ""
      ],
      "execution_count": 0,
      "outputs": []
    },
    {
      "cell_type": "markdown",
      "metadata": {
        "id": "DSpKU-FFYPd9",
        "colab_type": "text"
      },
      "source": [
        "# Topic modeling for sports articals"
      ]
    },
    {
      "cell_type": "code",
      "metadata": {
        "id": "jaT15Y1YYTlm",
        "colab_type": "code",
        "colab": {}
      },
      "source": [
        ""
      ],
      "execution_count": 0,
      "outputs": []
    },
    {
      "cell_type": "code",
      "metadata": {
        "colab_type": "code",
        "id": "nhoDzN8aYT0o",
        "colab": {}
      },
      "source": [
        "count_vect = CountVectorizer()\n",
        "sport_term_matrix = count_vect.fit_transform(sport['Text'])"
      ],
      "execution_count": 0,
      "outputs": []
    },
    {
      "cell_type": "code",
      "metadata": {
        "colab_type": "code",
        "outputId": "f54a1126-50cd-44e2-b2f1-fcbb7d068f99",
        "id": "neyYc13OYT0q",
        "colab": {
          "base_uri": "https://localhost:8080/",
          "height": 33
        }
      },
      "source": [
        "sport_term_matrix.shape"
      ],
      "execution_count": 0,
      "outputs": [
        {
          "output_type": "execute_result",
          "data": {
            "text/plain": [
              "(346, 6282)"
            ]
          },
          "metadata": {
            "tags": []
          },
          "execution_count": 20
        }
      ]
    },
    {
      "cell_type": "code",
      "metadata": {
        "colab_type": "code",
        "outputId": "1176cc59-c1a4-4c35-d315-1e6c4e0467cb",
        "id": "_UB0o7y1YT0t",
        "colab": {
          "base_uri": "https://localhost:8080/",
          "height": 134
        }
      },
      "source": [
        "LDA_sport = LatentDirichletAllocation(n_components=3, random_state=42)\n",
        "LDA_sport.fit(sport_term_matrix)"
      ],
      "execution_count": 0,
      "outputs": [
        {
          "output_type": "execute_result",
          "data": {
            "text/plain": [
              "LatentDirichletAllocation(batch_size=128, doc_topic_prior=None,\n",
              "                          evaluate_every=-1, learning_decay=0.7,\n",
              "                          learning_method='batch', learning_offset=10.0,\n",
              "                          max_doc_update_iter=100, max_iter=10,\n",
              "                          mean_change_tol=0.001, n_components=3, n_jobs=None,\n",
              "                          perp_tol=0.1, random_state=42, topic_word_prior=None,\n",
              "                          total_samples=1000000.0, verbose=0)"
            ]
          },
          "metadata": {
            "tags": []
          },
          "execution_count": 21
        }
      ]
    },
    {
      "cell_type": "code",
      "metadata": {
        "colab_type": "code",
        "outputId": "ab01e966-459d-4647-970b-87e0f1b98e99",
        "id": "vU1Tv7dXYT0v",
        "colab": {
          "base_uri": "https://localhost:8080/",
          "height": 217
        }
      },
      "source": [
        "for i,topic in enumerate(LDA_sport.components_):\n",
        "  print(f'Top 10 words for topic #{i}:')\n",
        "  print([count_vect.get_feature_names()[i] for i in topic.argsort()[-10:]])\n",
        "  print('\\n')"
      ],
      "execution_count": 0,
      "outputs": [
        {
          "output_type": "stream",
          "text": [
            "Top 10 words for topic #0:\n",
            "['time', 'new', 'england', 'team', 'game', 'wale', 'win', 'world', 'said', 'year']\n",
            "\n",
            "\n",
            "Top 10 words for topic #1:\n",
            "['final', 'open', 'england', 'time', 'year', 'first', 'game', 'win', 'play', 'said']\n",
            "\n",
            "\n",
            "Top 10 words for topic #2:\n",
            "['olymp', 'athlet', 'ferguson', 'ban', 'drug', 'arsen', 'test', 'game', 'unit', 'said']\n",
            "\n",
            "\n"
          ],
          "name": "stdout"
        }
      ]
    },
    {
      "cell_type": "code",
      "metadata": {
        "id": "6DWcNNgpYlFF",
        "colab_type": "code",
        "outputId": "34b85a06-4ab9-4b6f-b38f-6ed2cbaa25fc",
        "colab": {
          "base_uri": "https://localhost:8080/",
          "height": 128
        }
      },
      "source": [
        "de meme ..."
      ],
      "execution_count": 0,
      "outputs": [
        {
          "output_type": "error",
          "ename": "SyntaxError",
          "evalue": "ignored",
          "traceback": [
            "\u001b[0;36m  File \u001b[0;32m\"<ipython-input-23-03f72d45aba6>\"\u001b[0;36m, line \u001b[0;32m1\u001b[0m\n\u001b[0;31m    de meme ...\u001b[0m\n\u001b[0m          ^\u001b[0m\n\u001b[0;31mSyntaxError\u001b[0m\u001b[0;31m:\u001b[0m invalid syntax\n"
          ]
        }
      ]
    }
  ]
}